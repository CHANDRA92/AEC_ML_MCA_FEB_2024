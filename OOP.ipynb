{
 "cells": [
  {
   "cell_type": "markdown",
   "id": "c7085db7-a891-4e33-960c-c200a1847344",
   "metadata": {},
   "source": [
    "# **Object Oriented Programming in Python**"
   ]
  },
  {
   "cell_type": "markdown",
   "id": "01d64b13-7c37-436b-b5ea-2cb89f4ec6a7",
   "metadata": {},
   "source": [
    "> **Procedural languages lack in encapsulation, difficult to manage when code size is >= 10 KLOC. Here variables are unprotected, no automatic memory management by deleting dereferenced variables.**"
   ]
  },
  {
   "cell_type": "code",
   "execution_count": 1,
   "id": "40a19545-9d80-4854-8c0f-97ff9f7697e5",
   "metadata": {},
   "outputs": [],
   "source": [
    "class MyFirstClass:\n",
    "    pass\n",
    "\n",
    "ob1 = MyFirstClass()"
   ]
  },
  {
   "cell_type": "code",
   "execution_count": 2,
   "id": "6b000d00-01f8-4a33-a8c2-a54903b73315",
   "metadata": {},
   "outputs": [
    {
     "name": "stdout",
     "output_type": "stream",
     "text": [
      "This is a document string.\n",
      "    This is a multi-line text...\n",
      "This is a document string.\n",
      "    This is a multi-line text...\n"
     ]
    }
   ],
   "source": [
    "class MyFirstClass:\n",
    "    '''This is a document string.\n",
    "    This is a multi-line text...'''\n",
    "    \n",
    "ob1 = MyFirstClass()\n",
    "print(ob1.__doc__)\n",
    "print(MyFirstClass.__doc__)"
   ]
  },
  {
   "cell_type": "code",
   "execution_count": 11,
   "id": "c82a4106-7871-4a10-9730-a714750f3b4b",
   "metadata": {},
   "outputs": [
    {
     "name": "stdout",
     "output_type": "stream",
     "text": [
      "Executing the constructor method...\n",
      "self: <__main__.MyFirstClass object at 0x0000027D6DF70520> <class '__main__.MyFirstClass'>\n",
      "This is a document string...\n",
      "This is a document string...\n",
      "Executing the display method...\n",
      "Class variable values are 100 and 200...\n",
      "Class varibale values are 100 and 200... \n",
      "Instane variable values afe 111 and 222...\n",
      "Executing the constructor method...\n",
      "self: <__main__.MyFirstClass object at 0x0000027D6C45C430> <class '__main__.MyFirstClass'>\n",
      "Executing the display method...\n",
      "Class variable values are 100 and 200...\n",
      "Class varibale values are 100 and 200... \n",
      "Instane variable values afe 333 and 444...\n"
     ]
    }
   ],
   "source": [
    "class MyFirstClass:\n",
    "    \"\"\"This is a document string...\"\"\"\n",
    "    class_var1 = 100   # class or static variable\n",
    "    class_var2 = 200\n",
    "    def __init__(self, data1, data2):    # constructor method    positional parameters\n",
    "        print(\"Executing the constructor method...\")   # self is called an object binding variable\n",
    "        print(\"self:\", self, type(self))\n",
    "        self.inst_var1 = data1   # instance variable\n",
    "        self.inst_var2 = data2\n",
    "    def display(self):\n",
    "        print(\"Executing the display method...\")\n",
    "        print(f\"Class variable values are {MyFirstClass.class_var1} and {MyFirstClass.class_var2}...\")\n",
    "        print(f\"Class varibale values are {self.class_var1} and {self.class_var2}... \")\n",
    "        print(f\"Instane variable values afe {self.inst_var1} and {self.inst_var2}...\")\n",
    "        \n",
    "ob1 = MyFirstClass(111, 222)  # positional arguments\n",
    "print(ob1.__doc__)\n",
    "print(MyFirstClass.__doc__)\n",
    "ob1.display()\n",
    "ob2 = MyFirstClass(333, 444)\n",
    "ob2.display()"
   ]
  },
  {
   "cell_type": "code",
   "execution_count": 13,
   "id": "48c5ed2e-ec10-43a6-a5d0-1aa0101515cb",
   "metadata": {},
   "outputs": [
    {
     "name": "stdout",
     "output_type": "stream",
     "text": [
      "Executing the constructor method...\n",
      "Executing the display method...\n",
      "Class varibale values are 100 and 200... \n",
      "Instane variable values afe 111 and 222...\n",
      "Executing the constructor method...\n",
      "Executing the display method...\n",
      "Class varibale values are 100 and 200... \n",
      "Instane variable values afe 333 and 444...\n",
      "\n",
      "Updating class variable...\n",
      "Executing the display method...\n",
      "Class varibale values are 200 and 300... \n",
      "Instane variable values afe 111 and 222...\n"
     ]
    }
   ],
   "source": [
    "class MyFirstClass:\n",
    "    \"\"\"This is a document string...\"\"\"\n",
    "    class_var1 = 100   # class or static variable\n",
    "    class_var2 = 200\n",
    "    def __init__(self, data1, data2):    # constructor method    positional parameters\n",
    "        print(\"Executing the constructor method...\")   # self is called an object binding variable\n",
    "        self.inst_var1 = data1   # instance variable\n",
    "        self.inst_var2 = data2\n",
    "    def display(self):\n",
    "        print(\"Executing the display method...\")\n",
    "        print(f\"Class varibale values are {self.class_var1} and {self.class_var2}... \")\n",
    "        print(f\"Instane variable values afe {self.inst_var1} and {self.inst_var2}...\")\n",
    "    def update(self):\n",
    "        print(\"Updating class variable...\")\n",
    "        MyFirstClass.class_var1 += 100\n",
    "        MyFirstClass.class_var2 += 100\n",
    "        \n",
    "ob1 = MyFirstClass(111, 222)  # positional arguments\n",
    "ob1.display()\n",
    "ob2 = MyFirstClass(333, 444)\n",
    "ob2.display()\n",
    "print ()\n",
    "ob2.update()\n",
    "ob1.display()"
   ]
  },
  {
   "cell_type": "code",
   "execution_count": 21,
   "id": "a37ec42a-cb53-47f8-bccd-84e396c3fc03",
   "metadata": {},
   "outputs": [
    {
     "name": "stdout",
     "output_type": "stream",
     "text": [
      "Executing the constructor method...\n",
      "Destructor method is executing...\n",
      "Executing the display method...\n",
      "Class varibale values are 100 and 200... \n",
      "Instane variable values afe 111 and 222...\n",
      "\n",
      "Executing the constructor method...\n",
      "Destructor method is executing...\n",
      "Executing the display method...\n",
      "Class varibale values are 100 and 200... \n",
      "Instane variable values afe 333 and 444...\n"
     ]
    }
   ],
   "source": [
    "class MyFirstClass:\n",
    "    \"\"\"This is a document string...\"\"\"\n",
    "    class_var1 = 100   # class or static variable\n",
    "    class_var2 = 200\n",
    "    def __init__(self, data1, data2):    # constructor method    positional parameters\n",
    "        print(\"Executing the constructor method...\")   # self is called an object binding variable\n",
    "        self.inst_var1 = data1   # instance variable\n",
    "        self.inst_var2 = data2\n",
    "    def display(self):\n",
    "        print(\"Executing the display method...\")\n",
    "        print(f\"Class varibale values are {self.class_var1} and {self.class_var2}... \")\n",
    "        print(f\"Instane variable values afe {self.inst_var1} and {self.inst_var2}...\")\n",
    "    def __del__(self):   # destructor method\n",
    "        print (\"Destructor method is executing...\")\n",
    "        \n",
    "ob1 = MyFirstClass(111, 222)  # positional arguments\n",
    "ob1.display()\n",
    "print ()\n",
    "ob2 = MyFirstClass(333, 444)\n",
    "ob2.display()"
   ]
  },
  {
   "cell_type": "code",
   "execution_count": 22,
   "id": "6a2d04ee-0f8f-4ba3-9d3b-dee86a46cba6",
   "metadata": {},
   "outputs": [
    {
     "name": "stdout",
     "output_type": "stream",
     "text": [
      "Destructor method is executing...\n"
     ]
    }
   ],
   "source": [
    "del ob1"
   ]
  },
  {
   "cell_type": "code",
   "execution_count": 23,
   "id": "86d0d76a-80bc-49b7-98d7-93c8c45c6c9b",
   "metadata": {},
   "outputs": [
    {
     "name": "stdout",
     "output_type": "stream",
     "text": [
      "Destructor method is executing...\n"
     ]
    }
   ],
   "source": [
    "del ob2"
   ]
  },
  {
   "cell_type": "code",
   "execution_count": 25,
   "id": "cb565601-5d1e-41cc-9064-fe3f2a8f66b8",
   "metadata": {},
   "outputs": [
    {
     "name": "stdout",
     "output_type": "stream",
     "text": [
      "So the number of objects defined under the class is 5...\n"
     ]
    }
   ],
   "source": [
    "# keeping the count of number of objects created against a class\n",
    "class MyClass:\n",
    "    count = 0   # defining a class variable and initialized with 0\n",
    "    def __init__(self):\n",
    "        MyClass.count += 1\n",
    "        \n",
    "ob1 = MyClass()\n",
    "ob2 = MyClass()\n",
    "ob3 = MyClass()\n",
    "ob4 = MyClass()\n",
    "ob5 = MyClass()\n",
    "print (f\"So the number of objects defined under the class is {MyClass.count}...\")"
   ]
  },
  {
   "cell_type": "code",
   "execution_count": 38,
   "id": "e5214918-d48a-4272-9211-a612eb941b17",
   "metadata": {},
   "outputs": [
    {
     "name": "stdout",
     "output_type": "stream",
     "text": [
      "Executing instance method: <__main__.MyClass object at 0x0000027D6C68D930>\n",
      "instVar = 100, classVar = 222 and classVar = 222...\n",
      "\n",
      "Executing class method <class '__main__.MyClass'>\n",
      "classVar = 333, classVar = 333\n",
      "Executing class method <class '__main__.MyClass'>\n",
      "classVar = 333, classVar = 333\n",
      "\n",
      "Executing static method...\n",
      "classVar = 444\n",
      "Executing static method...\n",
      "classVar = 444\n"
     ]
    }
   ],
   "source": [
    "# there are three different types of methods in Python: instance, class and static methods\n",
    "class MyClass:\n",
    "    classVar = 111    # class variable\n",
    "    # defining instance method\n",
    "    def instMethod(self):    # self is an object binding variable\n",
    "        print(\"Executing instance method:\", self)\n",
    "        self.instVar = 100   # instance variable\n",
    "        MyClass.classVar = 222\n",
    "        print(f\"instVar = {self.instVar}, classVar = {self.classVar} and classVar = {MyClass.classVar}...\")\n",
    "    # defining class method\n",
    "    @classmethod    # annotation or decorator\n",
    "    def classMethod(cla):    # cla is a class binding variable\n",
    "        print(\"Executing class method\", cla)\n",
    "        cla.classVar = 333\n",
    "        print(f\"classVar = {MyClass.classVar}, classVar = {cla.classVar}\")\n",
    "    # defining static method\n",
    "    @staticmethod   # annotation or decorator\n",
    "    def staticMethod():\n",
    "        print(\"Executing static method...\")\n",
    "        MyClass.classVar = 444\n",
    "        print(f\"classVar = {MyClass.classVar}\")\n",
    "ob1 = MyClass()\n",
    "ob1.instMethod()\n",
    "# MyClass.instMethod()    # ERROR\n",
    "print ()\n",
    "ob1.classMethod()\n",
    "MyClass.classMethod()\n",
    "print()\n",
    "MyClass.staticMethod()\n",
    "ob1.staticMethod()"
   ]
  },
  {
   "cell_type": "code",
   "execution_count": null,
   "id": "19dcb919-1285-4687-aa8d-2b214fe65dc1",
   "metadata": {},
   "outputs": [],
   "source": [
    "# built-in Python methods\n"
   ]
  },
  {
   "cell_type": "code",
   "execution_count": null,
   "id": "e1520b4e-7799-4b5d-ada9-12459f9a04af",
   "metadata": {},
   "outputs": [],
   "source": []
  },
  {
   "cell_type": "code",
   "execution_count": null,
   "id": "34449c64-f594-428b-b9db-edff2a322293",
   "metadata": {},
   "outputs": [],
   "source": []
  },
  {
   "cell_type": "code",
   "execution_count": null,
   "id": "7c7688fd-a992-45c9-8e08-b0632a8de6f3",
   "metadata": {},
   "outputs": [],
   "source": []
  },
  {
   "cell_type": "code",
   "execution_count": null,
   "id": "2d6d6263-c8c6-4aee-979f-3297889b7bc8",
   "metadata": {},
   "outputs": [],
   "source": []
  },
  {
   "cell_type": "code",
   "execution_count": null,
   "id": "3e98be94-d8d2-4cd5-b771-2913b5cb1ef0",
   "metadata": {},
   "outputs": [],
   "source": []
  },
  {
   "cell_type": "code",
   "execution_count": null,
   "id": "dc438102-7593-4eb1-9c52-5ef854728091",
   "metadata": {},
   "outputs": [],
   "source": []
  },
  {
   "cell_type": "code",
   "execution_count": null,
   "id": "d6f69ebb-a68e-4360-90ee-9f7f56edaea6",
   "metadata": {},
   "outputs": [],
   "source": []
  },
  {
   "cell_type": "code",
   "execution_count": null,
   "id": "35a039c6-97a3-4057-be66-8f0db30ef81c",
   "metadata": {},
   "outputs": [],
   "source": []
  },
  {
   "cell_type": "code",
   "execution_count": null,
   "id": "516f5e98-41d7-4bf0-902c-2f79b18d9055",
   "metadata": {},
   "outputs": [],
   "source": []
  },
  {
   "cell_type": "code",
   "execution_count": null,
   "id": "cdd28676-42ac-485a-bbf9-a3ec9a2390e3",
   "metadata": {},
   "outputs": [],
   "source": []
  },
  {
   "cell_type": "code",
   "execution_count": null,
   "id": "9c8c1fcc-0ef9-4440-9a3b-ba124a963b36",
   "metadata": {},
   "outputs": [],
   "source": []
  },
  {
   "cell_type": "code",
   "execution_count": null,
   "id": "4c7786ab-380b-43cc-98a1-9c4eea5a00f6",
   "metadata": {},
   "outputs": [],
   "source": []
  },
  {
   "cell_type": "code",
   "execution_count": null,
   "id": "4a277be0-de5e-4cab-8159-a5efbd13361f",
   "metadata": {},
   "outputs": [],
   "source": []
  },
  {
   "cell_type": "code",
   "execution_count": null,
   "id": "0d796eb9-83de-4a2f-a259-86a565908f77",
   "metadata": {},
   "outputs": [],
   "source": []
  },
  {
   "cell_type": "code",
   "execution_count": null,
   "id": "0462233a-ac66-4bb1-b884-eec2a8a51916",
   "metadata": {},
   "outputs": [],
   "source": []
  },
  {
   "cell_type": "code",
   "execution_count": null,
   "id": "974bf980-bb75-41d5-bc95-9ddde8e0c9ef",
   "metadata": {},
   "outputs": [],
   "source": []
  }
 ],
 "metadata": {
  "kernelspec": {
   "display_name": "Python 3 (ipykernel)",
   "language": "python",
   "name": "python3"
  },
  "language_info": {
   "codemirror_mode": {
    "name": "ipython",
    "version": 3
   },
   "file_extension": ".py",
   "mimetype": "text/x-python",
   "name": "python",
   "nbconvert_exporter": "python",
   "pygments_lexer": "ipython3",
   "version": "3.10.9"
  }
 },
 "nbformat": 4,
 "nbformat_minor": 5
}
