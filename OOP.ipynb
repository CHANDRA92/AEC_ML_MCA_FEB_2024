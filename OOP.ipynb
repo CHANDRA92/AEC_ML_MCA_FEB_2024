{
 "cells": [
  {
   "cell_type": "markdown",
   "id": "c7085db7-a891-4e33-960c-c200a1847344",
   "metadata": {},
   "source": [
    "# **Object Oriented Programming in Python**"
   ]
  },
  {
   "cell_type": "markdown",
   "id": "01d64b13-7c37-436b-b5ea-2cb89f4ec6a7",
   "metadata": {},
   "source": [
    "> **Procedural languages lack in encapsulation, difficult to manage when code size is >= 10 KLOC. Here variables are unprotected, no automatic memory management by deleting dereferenced variables.**"
   ]
  },
  {
   "cell_type": "code",
   "execution_count": 1,
   "id": "40a19545-9d80-4854-8c0f-97ff9f7697e5",
   "metadata": {},
   "outputs": [],
   "source": [
    "class MyFirstClass:\n",
    "    pass\n",
    "\n",
    "ob1 = MyFirstClass()"
   ]
  },
  {
   "cell_type": "code",
   "execution_count": 2,
   "id": "6b000d00-01f8-4a33-a8c2-a54903b73315",
   "metadata": {},
   "outputs": [
    {
     "name": "stdout",
     "output_type": "stream",
     "text": [
      "This is a document string.\n",
      "    This is a multi-line text...\n",
      "This is a document string.\n",
      "    This is a multi-line text...\n"
     ]
    }
   ],
   "source": [
    "class MyFirstClass:\n",
    "    '''This is a document string.\n",
    "    This is a multi-line text...'''\n",
    "    \n",
    "ob1 = MyFirstClass()\n",
    "print(ob1.__doc__)\n",
    "print(MyFirstClass.__doc__)"
   ]
  },
  {
   "cell_type": "code",
   "execution_count": 11,
   "id": "c82a4106-7871-4a10-9730-a714750f3b4b",
   "metadata": {},
   "outputs": [
    {
     "name": "stdout",
     "output_type": "stream",
     "text": [
      "Executing the constructor method...\n",
      "self: <__main__.MyFirstClass object at 0x0000027D6DF70520> <class '__main__.MyFirstClass'>\n",
      "This is a document string...\n",
      "This is a document string...\n",
      "Executing the display method...\n",
      "Class variable values are 100 and 200...\n",
      "Class varibale values are 100 and 200... \n",
      "Instane variable values afe 111 and 222...\n",
      "Executing the constructor method...\n",
      "self: <__main__.MyFirstClass object at 0x0000027D6C45C430> <class '__main__.MyFirstClass'>\n",
      "Executing the display method...\n",
      "Class variable values are 100 and 200...\n",
      "Class varibale values are 100 and 200... \n",
      "Instane variable values afe 333 and 444...\n"
     ]
    }
   ],
   "source": [
    "class MyFirstClass:\n",
    "    \"\"\"This is a document string...\"\"\"\n",
    "    class_var1 = 100   # class or static variable\n",
    "    class_var2 = 200\n",
    "    def __init__(self, data1, data2):    # constructor method    positional parameters\n",
    "        print(\"Executing the constructor method...\")   # self is called an object binding variable\n",
    "        print(\"self:\", self, type(self))\n",
    "        self.inst_var1 = data1   # instance variable\n",
    "        self.inst_var2 = data2\n",
    "    def display(self):\n",
    "        print(\"Executing the display method...\")\n",
    "        print(f\"Class variable values are {MyFirstClass.class_var1} and {MyFirstClass.class_var2}...\")\n",
    "        print(f\"Class varibale values are {self.class_var1} and {self.class_var2}... \")\n",
    "        print(f\"Instane variable values afe {self.inst_var1} and {self.inst_var2}...\")\n",
    "        \n",
    "ob1 = MyFirstClass(111, 222)  # positional arguments\n",
    "print(ob1.__doc__)\n",
    "print(MyFirstClass.__doc__)\n",
    "ob1.display()\n",
    "ob2 = MyFirstClass(333, 444)\n",
    "ob2.display()"
   ]
  },
  {
   "cell_type": "code",
   "execution_count": 13,
   "id": "48c5ed2e-ec10-43a6-a5d0-1aa0101515cb",
   "metadata": {},
   "outputs": [
    {
     "name": "stdout",
     "output_type": "stream",
     "text": [
      "Executing the constructor method...\n",
      "Executing the display method...\n",
      "Class varibale values are 100 and 200... \n",
      "Instane variable values afe 111 and 222...\n",
      "Executing the constructor method...\n",
      "Executing the display method...\n",
      "Class varibale values are 100 and 200... \n",
      "Instane variable values afe 333 and 444...\n",
      "\n",
      "Updating class variable...\n",
      "Executing the display method...\n",
      "Class varibale values are 200 and 300... \n",
      "Instane variable values afe 111 and 222...\n"
     ]
    }
   ],
   "source": [
    "class MyFirstClass:\n",
    "    \"\"\"This is a document string...\"\"\"\n",
    "    class_var1 = 100   # class or static variable\n",
    "    class_var2 = 200\n",
    "    def __init__(self, data1, data2):    # constructor method    positional parameters\n",
    "        print(\"Executing the constructor method...\")   # self is called an object binding variable\n",
    "        self.inst_var1 = data1   # instance variable\n",
    "        self.inst_var2 = data2\n",
    "    def display(self):\n",
    "        print(\"Executing the display method...\")\n",
    "        print(f\"Class varibale values are {self.class_var1} and {self.class_var2}... \")\n",
    "        print(f\"Instane variable values afe {self.inst_var1} and {self.inst_var2}...\")\n",
    "    def update(self):\n",
    "        print(\"Updating class variable...\")\n",
    "        MyFirstClass.class_var1 += 100\n",
    "        MyFirstClass.class_var2 += 100\n",
    "        \n",
    "ob1 = MyFirstClass(111, 222)  # positional arguments\n",
    "ob1.display()\n",
    "ob2 = MyFirstClass(333, 444)\n",
    "ob2.display()\n",
    "print ()\n",
    "ob2.update()\n",
    "ob1.display()"
   ]
  },
  {
   "cell_type": "code",
   "execution_count": 21,
   "id": "a37ec42a-cb53-47f8-bccd-84e396c3fc03",
   "metadata": {},
   "outputs": [
    {
     "name": "stdout",
     "output_type": "stream",
     "text": [
      "Executing the constructor method...\n",
      "Destructor method is executing...\n",
      "Executing the display method...\n",
      "Class varibale values are 100 and 200... \n",
      "Instane variable values afe 111 and 222...\n",
      "\n",
      "Executing the constructor method...\n",
      "Destructor method is executing...\n",
      "Executing the display method...\n",
      "Class varibale values are 100 and 200... \n",
      "Instane variable values afe 333 and 444...\n"
     ]
    }
   ],
   "source": [
    "class MyFirstClass:\n",
    "    \"\"\"This is a document string...\"\"\"\n",
    "    class_var1 = 100   # class or static variable\n",
    "    class_var2 = 200\n",
    "    def __init__(self, data1, data2):    # constructor method    positional parameters\n",
    "        print(\"Executing the constructor method...\")   # self is called an object binding variable\n",
    "        self.inst_var1 = data1   # instance variable\n",
    "        self.inst_var2 = data2\n",
    "    def display(self):\n",
    "        print(\"Executing the display method...\")\n",
    "        print(f\"Class varibale values are {self.class_var1} and {self.class_var2}... \")\n",
    "        print(f\"Instane variable values afe {self.inst_var1} and {self.inst_var2}...\")\n",
    "    def __del__(self):   # destructor method\n",
    "        print (\"Destructor method is executing...\")\n",
    "        \n",
    "ob1 = MyFirstClass(111, 222)  # positional arguments\n",
    "ob1.display()\n",
    "print ()\n",
    "ob2 = MyFirstClass(333, 444)\n",
    "ob2.display()"
   ]
  },
  {
   "cell_type": "code",
   "execution_count": 22,
   "id": "6a2d04ee-0f8f-4ba3-9d3b-dee86a46cba6",
   "metadata": {},
   "outputs": [
    {
     "name": "stdout",
     "output_type": "stream",
     "text": [
      "Destructor method is executing...\n"
     ]
    }
   ],
   "source": [
    "del ob1"
   ]
  },
  {
   "cell_type": "code",
   "execution_count": 23,
   "id": "86d0d76a-80bc-49b7-98d7-93c8c45c6c9b",
   "metadata": {},
   "outputs": [
    {
     "name": "stdout",
     "output_type": "stream",
     "text": [
      "Destructor method is executing...\n"
     ]
    }
   ],
   "source": [
    "del ob2"
   ]
  },
  {
   "cell_type": "code",
   "execution_count": 25,
   "id": "cb565601-5d1e-41cc-9064-fe3f2a8f66b8",
   "metadata": {},
   "outputs": [
    {
     "name": "stdout",
     "output_type": "stream",
     "text": [
      "So the number of objects defined under the class is 5...\n"
     ]
    }
   ],
   "source": [
    "# keeping the count of number of objects created against a class\n",
    "class MyClass:\n",
    "    count = 0   # defining a class variable and initialized with 0\n",
    "    def __init__(self):\n",
    "        MyClass.count += 1\n",
    "        \n",
    "ob1 = MyClass()\n",
    "ob2 = MyClass()\n",
    "ob3 = MyClass()\n",
    "ob4 = MyClass()\n",
    "ob5 = MyClass()\n",
    "print (f\"So the number of objects defined under the class is {MyClass.count}...\")"
   ]
  },
  {
   "cell_type": "code",
   "execution_count": 38,
   "id": "e5214918-d48a-4272-9211-a612eb941b17",
   "metadata": {},
   "outputs": [
    {
     "name": "stdout",
     "output_type": "stream",
     "text": [
      "Executing instance method: <__main__.MyClass object at 0x0000027D6C68D930>\n",
      "instVar = 100, classVar = 222 and classVar = 222...\n",
      "\n",
      "Executing class method <class '__main__.MyClass'>\n",
      "classVar = 333, classVar = 333\n",
      "Executing class method <class '__main__.MyClass'>\n",
      "classVar = 333, classVar = 333\n",
      "\n",
      "Executing static method...\n",
      "classVar = 444\n",
      "Executing static method...\n",
      "classVar = 444\n"
     ]
    }
   ],
   "source": [
    "# there are three different types of methods in Python: instance, class and static methods\n",
    "class MyClass:\n",
    "    classVar = 111    # class variable\n",
    "    # defining instance method\n",
    "    def instMethod(self):    # self is an object binding variable\n",
    "        print(\"Executing instance method:\", self)\n",
    "        self.instVar = 100   # instance variable\n",
    "        MyClass.classVar = 222\n",
    "        print(f\"instVar = {self.instVar}, classVar = {self.classVar} and classVar = {MyClass.classVar}...\")\n",
    "    # defining class method\n",
    "    @classmethod    # annotation or decorator\n",
    "    def classMethod(cla):    # cla is a class binding variable\n",
    "        print(\"Executing class method\", cla)\n",
    "        cla.classVar = 333\n",
    "        print(f\"classVar = {MyClass.classVar}, classVar = {cla.classVar}\")\n",
    "    # defining static method\n",
    "    @staticmethod   # annotation or decorator\n",
    "    def staticMethod():\n",
    "        print(\"Executing static method...\")\n",
    "        MyClass.classVar = 444\n",
    "        print(f\"classVar = {MyClass.classVar}\")\n",
    "ob1 = MyClass()\n",
    "ob1.instMethod()\n",
    "# MyClass.instMethod()    # ERROR\n",
    "print ()\n",
    "ob1.classMethod()\n",
    "MyClass.classMethod()\n",
    "print()\n",
    "MyClass.staticMethod()\n",
    "ob1.staticMethod()"
   ]
  },
  {
   "cell_type": "code",
   "execution_count": 20,
   "id": "19dcb919-1285-4687-aa8d-2b214fe65dc1",
   "metadata": {},
   "outputs": [
    {
     "name": "stdout",
     "output_type": "stream",
     "text": [
      "False True True\n",
      "True True\n",
      "100 111\n",
      "222 222\n",
      "333 333\n",
      "True False\n",
      "{'instVar1': 222, 'instVar2': 333}\n",
      "['__class__', '__delattr__', '__dict__', '__dir__', '__doc__', '__eq__', '__format__', '__ge__', '__getattribute__', '__gt__', '__hash__', '__init__', '__init_subclass__', '__le__', '__lt__', '__module__', '__ne__', '__new__', '__reduce__', '__reduce_ex__', '__repr__', '__setattr__', '__sizeof__', '__str__', '__subclasshook__', '__weakref__', 'classVar1', 'function1', 'function2', 'instVar1', 'instVar2']\n",
      "I am __str__() method is executing...\n",
      "I am __str__() method is executing...\n"
     ]
    }
   ],
   "source": [
    "# built-in Python methods\n",
    "class MyClass1:\n",
    "    def __init__(self):\n",
    "        print(\"Hello\")\n",
    "class MyClass2:\n",
    "    classVar1 = 100\n",
    "    def __init__(self):\n",
    "        self.instVar1 = 111\n",
    "    def function1(self):\n",
    "        print(\"instVar1 =\", self.instVar1)\n",
    "class MyClass3(MyClass2):\n",
    "    \"\"\"This is a document string...\"\"\"\n",
    "    def function2(self):\n",
    "        print(\"function2() is executing...\")\n",
    "    def __str__(self):\n",
    "        return \"I am __str__() method is executing...\"\n",
    "ob1 = MyClass3()\n",
    "print(isinstance(ob1, MyClass1), isinstance(ob1, MyClass2), isinstance(ob1, MyClass3))\n",
    "print(hasattr(ob1, \"classVar1\"), hasattr(ob1, \"instVar1\"))\n",
    "print(getattr(ob1, \"classVar1\"), getattr(ob1, \"instVar1\"))\n",
    "setattr(ob1, \"instVar1\", 222)  # it will create instVar1 if it is not pre-created or existing\n",
    "print(ob1.instVar1, getattr(ob1, \"instVar1\"))\n",
    "setattr(ob1, \"instVar2\", 333)  # it will create instVar1 if it is not pre-created or existing\n",
    "print(ob1.instVar2, getattr(ob1, \"instVar2\"))\n",
    "print(issubclass(MyClass3, MyClass2), issubclass(MyClass3, MyClass1))\n",
    "print(vars(ob1))   # returns a dictionary of attributes of the object\n",
    "print(dir(ob1))    # returns a list of all the attributes of the object\n",
    "print(ob1)\n",
    "print(ob1.__str__())"
   ]
  },
  {
   "cell_type": "code",
   "execution_count": 23,
   "id": "e1520b4e-7799-4b5d-ada9-12459f9a04af",
   "metadata": {},
   "outputs": [
    {
     "name": "stdout",
     "output_type": "stream",
     "text": [
      "This is a document string...\n",
      "__main__\n",
      "{'instVar1': 222, 'instVar2': 333}\n"
     ]
    }
   ],
   "source": [
    "# built in Python attributes\n",
    "print(ob1.__doc__)\n",
    "print(ob1.__module__)\n",
    "print(ob1.__dict__) "
   ]
  },
  {
   "cell_type": "code",
   "execution_count": 28,
   "id": "34449c64-f594-428b-b9db-edff2a322293",
   "metadata": {},
   "outputs": [
    {
     "name": "stdout",
     "output_type": "stream",
     "text": [
      "111\n",
      "222\n",
      "333\n",
      "Public Method is executing...\n",
      "Protected Method is executing...\n",
      "Private Method is executing...\n"
     ]
    }
   ],
   "source": [
    "# dealing with private, protected and public members\n",
    "class MyClass:\n",
    "    def __init__(self):\n",
    "        self.publicVar = 111\n",
    "        self._protectedVar = 222\n",
    "        self.__privateVar = 333\n",
    "    def publicMethod(self):\n",
    "        return \"Public Method is executing...\"\n",
    "    def _protectedMethod(self):\n",
    "        return \"Protected Method is executing...\"\n",
    "    def __privateMethod(self):\n",
    "        return \"Private Method is executing...\"\n",
    "    \n",
    "ob1 = MyClass()\n",
    "print (ob1.publicVar)\n",
    "print (ob1._protectedVar)\n",
    "print (ob1._MyClass__privateVar)\n",
    "print (ob1.publicMethod())\n",
    "print (ob1._protectedMethod())\n",
    "print (ob1._MyClass__privateMethod())"
   ]
  },
  {
   "cell_type": "markdown",
   "id": "fb35d106-b0d7-4c05-ac6d-587e8a4cd231",
   "metadata": {},
   "source": [
    "## **Dealing with Inheritance**"
   ]
  },
  {
   "cell_type": "code",
   "execution_count": 42,
   "id": "2d6d6263-c8c6-4aee-979f-3297889b7bc8",
   "metadata": {},
   "outputs": [
    {
     "name": "stdout",
     "output_type": "stream",
     "text": [
      "Derived: Constructor method is executing...\n",
      "Base: Constructor method is executing...\n",
      "Base: Constructor method is executing...\n",
      "Base: Constructor method is executing...\n",
      "Base: Constructor method is executing...\n",
      "Base: Constructor method is executing...\n",
      "\n",
      "Base: Display method is executing...\n",
      "Derived: Display method is executing...\n"
     ]
    }
   ],
   "source": [
    "# single inheritance\n",
    "class Base:\n",
    "    def __init__(self):\n",
    "        print(\"Base: Constructor method is executing...\")\n",
    "    def displayB(self):\n",
    "        print(\"Base: Display method is executing...\")\n",
    "class Derived(Base):\n",
    "    def __init__(self):\n",
    "        print(\"Derived: Constructor method is executing...\")\n",
    "        super().__init__()\n",
    "        Base.__init__(self)\n",
    "        super(Derived, self).__init__()\n",
    "        \n",
    "    def displayD(self):\n",
    "        print(\"Derived: Display method is executing...\")\n",
    "ob1 = Derived()\n",
    "Base.__init__(ob1)\n",
    "super(Derived, ob1).__init__()\n",
    "print()\n",
    "ob1.displayB()\n",
    "ob1.displayD()"
   ]
  },
  {
   "cell_type": "code",
   "execution_count": 48,
   "id": "3e98be94-d8d2-4cd5-b771-2913b5cb1ef0",
   "metadata": {},
   "outputs": [
    {
     "name": "stdout",
     "output_type": "stream",
     "text": [
      "Base: Constructor method is executing...\n",
      "Base: Display method is executing...\n",
      "Derived1: Display method is executing...\n",
      "Derived2: Display method is executing...\n",
      "Derived2: Function method is executing...\n",
      "Derived1: Function method is executing...\n",
      "Derived1: Function method is executing...\n",
      "Base: Function method is executing...\n"
     ]
    }
   ],
   "source": [
    "# multilevel inheritance\n",
    "class Base:\n",
    "    def __init__(self):\n",
    "        print(\"Base: Constructor method is executing...\")\n",
    "    def displayB(self):\n",
    "        print(\"Base: Display method is executing...\")\n",
    "    def function(self):\n",
    "        print(\"Base: Function method is executing...\")\n",
    "class Derived1(Base):        \n",
    "    def displayD1(self):\n",
    "        print(\"Derived1: Display method is executing...\")\n",
    "    def function(self):\n",
    "        print(\"Derived1: Function method is executing...\")\n",
    "class Derived2(Derived1):        \n",
    "    def displayD2(self):\n",
    "        print(\"Derived2: Display method is executing...\")\n",
    "    def function(self):\n",
    "        print(\"Derived2: Function method is executing...\")\n",
    "ob1 = Derived2()\n",
    "ob1.displayB()\n",
    "ob1.displayD1()\n",
    "ob1.displayD2()\n",
    "ob1.function()\n",
    "super(Derived2, ob1).function()\n",
    "Derived1.function(ob1)\n",
    "Base.function(ob1)"
   ]
  },
  {
   "cell_type": "code",
   "execution_count": 50,
   "id": "dc438102-7593-4eb1-9c52-5ef854728091",
   "metadata": {},
   "outputs": [
    {
     "name": "stdout",
     "output_type": "stream",
     "text": [
      "Base: Constructor method is executing...\n",
      "Base: Display method is executing...\n",
      "Derived1: Display method is executing...\n",
      "Derived1: Function method is executing...\n",
      "Base: Function method is executing...\n",
      "\n",
      "Base: Constructor method is executing...\n",
      "Base: Display method is executing...\n",
      "Derived2: Display method is executing...\n",
      "Derived2: Function method is executing...\n",
      "Base: Function method is executing...\n"
     ]
    }
   ],
   "source": [
    "# hierarchical inheritance\n",
    "class Base:\n",
    "    def __init__(self):\n",
    "        print(\"Base: Constructor method is executing...\")\n",
    "    def displayB(self):\n",
    "        print(\"Base: Display method is executing...\")\n",
    "    def function(self):\n",
    "        print(\"Base: Function method is executing...\")\n",
    "class Derived1(Base):        \n",
    "    def displayD1(self):\n",
    "        print(\"Derived1: Display method is executing...\")\n",
    "    def function(self):\n",
    "        print(\"Derived1: Function method is executing...\")\n",
    "class Derived2(Base):        \n",
    "    def displayD2(self):\n",
    "        print(\"Derived2: Display method is executing...\")\n",
    "    def function(self):\n",
    "        print(\"Derived2: Function method is executing...\")\n",
    "ob1 = Derived1()\n",
    "ob1.displayB()\n",
    "ob1.displayD1()\n",
    "ob1.function()\n",
    "Base.function(ob1)\n",
    "print()\n",
    "ob2 = Derived2()\n",
    "ob2.displayB()\n",
    "ob2.displayD2()\n",
    "ob2.function()\n",
    "Base.function(ob2)"
   ]
  },
  {
   "cell_type": "code",
   "execution_count": 54,
   "id": "d6f69ebb-a68e-4360-90ee-9f7f56edaea6",
   "metadata": {},
   "outputs": [
    {
     "name": "stdout",
     "output_type": "stream",
     "text": [
      "Base1: Constructor method is executing...\n",
      "Base1: Display method is executing...\n",
      "Base2: Display method is executing...\n",
      "Derived: Display method is executing...\n",
      "Base1: Function method is executing...\n"
     ]
    }
   ],
   "source": [
    "# multiple inheritance\n",
    "class Base1:\n",
    "    def __init__(self):\n",
    "        print(\"Base1: Constructor method is executing...\")\n",
    "    def displayB1(self):\n",
    "        print(\"Base1: Display method is executing...\")\n",
    "    def function(self):\n",
    "        print(\"Base1: Function method is executing...\")\n",
    "class Base2:\n",
    "    def __init__(self):\n",
    "        print(\"Base2: Constructor method is executing...\")\n",
    "    def displayB2(self):\n",
    "        print(\"Base2: Display method is executing...\")\n",
    "    def function(self):\n",
    "        print(\"Base2: Function method is executing...\")\n",
    "class Derived(Base1, Base2):    # it depends on \"Method Resolution Order (MRO)\"    \n",
    "    def displayD(self):\n",
    "        print(\"Derived: Display method is executing...\")\n",
    "ob1 = Derived()\n",
    "ob1.displayB1()\n",
    "ob1.displayB2()\n",
    "ob1.displayD()\n",
    "ob1.function()"
   ]
  },
  {
   "cell_type": "markdown",
   "id": "efb1e49d-6d96-42ca-b6c0-2e231539a0f6",
   "metadata": {},
   "source": [
    "### **Home Work**"
   ]
  },
  {
   "cell_type": "code",
   "execution_count": null,
   "id": "c850c898-dd89-47b1-a25d-e4f163c13b77",
   "metadata": {},
   "outputs": [],
   "source": [
    "# hybrid inheritance\n",
    "\n",
    "\n",
    "\n",
    "\n"
   ]
  },
  {
   "cell_type": "markdown",
   "id": "19e4928a-6914-4b93-b226-e1f6b6c27060",
   "metadata": {},
   "source": [
    "## **Operator Overloading**"
   ]
  },
  {
   "cell_type": "code",
   "execution_count": 59,
   "id": "516f5e98-41d7-4bf0-902c-2f79b18d9055",
   "metadata": {},
   "outputs": [
    {
     "name": "stdout",
     "output_type": "stream",
     "text": [
      "So 300 + 200 = 500\n",
      "So 300 + 200 = 500\n",
      "So 300 * 200 = 60000\n",
      "So 300 * 200 = 60000\n",
      "So 300 / 200 = 1.5\n",
      "So 300 / 200 = 1.5\n",
      "So 300 // 200 = 1\n",
      "So 300 // 200 = 1\n"
     ]
    }
   ],
   "source": [
    "a = 300\n",
    "b = 200\n",
    "result = a + b\n",
    "print(f\"So {a} + {b} = {result}\")\n",
    "result = a.__add__(b)\n",
    "print(f\"So {a} + {b} = {result}\")\n",
    "result = a * b\n",
    "print(f\"So {a} * {b} = {result}\")\n",
    "result = a.__mul__(b)\n",
    "print(f\"So {a} * {b} = {result}\")\n",
    "result = a / b   # float division\n",
    "print(f\"So {a} / {b} = {result}\")\n",
    "result = a.__truediv__(b)\n",
    "print(f\"So {a} / {b} = {result}\")\n",
    "result = a // b   # integer division\n",
    "print(f\"So {a} // {b} = {result}\")\n",
    "result = a.__floordiv__(b)\n",
    "print(f\"So {a} // {b} = {result}\")"
   ]
  },
  {
   "cell_type": "code",
   "execution_count": 60,
   "id": "cdd28676-42ac-485a-bbf9-a3ec9a2390e3",
   "metadata": {},
   "outputs": [
    {
     "name": "stdout",
     "output_type": "stream",
     "text": [
      "So 300 > 200 = True\n",
      "So 300 > 200 = True\n",
      "So 300 <= 200 = False\n",
      "So 300 <= 200 = False\n"
     ]
    }
   ],
   "source": [
    "a = 300\n",
    "b = 200\n",
    "result = a > b\n",
    "print(f\"So {a} > {b} = {result}\")\n",
    "result = a.__gt__(b)\n",
    "print(f\"So {a} > {b} = {result}\")\n",
    "result = a <= b\n",
    "print(f\"So {a} <= {b} = {result}\")\n",
    "result = a.__le__(b)\n",
    "print(f\"So {a} <= {b} = {result}\")"
   ]
  },
  {
   "cell_type": "code",
   "execution_count": 1,
   "id": "9c8c1fcc-0ef9-4440-9a3b-ba124a963b36",
   "metadata": {},
   "outputs": [
    {
     "name": "stdout",
     "output_type": "stream",
     "text": [
      "ob1.x = 12 and ob1.y = 4...\n",
      "ob2.x = 16 and ob2.y = 7...\n",
      "After poerforming the addition operation...\n",
      "result.x = 28 and result.y = 11\n",
      "True\n"
     ]
    }
   ],
   "source": [
    "class MyClass:\n",
    "    def __init__(self, xx, yy):\n",
    "        self.x = xx\n",
    "        self.y = yy\n",
    "    def __add__(self, ob):\n",
    "        temp = MyClass(0, 0)\n",
    "        temp.x = self.x + ob.x\n",
    "        temp.y = self.y + ob.y\n",
    "        return temp\n",
    "    def __gt__(self, ob):\n",
    "        temp = MyClass(0, 0)\n",
    "        temp.x = self.x + ob.x\n",
    "        temp.y = self.y + ob.y\n",
    "        return temp.x > temp.y\n",
    "    \n",
    "ob1 = MyClass(12, 4)\n",
    "ob2 = MyClass(16, 7)\n",
    "print(f\"ob1.x = {ob1.x} and ob1.y = {ob1.y}...\")\n",
    "print(f\"ob2.x = {ob2.x} and ob2.y = {ob2.y}...\")\n",
    "print(\"After poerforming the addition operation...\")\n",
    "result = ob1 + ob2\n",
    "print(f\"result.x = {result.x} and result.y = {result.y}\")\n",
    "result = ob1 > ob2\n",
    "print(result)"
   ]
  },
  {
   "cell_type": "markdown",
   "id": "92c42df7-3a30-4948-934e-295aef051ef2",
   "metadata": {},
   "source": [
    "## **Abstract Class and Interface**"
   ]
  },
  {
   "cell_type": "code",
   "execution_count": 2,
   "id": "4a277be0-de5e-4cab-8159-a5efbd13361f",
   "metadata": {},
   "outputs": [
    {
     "name": "stdout",
     "output_type": "stream",
     "text": [
      "Anstract class constructor...\n",
      "Abstract method is redefined...\n",
      "concreteMethod() is executing...\n"
     ]
    }
   ],
   "source": [
    "# abstract class\n",
    "from abc import ABC, abstractmethod    # here ABC stands for Abstract Base Class\n",
    "class MyAbstractBaseClass(ABC):\n",
    "    def __init__(self):\n",
    "        print(\"Anstract class constructor...\")\n",
    "    @abstractmethod\n",
    "    def abstractMethod(self):\n",
    "        pass    # pass is a statement placeholder\n",
    "    def concreteMethod(self):\n",
    "        print(\"concreteMethod() is executing...\")\n",
    "class Derived(MyAbstractBaseClass):\n",
    "    def abstractMethod(self):\n",
    "        print(\"Abstract method is redefined...\")\n",
    "ob1 = Derived()\n",
    "ob1.abstractMethod()\n",
    "ob1.concreteMethod()"
   ]
  },
  {
   "cell_type": "code",
   "execution_count": 4,
   "id": "5d70f979-50c9-4409-9c40-685f2d522956",
   "metadata": {},
   "outputs": [
    {
     "name": "stdout",
     "output_type": "stream",
     "text": [
      "Anstract class constructor...\n",
      "Abstract method is redefined...\n",
      "Initial content...\n",
      "concreteMethod() is executing...\n"
     ]
    }
   ],
   "source": [
    "# abstract class\n",
    "from abc import ABC, abstractmethod    # here ABC stands for Abstract Base Class\n",
    "class MyAbstractBaseClass(ABC):\n",
    "    def __init__(self):\n",
    "        print(\"Anstract class constructor...\")\n",
    "    @abstractmethod\n",
    "    def abstractMethod(self):\n",
    "        print(\"Initial content...\")\n",
    "    def concreteMethod(self):\n",
    "        print(\"concreteMethod() is executing...\")\n",
    "class Derived(MyAbstractBaseClass):\n",
    "    def abstractMethod(self):\n",
    "        print(\"Abstract method is redefined...\")\n",
    "        super().abstractMethod()\n",
    "ob1 = Derived()\n",
    "ob1.abstractMethod()\n",
    "ob1.concreteMethod()"
   ]
  },
  {
   "cell_type": "code",
   "execution_count": 8,
   "id": "0d796eb9-83de-4a2f-a259-86a565908f77",
   "metadata": {},
   "outputs": [
    {
     "name": "stdout",
     "output_type": "stream",
     "text": [
      "abstractMethod1() is redefined...\n",
      "abstractMethod2() is redefined...\n",
      "abstractMethod3() is redefined...\n"
     ]
    }
   ],
   "source": [
    "# dealing with interface\n",
    "from abc import ABC, abstractmethod    # here ABC stands for Abstract Base Class\n",
    "class MyInterface(ABC):\n",
    "    @abstractmethod\n",
    "    def abstractMethod1(self):\n",
    "        pass\n",
    "    @abstractmethod\n",
    "    def abstractMethod2(self):\n",
    "        pass\n",
    "    @abstractmethod\n",
    "    def abstractMethod3(self):\n",
    "        pass\n",
    "class Derived(MyInterface):\n",
    "    def abstractMethod1(self):\n",
    "        print(\"abstractMethod1() is redefined...\")\n",
    "    def abstractMethod2(self):\n",
    "        print(\"abstractMethod2() is redefined...\")\n",
    "    def abstractMethod3(self):\n",
    "        print(\"abstractMethod3() is redefined...\")\n",
    "\n",
    "ob1 = Derived()\n",
    "ob1.abstractMethod1()\n",
    "ob1.abstractMethod2()\n",
    "ob1.abstractMethod3()"
   ]
  },
  {
   "cell_type": "code",
   "execution_count": null,
   "id": "0462233a-ac66-4bb1-b884-eec2a8a51916",
   "metadata": {},
   "outputs": [],
   "source": []
  },
  {
   "cell_type": "code",
   "execution_count": null,
   "id": "974bf980-bb75-41d5-bc95-9ddde8e0c9ef",
   "metadata": {},
   "outputs": [],
   "source": []
  }
 ],
 "metadata": {
  "kernelspec": {
   "display_name": "Python 3 (ipykernel)",
   "language": "python",
   "name": "python3"
  },
  "language_info": {
   "codemirror_mode": {
    "name": "ipython",
    "version": 3
   },
   "file_extension": ".py",
   "mimetype": "text/x-python",
   "name": "python",
   "nbconvert_exporter": "python",
   "pygments_lexer": "ipython3",
   "version": "3.10.9"
  }
 },
 "nbformat": 4,
 "nbformat_minor": 5
}
