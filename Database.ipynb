{
 "cells": [
  {
   "cell_type": "markdown",
   "id": "c646c63c-b7cb-427f-80fe-6de737d7d019",
   "metadata": {},
   "source": [
    "# **Dealing with the Database**"
   ]
  },
  {
   "cell_type": "code",
   "execution_count": 2,
   "id": "7b65a6ce-a6c3-454b-b00f-b3e6559fa529",
   "metadata": {},
   "outputs": [],
   "source": [
    "# importing modules\n",
    "import sqlite3     # importing the required module"
   ]
  },
  {
   "cell_type": "code",
   "execution_count": 3,
   "id": "427c0508-89c5-46e3-90c3-227b54708314",
   "metadata": {},
   "outputs": [
    {
     "name": "stdout",
     "output_type": "stream",
     "text": [
      "Connected with the database successfully...\n"
     ]
    }
   ],
   "source": [
    "# creation of a database\n",
    "# use the database if it pre-exists or create it otherwise\n",
    "try:\n",
    "    connection = sqlite3.connect(\"myemp.db\")\n",
    "    print(\"Connected with the database successfully...\")\n",
    "except:\n",
    "    print(\"Unsuccessful database connectivity...\")"
   ]
  },
  {
   "cell_type": "markdown",
   "id": "16cac0d4-6a85-4514-963b-6fcc9ba3fe0d",
   "metadata": {},
   "source": [
    "* Search on Google with the search string \"sqlite manager\"\n",
    "* Required Link: https://extendsclass.com/sqlite-browser.html"
   ]
  },
  {
   "cell_type": "code",
   "execution_count": 4,
   "id": "d481c3f3-fdfc-4ffa-ac14-6b6c370a717e",
   "metadata": {},
   "outputs": [
    {
     "name": "stdout",
     "output_type": "stream",
     "text": [
      "The database table has been created successfully...\n"
     ]
    }
   ],
   "source": [
    "# creation of employee table with schema as employee(emp_id, emp_name, emp_city, emp_salary)\n",
    "sqlStr = '''\n",
    "         CREATE TABLE employee (\n",
    "             emp_id INTEGER PRIMARY KEY,\n",
    "             emp_name TEXT,\n",
    "             emp_city TEXT,\n",
    "             emp_salary REAL);\n",
    "         '''\n",
    "try:   # create the table if it does not pre-exist\n",
    "    connection.execute(sqlStr)\n",
    "    print(\"The database table has been created successfully...\")\n",
    "except:\n",
    "    print(\"Error !!! The database table could not be created...\")"
   ]
  },
  {
   "cell_type": "code",
   "execution_count": 8,
   "id": "f48140cd-f3fa-4bab-8d6c-d931a87e4cdc",
   "metadata": {},
   "outputs": [
    {
     "name": "stdout",
     "output_type": "stream",
     "text": [
      "<sqlite3.Cursor object at 0x000001E86AA5FAC0>\n",
      "[(0, 'emp_id', 'INTEGER', 0, None, 1), (1, 'emp_name', 'TEXT', 0, None, 0), (2, 'emp_city', 'TEXT', 0, None, 0), (3, 'emp_salary', 'REAL', 0, None, 0)]\n",
      "(0, 'emp_id', 'INTEGER', 0, None, 1)\n",
      "(1, 'emp_name', 'TEXT', 0, None, 0)\n",
      "(2, 'emp_city', 'TEXT', 0, None, 0)\n",
      "(3, 'emp_salary', 'REAL', 0, None, 0)\n"
     ]
    }
   ],
   "source": [
    "print(connection.execute('pragma table_info(\"employee\")'))\n",
    "print(list(connection.execute('pragma table_info(\"employee\")')))\n",
    "for each_row in connection.execute('pragma table_info(\"employee\")'):\n",
    "    print(each_row)"
   ]
  },
  {
   "cell_type": "code",
   "execution_count": 10,
   "id": "6e9f33c8-c9b4-44ba-b3dd-00115f7ded49",
   "metadata": {},
   "outputs": [
    {
     "name": "stdout",
     "output_type": "stream",
     "text": [
      "['1001', 'Dhiman', 'Kolkata', '39000']\n",
      "['1002', 'Anupam', 'Kolkata', '25000']\n",
      "['1003', 'Subham', 'Mumbai', '36000']\n",
      "['1004', 'Dinesh', 'Chennai', '28000']\n",
      "['1005', 'Kakali', 'Mumbai', '25000']\n",
      "['1006', 'Bimal', 'Hyderabad', '30000']\n",
      "['1007', 'Tarun', 'Chennai', '17000']\n",
      "['1008', 'Rittik', 'Durgapur', '45000']\n",
      "['1009', 'Barun', 'Hyderabad', '39000']\n",
      "['1010', 'Utpal', 'Lucknow', '20000']\n"
     ]
    },
    {
     "ename": "ValueError",
     "evalue": "I/O operation on closed file.",
     "output_type": "error",
     "traceback": [
      "\u001b[1;31m---------------------------------------------------------------------------\u001b[0m",
      "\u001b[1;31mValueError\u001b[0m                                Traceback (most recent call last)",
      "Cell \u001b[1;32mIn[10], line 11\u001b[0m\n\u001b[0;32m      9\u001b[0m     \u001b[38;5;28;01mfor\u001b[39;00m row \u001b[38;5;129;01min\u001b[39;00m csv_reader:\n\u001b[0;32m     10\u001b[0m         \u001b[38;5;28mprint\u001b[39m(row)\n\u001b[1;32m---> 11\u001b[0m csv_reader \u001b[38;5;241m=\u001b[39m \u001b[43mcsv\u001b[49m\u001b[38;5;241;43m.\u001b[39;49m\u001b[43mreader\u001b[49m\u001b[43m(\u001b[49m\u001b[43mdata_file\u001b[49m\u001b[43m)\u001b[49m\n",
      "\u001b[1;31mValueError\u001b[0m: I/O operation on closed file."
     ]
    }
   ],
   "source": [
    "# inserting records from the csv file and writing it to the database table employee\n",
    "# importing required modules\n",
    "import csv\n",
    "sqlStr = \"INSERT INTO employee VALUES('{emp_id_ph}', '{emp_name_ph}', '{emp_city_ph}', '{emp_salary_ph}');\"\n",
    "# reading line by line from the csv file and storing them onto the database table\n",
    "with open('emp_data.csv') as data_file:\n",
    "    csv_reader = csv.reader(data_file)\n",
    "    # reader to read from the data file with ',' as the delimiter\n",
    "    for row in csv_reader:\n",
    "        print(row)\n",
    "# csv_reader = csv.reader(data_file)   # Error Message -> ValueError: I/O operation on closed file."
   ]
  },
  {
   "cell_type": "code",
   "execution_count": 19,
   "id": "a53adb9c-6aa2-48f4-b8d5-d5ce0346a1f6",
   "metadata": {},
   "outputs": [
    {
     "name": "stdout",
     "output_type": "stream",
     "text": [
      "10\n",
      "[]\n"
     ]
    }
   ],
   "source": [
    "# inserting records from the csv file and writing it to the database table employee\n",
    "# importing required modules\n",
    "import csv\n",
    "sqlStr = \"INSERT INTO employee VALUES('{emp_id_ph}', '{emp_name_ph}', '{emp_city_ph}', '{emp_salary_ph}');\"\n",
    "# reading line by line from the csv file and storing them onto the database table\n",
    "with open('emp_data.csv') as data_file:\n",
    "    csv_reader = csv.reader(data_file)\n",
    "    # reader to read from the data file with ',' as the delimiter\n",
    "    # print(list(csv_reader))\n",
    "    print(len(list(csv_reader)))\n",
    "    print(list(csv_reader))\n",
    "# csv_reader = csv.reader(data_file)   # Error Message -> ValueError: I/O operation on closed file."
   ]
  },
  {
   "cell_type": "code",
   "execution_count": 26,
   "id": "f39b05af-f0dd-4f40-97c1-d6c35f21a173",
   "metadata": {},
   "outputs": [
    {
     "name": "stdout",
     "output_type": "stream",
     "text": [
      "[['1001', 'Dhiman', 'Kolkata', '39000'], ['1002', 'Anupam', 'Kolkata', '25000'], ['1003', 'Subham', 'Mumbai', '36000'], ['1004', 'Dinesh', 'Chennai', '28000'], ['1005', 'Kakali', 'Mumbai', '25000'], ['1006', 'Bimal', 'Hyderabad', '30000'], ['1007', 'Tarun', 'Chennai', '17000'], ['1008', 'Rittik', 'Durgapur', '45000'], ['1009', 'Barun', 'Hyderabad', '39000'], ['1010', 'Utpal', 'Lucknow', '20000']]\n"
     ]
    }
   ],
   "source": [
    "# inserting records from the csv file and writing it to the database table employee\n",
    "# importing required modules\n",
    "import csv\n",
    "sqlStr = \"INSERT INTO employee VALUES('{emp_id_ph}', '{emp_name_ph}', '{emp_city_ph}', '{emp_salary_ph}');\"\n",
    "# reading line by line from the csv file and storing them onto the database table\n",
    "# with open('emp_data.csv') as data_file:\n",
    "# with open('C:\\\\Users\\\\Arnab\\\\AEC MCA Project Guidance 2024\\\\emp_data.csv') as data_file:\n",
    "# with open('C:\\\\Users\\Arnab\\AEC MCA Project Guidance 2024\\emp_data.csv') as data_file:\n",
    "# with open('C:/Users/Arnab/AEC MCA Project Guidance 2024/emp_data.csv') as data_file:\n",
    "# with open('C://Users//Arnab//AEC MCA Project Guidance 2024//emp_data.csv') as data_file:\n",
    "with open('C:\\\\Users\\Arnab/AEC MCA Project Guidance 2024//emp_data.csv') as data_file:\n",
    "    csv_reader = csv.reader(data_file)\n",
    "    # reader to read from the data file with ',' as the delimiter\n",
    "    print(list(csv_reader))"
   ]
  },
  {
   "cell_type": "code",
   "execution_count": 29,
   "id": "669192ef-c89b-474f-a391-c325333bc6e5",
   "metadata": {},
   "outputs": [
    {
     "name": "stdout",
     "output_type": "stream",
     "text": [
      "['1001', 'Dhiman', 'Kolkata', '39000']\n",
      "['1002', 'Anupam', 'Kolkata', '25000']\n",
      "['1003', 'Subham', 'Mumbai', '36000']\n",
      "['1004', 'Dinesh', 'Chennai', '28000']\n",
      "['1005', 'Kakali', 'Mumbai', '25000']\n",
      "['1006', 'Bimal', 'Hyderabad', '30000']\n",
      "['1007', 'Tarun', 'Chennai', '17000']\n",
      "['1008', 'Rittik', 'Durgapur', '45000']\n",
      "['1009', 'Barun', 'Hyderabad', '39000']\n",
      "['1010', 'Utpal', 'Lucknow', '20000']\n",
      "All the data items got inserted successfully...\n"
     ]
    }
   ],
   "source": [
    "# inserting records from the csv file and writing it to the database table employee\n",
    "# importing required modules\n",
    "import csv\n",
    "sqlStr = \"INSERT INTO employee VALUES('{emp_id_ph}', '{emp_name_ph}', '{emp_city_ph}', '{emp_salary_ph}');\"\n",
    "# reading line by line from the csv file and storing them onto the database table\n",
    "with open('emp_data.csv') as data_file:\n",
    "    csv_reader = csv.reader(data_file)\n",
    "    for row in csv_reader:\n",
    "        print(row)\n",
    "        connection.execute(sqlStr.format(emp_id_ph = row[0], emp_name_ph = row[1], emp_city_ph = row[2], emp_salary_ph = row[3]))\n",
    "connection.commit()   # to make the change permanent\n",
    "print(\"All the data items got inserted successfully...\")"
   ]
  },
  {
   "cell_type": "code",
   "execution_count": 32,
   "id": "206e9c10-b2d2-45f0-acd2-87ea344d09b5",
   "metadata": {},
   "outputs": [
    {
     "name": "stdout",
     "output_type": "stream",
     "text": [
      "Emp-ID: 1001, Emp-Name: Dhiman, Emp-City: Kolkata and Emp-Salary: 39000.0...\n",
      "Emp-ID: 1002, Emp-Name: Anupam, Emp-City: Kolkata and Emp-Salary: 25000.0...\n",
      "Emp-ID: 1003, Emp-Name: Subham, Emp-City: Mumbai and Emp-Salary: 36000.0...\n",
      "Emp-ID: 1004, Emp-Name: Dinesh, Emp-City: Chennai and Emp-Salary: 28000.0...\n",
      "Emp-ID: 1005, Emp-Name: Kakali, Emp-City: Mumbai and Emp-Salary: 25000.0...\n",
      "Emp-ID: 1006, Emp-Name: Bimal, Emp-City: Hyderabad and Emp-Salary: 30000.0...\n",
      "Emp-ID: 1007, Emp-Name: Tarun, Emp-City: Chennai and Emp-Salary: 17000.0...\n",
      "Emp-ID: 1008, Emp-Name: Rittik, Emp-City: Durgapur and Emp-Salary: 45000.0...\n",
      "Emp-ID: 1009, Emp-Name: Barun, Emp-City: Hyderabad and Emp-Salary: 39000.0...\n",
      "Emp-ID: 1010, Emp-Name: Utpal, Emp-City: Lucknow and Emp-Salary: 20000.0...\n"
     ]
    }
   ],
   "source": [
    "# fetching all the records from the database table\n",
    "# SQL for fetching all the records from the employee table\n",
    "sqlStr = \"SELECT * FROM employee;\"\n",
    "# read from the table and point the cursor at the top of the variable cur_table\n",
    "cur_table = connection.execute(sqlStr)\n",
    "# print(list(cur_table))\n",
    "for row in cur_table:\n",
    "    print(f\"Emp-ID: {row[0]}, Emp-Name: {row[1]}, Emp-City: {row[2]} and Emp-Salary: {row[3]}...\")"
   ]
  },
  {
   "cell_type": "code",
   "execution_count": 33,
   "id": "0d995cf6-ddb8-4fc4-b237-affd14d3069c",
   "metadata": {},
   "outputs": [
    {
     "name": "stdout",
     "output_type": "stream",
     "text": [
      "Empo-Name: Dhiman and Emp-Salary: 39000.0...\n",
      "Empo-Name: Subham and Emp-Salary: 36000.0...\n",
      "Empo-Name: Rittik and Emp-Salary: 45000.0...\n",
      "Empo-Name: Barun and Emp-Salary: 39000.0...\n"
     ]
    }
   ],
   "source": [
    "# SQL for fetching name and salary of those employees whose salary is greater than 30000\n",
    "sqlStr = \"SELECT emp_name, emp_salary FROM employee WHERE emp_salary > 30000;\"\n",
    "# read from the table and point the cursor at the top of the variable cur_table\n",
    "cur_table = connection.execute(sqlStr)\n",
    "# print(list(cur_table))\n",
    "for row in cur_table:\n",
    "    print(f\"Empo-Name: {row[0]} and Emp-Salary: {row[1]}...\")"
   ]
  },
  {
   "cell_type": "markdown",
   "id": "5538d4d4-6378-46be-9c24-ec40b491fa9c",
   "metadata": {},
   "source": [
    "### **Class Assignments:**"
   ]
  },
  {
   "cell_type": "markdown",
   "id": "b58cc9e8-cc30-44b4-a527-9bbc2a6e5ce8",
   "metadata": {},
   "source": [
    "* **Query-1**\n",
    "> Fetch employee name, salary and 7.5% Tax against salaries of all the employees."
   ]
  },
  {
   "cell_type": "code",
   "execution_count": 34,
   "id": "d8faef87-43a4-42e3-a63d-080d5895061c",
   "metadata": {},
   "outputs": [
    {
     "name": "stdout",
     "output_type": "stream",
     "text": [
      "Emp-Name: Dhiman , Emp-Salary: 39000.0 and Emp-Tax: 2925.0...\n",
      "Emp-Name: Anupam , Emp-Salary: 25000.0 and Emp-Tax: 1875.0...\n",
      "Emp-Name: Subham , Emp-Salary: 36000.0 and Emp-Tax: 2700.0...\n",
      "Emp-Name: Dinesh , Emp-Salary: 28000.0 and Emp-Tax: 2100.0...\n",
      "Emp-Name: Kakali , Emp-Salary: 25000.0 and Emp-Tax: 1875.0...\n",
      "Emp-Name: Bimal , Emp-Salary: 30000.0 and Emp-Tax: 2250.0...\n",
      "Emp-Name: Tarun , Emp-Salary: 17000.0 and Emp-Tax: 1275.0...\n",
      "Emp-Name: Rittik , Emp-Salary: 45000.0 and Emp-Tax: 3375.0...\n",
      "Emp-Name: Barun , Emp-Salary: 39000.0 and Emp-Tax: 2925.0...\n",
      "Emp-Name: Utpal , Emp-Salary: 20000.0 and Emp-Tax: 1500.0...\n"
     ]
    }
   ],
   "source": [
    "sqlStr = \"SELECT emp_name, emp_salary, emp_salary * 0.075 as emp_tax FROM employee;\"\n",
    "# read from the table and point the cursor at the top of the variable cur_table\n",
    "cur_table = connection.execute(sqlStr)\n",
    "# print(list(cur_table))\n",
    "for row in cur_table:\n",
    "    print(f\"Emp-Name: {row[0]} , Emp-Salary: {row[1]} and Emp-Tax: {row[2]}...\")"
   ]
  },
  {
   "cell_type": "markdown",
   "id": "8d5bde43-ed8d-4267-8bac-f2f99c3aa704",
   "metadata": {},
   "source": [
    "* **Query-2**\n",
    "> Select city wise average salaries of all the employees from the employee database table."
   ]
  },
  {
   "cell_type": "code",
   "execution_count": 35,
   "id": "92d25ff4-51d8-4b75-bdf5-9609782908f1",
   "metadata": {},
   "outputs": [
    {
     "name": "stdout",
     "output_type": "stream",
     "text": [
      "Emp-City: Chennai and Emp-Average-Salary: 22500.0...\n",
      "Emp-City: Durgapur and Emp-Average-Salary: 45000.0...\n",
      "Emp-City: Hyderabad and Emp-Average-Salary: 34500.0...\n",
      "Emp-City: Kolkata and Emp-Average-Salary: 32000.0...\n",
      "Emp-City: Lucknow and Emp-Average-Salary: 20000.0...\n",
      "Emp-City: Mumbai and Emp-Average-Salary: 30500.0...\n"
     ]
    }
   ],
   "source": [
    "sqlStr = \"SELECT emp_city, AVG(emp_salary) as avg_sal from employee GROUP BY emp_city;\"\n",
    "# read from the table and point the cursor at the top of the variable cur_table\n",
    "cur_table = connection.execute(sqlStr)\n",
    "# print(list(cur_table))\n",
    "for row in cur_table:\n",
    "    print(f\"Emp-City: {row[0]} and Emp-Average-Salary: {row[1]}...\")"
   ]
  },
  {
   "cell_type": "code",
   "execution_count": 36,
   "id": "0ef6a14e-a0fa-444c-abc7-84601ee7a821",
   "metadata": {},
   "outputs": [
    {
     "data": {
      "text/html": [
       "<div>\n",
       "<style scoped>\n",
       "    .dataframe tbody tr th:only-of-type {\n",
       "        vertical-align: middle;\n",
       "    }\n",
       "\n",
       "    .dataframe tbody tr th {\n",
       "        vertical-align: top;\n",
       "    }\n",
       "\n",
       "    .dataframe thead th {\n",
       "        text-align: right;\n",
       "    }\n",
       "</style>\n",
       "<table border=\"1\" class=\"dataframe\">\n",
       "  <thead>\n",
       "    <tr style=\"text-align: right;\">\n",
       "      <th></th>\n",
       "      <th>EMP-ID</th>\n",
       "      <th>EMP-NAME</th>\n",
       "      <th>EMP-CITY</th>\n",
       "      <th>EMP-SALARY</th>\n",
       "    </tr>\n",
       "  </thead>\n",
       "  <tbody>\n",
       "    <tr>\n",
       "      <th>0</th>\n",
       "      <td>1001</td>\n",
       "      <td>Dhiman</td>\n",
       "      <td>Kolkata</td>\n",
       "      <td>39000.0</td>\n",
       "    </tr>\n",
       "    <tr>\n",
       "      <th>1</th>\n",
       "      <td>1002</td>\n",
       "      <td>Anupam</td>\n",
       "      <td>Kolkata</td>\n",
       "      <td>25000.0</td>\n",
       "    </tr>\n",
       "    <tr>\n",
       "      <th>2</th>\n",
       "      <td>1003</td>\n",
       "      <td>Subham</td>\n",
       "      <td>Mumbai</td>\n",
       "      <td>36000.0</td>\n",
       "    </tr>\n",
       "    <tr>\n",
       "      <th>3</th>\n",
       "      <td>1004</td>\n",
       "      <td>Dinesh</td>\n",
       "      <td>Chennai</td>\n",
       "      <td>28000.0</td>\n",
       "    </tr>\n",
       "    <tr>\n",
       "      <th>4</th>\n",
       "      <td>1005</td>\n",
       "      <td>Kakali</td>\n",
       "      <td>Mumbai</td>\n",
       "      <td>25000.0</td>\n",
       "    </tr>\n",
       "    <tr>\n",
       "      <th>5</th>\n",
       "      <td>1006</td>\n",
       "      <td>Bimal</td>\n",
       "      <td>Hyderabad</td>\n",
       "      <td>30000.0</td>\n",
       "    </tr>\n",
       "    <tr>\n",
       "      <th>6</th>\n",
       "      <td>1007</td>\n",
       "      <td>Tarun</td>\n",
       "      <td>Chennai</td>\n",
       "      <td>17000.0</td>\n",
       "    </tr>\n",
       "    <tr>\n",
       "      <th>7</th>\n",
       "      <td>1008</td>\n",
       "      <td>Rittik</td>\n",
       "      <td>Durgapur</td>\n",
       "      <td>45000.0</td>\n",
       "    </tr>\n",
       "    <tr>\n",
       "      <th>8</th>\n",
       "      <td>1009</td>\n",
       "      <td>Barun</td>\n",
       "      <td>Hyderabad</td>\n",
       "      <td>39000.0</td>\n",
       "    </tr>\n",
       "    <tr>\n",
       "      <th>9</th>\n",
       "      <td>1010</td>\n",
       "      <td>Utpal</td>\n",
       "      <td>Lucknow</td>\n",
       "      <td>20000.0</td>\n",
       "    </tr>\n",
       "  </tbody>\n",
       "</table>\n",
       "</div>"
      ],
      "text/plain": [
       "   EMP-ID EMP-NAME   EMP-CITY  EMP-SALARY\n",
       "0    1001   Dhiman    Kolkata     39000.0\n",
       "1    1002   Anupam    Kolkata     25000.0\n",
       "2    1003   Subham     Mumbai     36000.0\n",
       "3    1004   Dinesh    Chennai     28000.0\n",
       "4    1005   Kakali     Mumbai     25000.0\n",
       "5    1006    Bimal  Hyderabad     30000.0\n",
       "6    1007    Tarun    Chennai     17000.0\n",
       "7    1008   Rittik   Durgapur     45000.0\n",
       "8    1009    Barun  Hyderabad     39000.0\n",
       "9    1010    Utpal    Lucknow     20000.0"
      ]
     },
     "execution_count": 36,
     "metadata": {},
     "output_type": "execute_result"
    }
   ],
   "source": [
    "# fetching records from database table and putting it onto a DataFrame\n",
    "import pandas as pd   # importing required module\n",
    "sqlStr = \"SELECT * FROM employee;\"\n",
    "table = connection.execute(sqlStr)\n",
    "records_df = pd.DataFrame(data = list(table), columns = [\"EMP-ID\", \"EMP-NAME\", \"EMP-CITY\", \"EMP-SALARY\"])\n",
    "records_df"
   ]
  },
  {
   "cell_type": "code",
   "execution_count": 38,
   "id": "515c5908-24c0-4a2c-8fa3-7a0b5a00e54b",
   "metadata": {},
   "outputs": [
    {
     "data": {
      "text/html": [
       "<div>\n",
       "<style scoped>\n",
       "    .dataframe tbody tr th:only-of-type {\n",
       "        vertical-align: middle;\n",
       "    }\n",
       "\n",
       "    .dataframe tbody tr th {\n",
       "        vertical-align: top;\n",
       "    }\n",
       "\n",
       "    .dataframe thead th {\n",
       "        text-align: right;\n",
       "    }\n",
       "</style>\n",
       "<table border=\"1\" class=\"dataframe\">\n",
       "  <thead>\n",
       "    <tr style=\"text-align: right;\">\n",
       "      <th></th>\n",
       "      <th>emp_id</th>\n",
       "      <th>emp_name</th>\n",
       "      <th>emp_city</th>\n",
       "      <th>emp_salary</th>\n",
       "    </tr>\n",
       "  </thead>\n",
       "  <tbody>\n",
       "    <tr>\n",
       "      <th>0</th>\n",
       "      <td>1001</td>\n",
       "      <td>Dhiman</td>\n",
       "      <td>Kolkata</td>\n",
       "      <td>39000.0</td>\n",
       "    </tr>\n",
       "    <tr>\n",
       "      <th>1</th>\n",
       "      <td>1002</td>\n",
       "      <td>Anupam</td>\n",
       "      <td>Kolkata</td>\n",
       "      <td>25000.0</td>\n",
       "    </tr>\n",
       "    <tr>\n",
       "      <th>2</th>\n",
       "      <td>1003</td>\n",
       "      <td>Subham</td>\n",
       "      <td>Mumbai</td>\n",
       "      <td>36000.0</td>\n",
       "    </tr>\n",
       "    <tr>\n",
       "      <th>3</th>\n",
       "      <td>1004</td>\n",
       "      <td>Dinesh</td>\n",
       "      <td>Chennai</td>\n",
       "      <td>28000.0</td>\n",
       "    </tr>\n",
       "    <tr>\n",
       "      <th>4</th>\n",
       "      <td>1005</td>\n",
       "      <td>Kakali</td>\n",
       "      <td>Mumbai</td>\n",
       "      <td>25000.0</td>\n",
       "    </tr>\n",
       "    <tr>\n",
       "      <th>5</th>\n",
       "      <td>1006</td>\n",
       "      <td>Bimal</td>\n",
       "      <td>Hyderabad</td>\n",
       "      <td>30000.0</td>\n",
       "    </tr>\n",
       "    <tr>\n",
       "      <th>6</th>\n",
       "      <td>1007</td>\n",
       "      <td>Tarun</td>\n",
       "      <td>Chennai</td>\n",
       "      <td>17000.0</td>\n",
       "    </tr>\n",
       "    <tr>\n",
       "      <th>7</th>\n",
       "      <td>1008</td>\n",
       "      <td>Rittik</td>\n",
       "      <td>Durgapur</td>\n",
       "      <td>45000.0</td>\n",
       "    </tr>\n",
       "    <tr>\n",
       "      <th>8</th>\n",
       "      <td>1009</td>\n",
       "      <td>Barun</td>\n",
       "      <td>Hyderabad</td>\n",
       "      <td>39000.0</td>\n",
       "    </tr>\n",
       "    <tr>\n",
       "      <th>9</th>\n",
       "      <td>1010</td>\n",
       "      <td>Utpal</td>\n",
       "      <td>Lucknow</td>\n",
       "      <td>20000.0</td>\n",
       "    </tr>\n",
       "  </tbody>\n",
       "</table>\n",
       "</div>"
      ],
      "text/plain": [
       "   emp_id emp_name   emp_city  emp_salary\n",
       "0    1001   Dhiman    Kolkata     39000.0\n",
       "1    1002   Anupam    Kolkata     25000.0\n",
       "2    1003   Subham     Mumbai     36000.0\n",
       "3    1004   Dinesh    Chennai     28000.0\n",
       "4    1005   Kakali     Mumbai     25000.0\n",
       "5    1006    Bimal  Hyderabad     30000.0\n",
       "6    1007    Tarun    Chennai     17000.0\n",
       "7    1008   Rittik   Durgapur     45000.0\n",
       "8    1009    Barun  Hyderabad     39000.0\n",
       "9    1010    Utpal    Lucknow     20000.0"
      ]
     },
     "execution_count": 38,
     "metadata": {},
     "output_type": "execute_result"
    }
   ],
   "source": [
    "sqlStr = \"SELECT * FROM employee;\"\n",
    "records_df = pd.read_sql_query(sqlStr, connection)\n",
    "records_df"
   ]
  },
  {
   "cell_type": "code",
   "execution_count": 43,
   "id": "4fbf2d55-6853-408e-a8c4-15a235e4e6c6",
   "metadata": {},
   "outputs": [
    {
     "data": {
      "image/png": "[encoded data removed]",
      "text/plain": [
       "<Figure size 640x480 with 1 Axes>"
      ]
     },
     "metadata": {},
     "output_type": "display_data"
    }
   ],
   "source": [
    "# basic plots\n",
    "import matplotlib.pyplot as plt\n",
    "plt.scatter(records_df['emp_id'], records_df['emp_salary'], s = 100)\n",
    "plt.xlabel(\"Employee ID\")\n",
    "plt.ylabel(\"Employee Salary (In INR)\")\n",
    "plt.title(\"Employee ID vs. Employee Salary (In INR)\")\n",
    "plt.show()"
   ]
  },
  {
   "cell_type": "code",
   "execution_count": 45,
   "id": "4ae02961-d56b-46e5-9be6-b36753af3629",
   "metadata": {},
   "outputs": [
    {
     "name": "stdout",
     "output_type": "stream",
     "text": [
      "So the number of records got updated is 2\n",
      "UPDATE Operation has been completd successfully...\n"
     ]
    }
   ],
   "source": [
    "# update operation on the records of the table\n",
    "# update salary to 30000 where city is Chennai\n",
    "sqlStr = \"UPDATE employee SET emp_salary = 30000 WHERE emp_city = 'Chennai';\"\n",
    "table = connection.execute(sqlStr)\n",
    "connection.commit()   # to make the change permanent\n",
    "print(\"So the number of records got updated is\", table.rowcount)\n",
    "print(\"UPDATE Operation has been completd successfully...\")"
   ]
  },
  {
   "cell_type": "code",
   "execution_count": 46,
   "id": "7b11b2a1-c692-4f14-ab54-9bbb112d791a",
   "metadata": {},
   "outputs": [
    {
     "name": "stdout",
     "output_type": "stream",
     "text": [
      "Emp-ID: 1001, Emp-Name: Dhiman, Emp-City: Kolkata and Emp-Salary: 39000.0...\n",
      "Emp-ID: 1002, Emp-Name: Anupam, Emp-City: Kolkata and Emp-Salary: 25000.0...\n",
      "Emp-ID: 1003, Emp-Name: Subham, Emp-City: Mumbai and Emp-Salary: 36000.0...\n",
      "Emp-ID: 1004, Emp-Name: Dinesh, Emp-City: Chennai and Emp-Salary: 30000.0...\n",
      "Emp-ID: 1005, Emp-Name: Kakali, Emp-City: Mumbai and Emp-Salary: 25000.0...\n",
      "Emp-ID: 1006, Emp-Name: Bimal, Emp-City: Hyderabad and Emp-Salary: 30000.0...\n",
      "Emp-ID: 1007, Emp-Name: Tarun, Emp-City: Chennai and Emp-Salary: 30000.0...\n",
      "Emp-ID: 1008, Emp-Name: Rittik, Emp-City: Durgapur and Emp-Salary: 45000.0...\n",
      "Emp-ID: 1009, Emp-Name: Barun, Emp-City: Hyderabad and Emp-Salary: 39000.0...\n",
      "Emp-ID: 1010, Emp-Name: Utpal, Emp-City: Lucknow and Emp-Salary: 20000.0...\n"
     ]
    }
   ],
   "source": [
    "# fetching all the records from the database table\n",
    "# SQL for fetching all the records from the employee table\n",
    "sqlStr = \"SELECT * FROM employee;\"\n",
    "# read from the table and point the cursor at the top of the variable cur_table\n",
    "cur_table = connection.execute(sqlStr)\n",
    "# print(list(cur_table))\n",
    "for row in cur_table:\n",
    "    print(f\"Emp-ID: {row[0]}, Emp-Name: {row[1]}, Emp-City: {row[2]} and Emp-Salary: {row[3]}...\")"
   ]
  },
  {
   "cell_type": "code",
   "execution_count": 47,
   "id": "7fb7fbba-67d2-47ab-a3d0-37047289f5ac",
   "metadata": {},
   "outputs": [
    {
     "name": "stdout",
     "output_type": "stream",
     "text": [
      "So the number of records got deleted: 2\n",
      "DELETE operation has been completd successfully...\n"
     ]
    }
   ],
   "source": [
    "# deleting records from the table\n",
    "# delete those records where city = \"Kolkata\"\n",
    "sqlStr = \"DELETE FROM employee WHERE emp_city = 'Kolkata';\"\n",
    "table = connection.execute(sqlStr)\n",
    "connection.commit()    # to make the change permanent\n",
    "print(\"So the number of records got deleted:\", table.rowcount)\n",
    "print(\"DELETE operation has been completd successfully...\")"
   ]
  },
  {
   "cell_type": "code",
   "execution_count": 49,
   "id": "dbd705d9-8341-4944-993c-b47e1da141d0",
   "metadata": {},
   "outputs": [
    {
     "name": "stdin",
     "output_type": "stream",
     "text": [
      "Please enter the number of records to be inserted:  2\n"
     ]
    },
    {
     "name": "stdout",
     "output_type": "stream",
     "text": [
      "Prepare with data-set for insertion of record number 0\n"
     ]
    },
    {
     "name": "stdin",
     "output_type": "stream",
     "text": [
      "Enter the employee ID: 1011\n",
      "Enter the employee Name: Bhaskar\n",
      "Enter the employee City: Mohit Nagar\n",
      "Enter the employee Salary: 45000\n"
     ]
    },
    {
     "name": "stdout",
     "output_type": "stream",
     "text": [
      "Prepare with data-set for insertion of record number 1\n"
     ]
    },
    {
     "name": "stdin",
     "output_type": "stream",
     "text": [
      "Enter the employee ID: 1012\n",
      "Enter the employee Name: Prasenjit\n",
      "Enter the employee City: Chennai\n",
      "Enter the employee Salary: 50000\n"
     ]
    },
    {
     "name": "stdout",
     "output_type": "stream",
     "text": [
      "All the records got inserted successfully...\n"
     ]
    }
   ],
   "source": [
    "# input and insert records on to the database table after taking user inputs\n",
    "n = int(input(\"Please enter the number of records to be inserted: \"))\n",
    "cursor = connection.cursor()\n",
    "for i in range(n):\n",
    "    print(\"Prepare with data-set for insertion of record number\", i)\n",
    "    new_emp_id = int(input(\"Enter the employee ID:\"))\n",
    "    new_emp_name = input(\"Enter the employee Name:\")\n",
    "    new_emp_city = input(\"Enter the employee City:\")\n",
    "    new_emp_salary = int(input(\"Enter the employee Salary:\"))\n",
    "    cursor.execute(\"INSERT INTO employee VALUES(?,?,?,?)\", (new_emp_id, new_emp_name, new_emp_city, new_emp_salary))\n",
    "connection.commit()    # to make the change permanent\n",
    "print(\"All the records got inserted successfully...\")"
   ]
  },
  {
   "cell_type": "code",
   "execution_count": 53,
   "id": "f449727c-810e-47c4-8add-510d8c07a321",
   "metadata": {},
   "outputs": [
    {
     "name": "stdout",
     "output_type": "stream",
     "text": [
      "Displaying the current content of the employee table...\n",
      "EMP-ID: 1003, EMP-NAME: Subham, EMP-CITY: Mumbai and EMP-SALARY: 36000.0...\n",
      "EMP-ID: 1004, EMP-NAME: Dinesh, EMP-CITY: Chennai and EMP-SALARY: 30000.0...\n",
      "EMP-ID: 1005, EMP-NAME: Kakali, EMP-CITY: Mumbai and EMP-SALARY: 25000.0...\n",
      "EMP-ID: 1006, EMP-NAME: Bimal, EMP-CITY: Hyderabad and EMP-SALARY: 30000.0...\n",
      "EMP-ID: 1007, EMP-NAME: Tarun, EMP-CITY: Chennai and EMP-SALARY: 30000.0...\n",
      "EMP-ID: 1008, EMP-NAME: Rittik, EMP-CITY: Durgapur and EMP-SALARY: 45000.0...\n",
      "EMP-ID: 1009, EMP-NAME: Barun, EMP-CITY: Hyderabad and EMP-SALARY: 39000.0...\n",
      "EMP-ID: 1010, EMP-NAME: Utpal, EMP-CITY: Lucknow and EMP-SALARY: 20000.0...\n",
      "EMP-ID: 1011, EMP-NAME: Bhaskar, EMP-CITY: Mohit Nagar and EMP-SALARY: 45000.0...\n",
      "EMP-ID: 1012, EMP-NAME: Prasenjit, EMP-CITY: Chennai and EMP-SALARY: 50000.0...\n",
      "All the records got accesse and printed successfully...\n"
     ]
    }
   ],
   "source": [
    "print(\"Displaying the current content of the employee table...\")\n",
    "cursor.execute(\"SELECT emp_id, emp_name, emp_city, emp_salary FROM employee;\")\n",
    "for row in cursor:\n",
    "    print(f\"EMP-ID: {row[0]}, EMP-NAME: {row[1]}, EMP-CITY: {row[2]} and EMP-SALARY: {row[3]}...\")\n",
    "print(\"All the records got accesse and printed successfully...\")"
   ]
  },
  {
   "cell_type": "code",
   "execution_count": null,
   "id": "4f80d919-3b0a-4d4b-8357-da8dbcf1ccec",
   "metadata": {},
   "outputs": [],
   "source": []
  }
 ],
 "metadata": {
  "kernelspec": {
   "display_name": "Python 3 (ipykernel)",
   "language": "python",
   "name": "python3"
  },
  "language_info": {
   "codemirror_mode": {
    "name": "ipython",
    "version": 3
   },
   "file_extension": ".py",
   "mimetype": "text/x-python",
   "name": "python",
   "nbconvert_exporter": "python",
   "pygments_lexer": "ipython3",
   "version": "3.10.9"
  }
 },
 "nbformat": 4,
 "nbformat_minor": 5
}
