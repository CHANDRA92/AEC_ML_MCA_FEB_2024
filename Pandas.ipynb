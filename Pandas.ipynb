{
 "cells": [
  {
   "cell_type": "markdown",
   "id": "fe31803f-d113-449c-9818-adfff0d38deb",
   "metadata": {},
   "source": [
    "# **PANDAS: INTRODUCTION**\n",
    "> It is often said that 80% of data analysis is spent on the data cleaning and preparing data. To get a handle on the problem, this section focuses on a small, but important aspect of data manipulation and cleaning with Pandas.\n",
    "## **Data Structures**\n",
    "**There are two data structures are there in Pandas -**<br>\n",
    "* **Series -** It is one-dimensional labeled array capable of holding any data type (integer, strings, floating point numbers, Python objects etc.) of data. The axis is collectively referred to as index.\n",
    "\n",
    "* **Data Frame -** It is a two-dimensional labeled data structure with columns of potentially different types. You can think of it like a spreadsheet or SQL Table or a Series of objects.\n",
    "\n",
    "## **Series Data Structure:**\n",
    "**pandas.core.series.Series(data, index, dtype, copy)**<br>\n",
    "* **data -** data takes various forms like ndarray, list, constants, dictionary etc.<br>\n",
    "* **index -** it is unique and hashable for easy identification.<br>\n",
    "* **dtype -** it is for data type.<br>\n",
    "* **copy -** copy data, and its default value is False. It only affects for Series or one dimensional ndarray inputs."
   ]
  },
  {
   "cell_type": "code",
   "execution_count": 1,
   "id": "81759b18-da87-4b70-bd3b-c1dda3a958f5",
   "metadata": {},
   "outputs": [],
   "source": [
    "# importing required modules\n",
    "import pandas as pd\n",
    "import numpy as np"
   ]
  },
  {
   "cell_type": "code",
   "execution_count": 3,
   "id": "5e04f560-102d-4878-acc8-9564465e6ae2",
   "metadata": {},
   "outputs": [
    {
     "name": "stdout",
     "output_type": "stream",
     "text": [
      "Series([], dtype: float64) <class 'pandas.core.series.Series'>\n"
     ]
    }
   ],
   "source": [
    "# creating empty Series\n",
    "import warnings\n",
    "warnings.filterwarnings('ignore')\n",
    "s = pd.Series()\n",
    "print (s, type(s))"
   ]
  },
  {
   "cell_type": "code",
   "execution_count": 5,
   "id": "1d0bd422-7785-4dac-be63-29574faf3367",
   "metadata": {},
   "outputs": [
    {
     "name": "stdout",
     "output_type": "stream",
     "text": [
      "['apple' 'banana' 'cherry' 'pineapple'] <class 'numpy.ndarray'>\n",
      "0        apple\n",
      "1       banana\n",
      "2       cherry\n",
      "3    pineapple\n",
      "dtype: object\n",
      "<class 'pandas.core.series.Series'> apple pineapple\n"
     ]
    }
   ],
   "source": [
    "# create a Series from a ndarray\n",
    "arr_data = np.array(['apple', 'banana', 'cherry', 'pineapple'])\n",
    "print (arr_data, type(arr_data))\n",
    "s = pd.Series(data = arr_data)\n",
    "print (s)\n",
    "print (type(s), s[0], s[3])"
   ]
  },
  {
   "cell_type": "code",
   "execution_count": 6,
   "id": "f1e1c573-be9c-4648-a19a-7e10f42c0165",
   "metadata": {},
   "outputs": [
    {
     "name": "stdout",
     "output_type": "stream",
     "text": [
      "[100 300 200 600 500]\n",
      "0    100\n",
      "1    300\n",
      "2    200\n",
      "3    600\n",
      "4    500\n",
      "dtype: int32\n",
      "[999 300 888 600 500]\n",
      "0    999\n",
      "1    300\n",
      "2    888\n",
      "3    600\n",
      "4    500\n",
      "dtype: int32\n"
     ]
    }
   ],
   "source": [
    "arr_data = np.array([100, 300, 200, 600, 500])\n",
    "s = pd.Series(data = arr_data, copy = False)\n",
    "print (arr_data)\n",
    "print (s)\n",
    "s[0] = 999; arr_data[2] = 888\n",
    "print (arr_data)\n",
    "print (s)"
   ]
  },
  {
   "cell_type": "code",
   "execution_count": 7,
   "id": "36825dba-20ff-414a-a93b-a1fba6833292",
   "metadata": {},
   "outputs": [
    {
     "name": "stdout",
     "output_type": "stream",
     "text": [
      "[100 300 200 600 500]\n",
      "0    100\n",
      "1    300\n",
      "2    200\n",
      "3    600\n",
      "4    500\n",
      "dtype: int32\n",
      "[100 300 888 600 500]\n",
      "0    999\n",
      "1    300\n",
      "2    200\n",
      "3    600\n",
      "4    500\n",
      "dtype: int32\n"
     ]
    }
   ],
   "source": [
    "arr_data = np.array([100, 300, 200, 600, 500])\n",
    "s = pd.Series(data = arr_data, copy = True)\n",
    "print (arr_data)\n",
    "print (s)\n",
    "s[0] = 999; arr_data[2] = 888\n",
    "print (arr_data)\n",
    "print (s)"
   ]
  },
  {
   "cell_type": "code",
   "execution_count": 9,
   "id": "22918815-fe82-457c-91e9-f8523e511bc9",
   "metadata": {},
   "outputs": [
    {
     "name": "stdout",
     "output_type": "stream",
     "text": [
      "['apple' 'banana' 'cherry' 'pineapple'] <class 'numpy.ndarray'>\n",
      "0        apple\n",
      "1       banana\n",
      "2       cherry\n",
      "3    pineapple\n",
      "dtype: object\n",
      "100        apple\n",
      "101       banana\n",
      "102       cherry\n",
      "103    pineapple\n",
      "dtype: object\n",
      "apple <class 'str'> pineapple <class 'str'>\n"
     ]
    }
   ],
   "source": [
    "arr_data = np.array(['apple', 'banana', 'cherry', 'pineapple'])\n",
    "print (arr_data, type(arr_data))\n",
    "s = pd.Series(data = arr_data)\n",
    "print (s)\n",
    "s = pd.Series(data = arr_data, index = [100, 101, 102, 103])\n",
    "print (s)\n",
    "print (s[100], type(s[100]), s[103], type(s[103]))"
   ]
  },
  {
   "cell_type": "code",
   "execution_count": 16,
   "id": "24e9ca04-e187-45df-bd04-3af425e9e80c",
   "metadata": {},
   "outputs": [
    {
     "name": "stdout",
     "output_type": "stream",
     "text": [
      "['apple' 'banana' 'cherry' 'pineapple'] <class 'numpy.ndarray'>\n",
      "100        apple\n",
      "101       banana\n",
      "100       cherry\n",
      "103    pineapple\n",
      "dtype: object\n",
      "100     apple\n",
      "100    cherry\n",
      "dtype: object <class 'pandas.core.series.Series'> pineapple <class 'str'>\n",
      "100        lemon\n",
      "101       banana\n",
      "100        lemon\n",
      "103    pineapple\n",
      "dtype: object\n",
      "100    lemon\n",
      "100    lemon\n",
      "dtype: object\n"
     ]
    }
   ],
   "source": [
    "arr_data = np.array(['apple', 'banana', 'cherry', 'pineapple'])\n",
    "print (arr_data, type(arr_data))\n",
    "s = pd.Series(data = arr_data, index = [100, 101, 100, 103])\n",
    "print (s)\n",
    "print (s[100], type(s[100]), s[103], type(s[103]))\n",
    "s[100] = 'lemon'\n",
    "print (s)\n",
    "print (s[100])"
   ]
  },
  {
   "cell_type": "code",
   "execution_count": 14,
   "id": "ac12c2ad-f786-4ec9-b41c-18c5d8e7dcc8",
   "metadata": {},
   "outputs": [
    {
     "name": "stdout",
     "output_type": "stream",
     "text": [
      "['apple' 'banana' 'cherry' 'pineapple']\n",
      "fruit-1        apple\n",
      "fruit-2       banana\n",
      "fruit-3       cherry\n",
      "fruit-4    pineapple\n",
      "dtype: object\n",
      "apple apple cherry cherry\n"
     ]
    }
   ],
   "source": [
    "arr_data = np.array(['apple', 'banana', 'cherry', 'pineapple'])\n",
    "print (arr_data)\n",
    "s = pd.Series(data = arr_data, index = ['fruit-1', 'fruit-2', 'fruit-3', 'fruit-4'])\n",
    "print (s)\n",
    "print (s['fruit-1'], s[0], s['fruit-3'], s[2])"
   ]
  },
  {
   "cell_type": "code",
   "execution_count": 19,
   "id": "84dfe8d3-8ce0-47ec-8e90-2b7acc102a9a",
   "metadata": {},
   "outputs": [
    {
     "name": "stdout",
     "output_type": "stream",
     "text": [
      "{'apple': 100, 'banana': 202, 'coconut': 450, 'mango': 435}\n",
      "apple      100\n",
      "banana     202\n",
      "coconut    450\n",
      "mango      435\n",
      "dtype: int64\n"
     ]
    }
   ],
   "source": [
    "# create a Series from a dictionary\n",
    "dict_data = {'apple':100, 'banana':202, 'coconut':450, 'mango':435}\n",
    "print (dict_data)\n",
    "s = pd.Series(data = dict_data)\n",
    "print (s)\n",
    "s = pd.Series(dict_data, index = ['banana', 'mango', 'apple', 'coconut'])"
   ]
  },
  {
   "cell_type": "code",
   "execution_count": 23,
   "id": "8370644b-86b9-4512-9065-18f7995df374",
   "metadata": {},
   "outputs": [
    {
     "name": "stdout",
     "output_type": "stream",
     "text": [
      "banana     202\n",
      "mango      435\n",
      "apple      100\n",
      "coconut    450\n",
      "dtype: int64\n",
      "banana     202.0\n",
      "lime         NaN\n",
      "coconut    450.0\n",
      "mango      435.0\n",
      "guava        NaN\n",
      "apple      100.0\n",
      "mango      435.0\n",
      "apple      100.0\n",
      "coconut    450.0\n",
      "dtype: float64\n",
      "202.0 nan nan 100.0\n"
     ]
    }
   ],
   "source": [
    "dict_data = {'apple':100, 'banana':202, 'coconut':450, 'mango':435}\n",
    "s = pd.Series(dict_data, index = ['banana', 'mango', 'apple', 'coconut'])\n",
    "print (s)\n",
    "s = pd.Series(data = dict_data, index = ['banana', 'lime', 'coconut', 'mango', \n",
    "                                         'guava', 'apple', 'mango', 'apple', 'coconut'])\n",
    "print (s)\n",
    "print (s['banana'], s['lime'], s[4], s[5])"
   ]
  },
  {
   "cell_type": "code",
   "execution_count": 25,
   "id": "063c6ef4-bdeb-496b-ab23-f5acc2690c45",
   "metadata": {},
   "outputs": [
    {
     "name": "stdout",
     "output_type": "stream",
     "text": [
      "0    5\n",
      "1    5\n",
      "2    5\n",
      "3    5\n",
      "4    5\n",
      "dtype: int64\n",
      "0    5\n",
      "1    5\n",
      "2    5\n",
      "0    5\n",
      "1    5\n",
      "2    5\n",
      "dtype: int64\n"
     ]
    }
   ],
   "source": [
    "# create a Series from a scalar\n",
    "s = pd.Series(data = 5, index = [0, 1, 2, 3, 4])\n",
    "print (s)\n",
    "s = pd.Series(5, index = [0, 1, 2, 0, 1, 2])\n",
    "print (s)"
   ]
  },
  {
   "cell_type": "code",
   "execution_count": 27,
   "id": "074c3184-ea12-4c30-955a-bbaa06904ed7",
   "metadata": {},
   "outputs": [
    {
     "name": "stdout",
     "output_type": "stream",
     "text": [
      "red       101\n",
      "blue      303\n",
      "brown     202\n",
      "black     404\n",
      "silver    505\n",
      "dtype: int64\n",
      "303 303\n",
      "red      101\n",
      "blue     303\n",
      "brown    202\n",
      "black    404\n",
      "dtype: int64\n",
      "red      101\n",
      "blue     303\n",
      "brown    202\n",
      "black    404\n",
      "dtype: int64\n",
      "brown     202\n",
      "red       101\n",
      "silver    505\n",
      "blue      303\n",
      "dtype: int64\n"
     ]
    }
   ],
   "source": [
    "# Create a Series from a list\n",
    "s = pd.Series(data = [101, 303, 202, 404, 505], index = ['red', 'blue', 'brown', 'black', 'silver'])\n",
    "print (s)\n",
    "print (s['blue'], s[1])\n",
    "print (s[0:4])\n",
    "print (s[-5:-1])\n",
    "print (s[['brown', 'red', 'silver', 'blue']])"
   ]
  },
  {
   "cell_type": "code",
   "execution_count": 30,
   "id": "42bee7ca-69f4-45c0-88d8-193c6c7e8aeb",
   "metadata": {},
   "outputs": [
    {
     "name": "stdout",
     "output_type": "stream",
     "text": [
      "red       101\n",
      "blue      303\n",
      "brown     202\n",
      "black     404\n",
      "silver    505\n",
      "dtype: int64\n",
      "red       101\n",
      "brown     202\n",
      "blue      303\n",
      "black     404\n",
      "silver    505\n",
      "dtype: int64\n",
      "black     404\n",
      "blue      303\n",
      "brown     202\n",
      "red       101\n",
      "silver    505\n",
      "dtype: int64\n"
     ]
    }
   ],
   "source": [
    "print (s)\n",
    "print (s.sort_values())\n",
    "print (s.sort_index())"
   ]
  },
  {
   "cell_type": "code",
   "execution_count": 34,
   "id": "35773176-561f-4726-b4cf-a8d1308630ec",
   "metadata": {},
   "outputs": [
    {
     "name": "stdout",
     "output_type": "stream",
     "text": [
      "red       101\n",
      "blue      303\n",
      "brown     202\n",
      "black     404\n",
      "silver    505\n",
      "dtype: int64\n",
      "0 4 5 5\n"
     ]
    }
   ],
   "source": [
    "print (s)\n",
    "print (s.argmin(), s.argmax(), s.count(), len(s))"
   ]
  },
  {
   "cell_type": "markdown",
   "id": "b42c1991-0021-4688-bbba-4ffc6dbd5878",
   "metadata": {},
   "source": [
    "## **Data Frame Data Structure:**"
   ]
  },
  {
   "cell_type": "markdown",
   "id": "c83b9bb9-cc02-4cd6-9b05-bfda4706d310",
   "metadata": {},
   "source": [
    "## **Create DataFrame**"
   ]
  },
  {
   "cell_type": "code",
   "execution_count": 37,
   "id": "426d21e5-4361-4183-bcc4-571dc6aad8b7",
   "metadata": {},
   "outputs": [
    {
     "data": {
      "text/html": [
       "<div>\n",
       "<style scoped>\n",
       "    .dataframe tbody tr th:only-of-type {\n",
       "        vertical-align: middle;\n",
       "    }\n",
       "\n",
       "    .dataframe tbody tr th {\n",
       "        vertical-align: top;\n",
       "    }\n",
       "\n",
       "    .dataframe thead th {\n",
       "        text-align: right;\n",
       "    }\n",
       "</style>\n",
       "<table border=\"1\" class=\"dataframe\">\n",
       "  <thead>\n",
       "    <tr style=\"text-align: right;\">\n",
       "      <th></th>\n",
       "      <th>emp_name</th>\n",
       "      <th>emp_age</th>\n",
       "    </tr>\n",
       "  </thead>\n",
       "  <tbody>\n",
       "    <tr>\n",
       "      <th>0</th>\n",
       "      <td>Amal</td>\n",
       "      <td>34</td>\n",
       "    </tr>\n",
       "    <tr>\n",
       "      <th>1</th>\n",
       "      <td>Kamal</td>\n",
       "      <td>35</td>\n",
       "    </tr>\n",
       "    <tr>\n",
       "      <th>2</th>\n",
       "      <td>Bimal</td>\n",
       "      <td>45</td>\n",
       "    </tr>\n",
       "    <tr>\n",
       "      <th>3</th>\n",
       "      <td>Shyamal</td>\n",
       "      <td>43</td>\n",
       "    </tr>\n",
       "  </tbody>\n",
       "</table>\n",
       "</div>"
      ],
      "text/plain": [
       "  emp_name  emp_age\n",
       "0     Amal       34\n",
       "1    Kamal       35\n",
       "2    Bimal       45\n",
       "3  Shyamal       43"
      ]
     },
     "execution_count": 37,
     "metadata": {},
     "output_type": "execute_result"
    }
   ],
   "source": [
    "data_dict = {'emp_name':['Amal', 'Kamal', 'Bimal', 'Shyamal'], 'emp_age':[34, 35, 45, 43]}\n",
    "emp_id = [100, 101, 102, 103]\n",
    "df = pd.DataFrame(data = data_dict)\n",
    "df"
   ]
  },
  {
   "cell_type": "code",
   "execution_count": 44,
   "id": "fdbd2d7e-62b2-40b0-94fa-9612829188a7",
   "metadata": {},
   "outputs": [
    {
     "name": "stdout",
     "output_type": "stream",
     "text": [
      "    emp_name  emp_age\n",
      "100     Amal       34\n",
      "101    Kamal       35\n",
      "102    Bimal       45\n",
      "103  Shyamal       43\n"
     ]
    },
    {
     "data": {
      "text/html": [
       "<div>\n",
       "<style scoped>\n",
       "    .dataframe tbody tr th:only-of-type {\n",
       "        vertical-align: middle;\n",
       "    }\n",
       "\n",
       "    .dataframe tbody tr th {\n",
       "        vertical-align: top;\n",
       "    }\n",
       "\n",
       "    .dataframe thead th {\n",
       "        text-align: right;\n",
       "    }\n",
       "</style>\n",
       "<table border=\"1\" class=\"dataframe\">\n",
       "  <thead>\n",
       "    <tr style=\"text-align: right;\">\n",
       "      <th></th>\n",
       "      <th>emp_name</th>\n",
       "      <th>emp_age</th>\n",
       "    </tr>\n",
       "  </thead>\n",
       "  <tbody>\n",
       "    <tr>\n",
       "      <th>100</th>\n",
       "      <td>Amal</td>\n",
       "      <td>34</td>\n",
       "    </tr>\n",
       "    <tr>\n",
       "      <th>101</th>\n",
       "      <td>Kamal</td>\n",
       "      <td>35</td>\n",
       "    </tr>\n",
       "    <tr>\n",
       "      <th>102</th>\n",
       "      <td>Bimal</td>\n",
       "      <td>45</td>\n",
       "    </tr>\n",
       "    <tr>\n",
       "      <th>103</th>\n",
       "      <td>Shyamal</td>\n",
       "      <td>43</td>\n",
       "    </tr>\n",
       "  </tbody>\n",
       "</table>\n",
       "</div>"
      ],
      "text/plain": [
       "    emp_name  emp_age\n",
       "100     Amal       34\n",
       "101    Kamal       35\n",
       "102    Bimal       45\n",
       "103  Shyamal       43"
      ]
     },
     "execution_count": 44,
     "metadata": {},
     "output_type": "execute_result"
    }
   ],
   "source": [
    "data_dict = {'emp_name':['Amal', 'Kamal', 'Bimal', 'Shyamal'], 'emp_age':[34, 35, 45, 43]}\n",
    "emp_id = [100, 101, 102, 103]\n",
    "df = pd.DataFrame(data = data_dict, index = emp_id)\n",
    "print (df)\n",
    "df"
   ]
  },
  {
   "cell_type": "code",
   "execution_count": 40,
   "id": "17f1ab18-fd04-4d14-b99d-bb485fcf0185",
   "metadata": {},
   "outputs": [
    {
     "data": {
      "text/html": [
       "<div>\n",
       "<style scoped>\n",
       "    .dataframe tbody tr th:only-of-type {\n",
       "        vertical-align: middle;\n",
       "    }\n",
       "\n",
       "    .dataframe tbody tr th {\n",
       "        vertical-align: top;\n",
       "    }\n",
       "\n",
       "    .dataframe thead th {\n",
       "        text-align: right;\n",
       "    }\n",
       "</style>\n",
       "<table border=\"1\" class=\"dataframe\">\n",
       "  <thead>\n",
       "    <tr style=\"text-align: right;\">\n",
       "      <th></th>\n",
       "      <th>index</th>\n",
       "      <th>emp_name</th>\n",
       "      <th>emp_age</th>\n",
       "    </tr>\n",
       "  </thead>\n",
       "  <tbody>\n",
       "    <tr>\n",
       "      <th>0</th>\n",
       "      <td>100</td>\n",
       "      <td>Amal</td>\n",
       "      <td>34</td>\n",
       "    </tr>\n",
       "    <tr>\n",
       "      <th>1</th>\n",
       "      <td>101</td>\n",
       "      <td>Kamal</td>\n",
       "      <td>35</td>\n",
       "    </tr>\n",
       "    <tr>\n",
       "      <th>2</th>\n",
       "      <td>102</td>\n",
       "      <td>Bimal</td>\n",
       "      <td>45</td>\n",
       "    </tr>\n",
       "    <tr>\n",
       "      <th>3</th>\n",
       "      <td>103</td>\n",
       "      <td>Shyamal</td>\n",
       "      <td>43</td>\n",
       "    </tr>\n",
       "  </tbody>\n",
       "</table>\n",
       "</div>"
      ],
      "text/plain": [
       "   index emp_name  emp_age\n",
       "0    100     Amal       34\n",
       "1    101    Kamal       35\n",
       "2    102    Bimal       45\n",
       "3    103  Shyamal       43"
      ]
     },
     "execution_count": 40,
     "metadata": {},
     "output_type": "execute_result"
    }
   ],
   "source": [
    "data_dict = {'emp_name':['Amal', 'Kamal', 'Bimal', 'Shyamal'], 'emp_age':[34, 35, 45, 43]}\n",
    "emp_id = [100, 101, 102, 103]\n",
    "df = pd.DataFrame(data = data_dict, index = emp_id)\n",
    "df = df.reset_index()\n",
    "df"
   ]
  },
  {
   "cell_type": "code",
   "execution_count": 43,
   "id": "c0837717-400e-439b-ac21-433f36db68b5",
   "metadata": {},
   "outputs": [
    {
     "data": {
      "text/html": [
       "<div>\n",
       "<style scoped>\n",
       "    .dataframe tbody tr th:only-of-type {\n",
       "        vertical-align: middle;\n",
       "    }\n",
       "\n",
       "    .dataframe tbody tr th {\n",
       "        vertical-align: top;\n",
       "    }\n",
       "\n",
       "    .dataframe thead th {\n",
       "        text-align: right;\n",
       "    }\n",
       "</style>\n",
       "<table border=\"1\" class=\"dataframe\">\n",
       "  <thead>\n",
       "    <tr style=\"text-align: right;\">\n",
       "      <th></th>\n",
       "      <th>index</th>\n",
       "      <th>emp_name</th>\n",
       "      <th>emp_age</th>\n",
       "    </tr>\n",
       "  </thead>\n",
       "  <tbody>\n",
       "    <tr>\n",
       "      <th>0</th>\n",
       "      <td>100</td>\n",
       "      <td>Amal</td>\n",
       "      <td>34</td>\n",
       "    </tr>\n",
       "    <tr>\n",
       "      <th>1</th>\n",
       "      <td>101</td>\n",
       "      <td>Kamal</td>\n",
       "      <td>35</td>\n",
       "    </tr>\n",
       "    <tr>\n",
       "      <th>2</th>\n",
       "      <td>102</td>\n",
       "      <td>Bimal</td>\n",
       "      <td>45</td>\n",
       "    </tr>\n",
       "    <tr>\n",
       "      <th>3</th>\n",
       "      <td>103</td>\n",
       "      <td>Shyamal</td>\n",
       "      <td>43</td>\n",
       "    </tr>\n",
       "  </tbody>\n",
       "</table>\n",
       "</div>"
      ],
      "text/plain": [
       "   index emp_name  emp_age\n",
       "0    100     Amal       34\n",
       "1    101    Kamal       35\n",
       "2    102    Bimal       45\n",
       "3    103  Shyamal       43"
      ]
     },
     "execution_count": 43,
     "metadata": {},
     "output_type": "execute_result"
    }
   ],
   "source": [
    "data_dict = {'emp_name':['Amal', 'Kamal', 'Bimal', 'Shyamal'], 'emp_age':[34, 35, 45, 43]}\n",
    "emp_id = [100, 101, 102, 103]\n",
    "df = pd.DataFrame(data = data_dict, index = emp_id)\n",
    "df.reset_index(inplace = True)\n",
    "df"
   ]
  },
  {
   "cell_type": "markdown",
   "id": "e2a5fc21-0bc1-44dc-81a3-3e4b7da9ff23",
   "metadata": {},
   "source": [
    "## **Creating three users: user1, user2 and user3**"
   ]
  },
  {
   "cell_type": "code",
   "execution_count": 57,
   "id": "5ca7cb8d-b073-484a-9d0e-485eb89275c1",
   "metadata": {},
   "outputs": [
    {
     "data": {
      "text/html": [
       "<div>\n",
       "<style scoped>\n",
       "    .dataframe tbody tr th:only-of-type {\n",
       "        vertical-align: middle;\n",
       "    }\n",
       "\n",
       "    .dataframe tbody tr th {\n",
       "        vertical-align: top;\n",
       "    }\n",
       "\n",
       "    .dataframe thead th {\n",
       "        text-align: right;\n",
       "    }\n",
       "</style>\n",
       "<table border=\"1\" class=\"dataframe\">\n",
       "  <thead>\n",
       "    <tr style=\"text-align: right;\">\n",
       "      <th></th>\n",
       "      <th>name</th>\n",
       "      <th>age</th>\n",
       "      <th>gender</th>\n",
       "      <th>job</th>\n",
       "    </tr>\n",
       "  </thead>\n",
       "  <tbody>\n",
       "    <tr>\n",
       "      <th>0</th>\n",
       "      <td>alice</td>\n",
       "      <td>19</td>\n",
       "      <td>F</td>\n",
       "      <td>student</td>\n",
       "    </tr>\n",
       "    <tr>\n",
       "      <th>1</th>\n",
       "      <td>john</td>\n",
       "      <td>26</td>\n",
       "      <td>M</td>\n",
       "      <td>student</td>\n",
       "    </tr>\n",
       "  </tbody>\n",
       "</table>\n",
       "</div>"
      ],
      "text/plain": [
       "    name  age gender      job\n",
       "0  alice   19      F  student\n",
       "1   john   26      M  student"
      ]
     },
     "execution_count": 57,
     "metadata": {},
     "output_type": "execute_result"
    }
   ],
   "source": [
    "user_data = [['alice', 19, 'F', 'student'], ['john', 26, 'M', 'student']]\n",
    "user_columns = ['name', 'age', 'gender', 'job']\n",
    "user1 = pd.DataFrame(data = user_data, columns = user_columns)\n",
    "user1"
   ]
  },
  {
   "cell_type": "code",
   "execution_count": 62,
   "id": "380e7ce0-68fa-4ee7-9039-674333b2c519",
   "metadata": {},
   "outputs": [
    {
     "name": "stdout",
     "output_type": "stream",
     "text": [
      "{'name': ['eric', 'paul'], 'age': [22, 58], 'gender': ['M', 'F'], 'job': ['student', 'manager']}\n"
     ]
    },
    {
     "data": {
      "text/html": [
       "<div>\n",
       "<style scoped>\n",
       "    .dataframe tbody tr th:only-of-type {\n",
       "        vertical-align: middle;\n",
       "    }\n",
       "\n",
       "    .dataframe tbody tr th {\n",
       "        vertical-align: top;\n",
       "    }\n",
       "\n",
       "    .dataframe thead th {\n",
       "        text-align: right;\n",
       "    }\n",
       "</style>\n",
       "<table border=\"1\" class=\"dataframe\">\n",
       "  <thead>\n",
       "    <tr style=\"text-align: right;\">\n",
       "      <th></th>\n",
       "      <th>name</th>\n",
       "      <th>age</th>\n",
       "      <th>gender</th>\n",
       "      <th>job</th>\n",
       "    </tr>\n",
       "  </thead>\n",
       "  <tbody>\n",
       "    <tr>\n",
       "      <th>0</th>\n",
       "      <td>eric</td>\n",
       "      <td>22</td>\n",
       "      <td>M</td>\n",
       "      <td>student</td>\n",
       "    </tr>\n",
       "    <tr>\n",
       "      <th>1</th>\n",
       "      <td>paul</td>\n",
       "      <td>58</td>\n",
       "      <td>F</td>\n",
       "      <td>manager</td>\n",
       "    </tr>\n",
       "  </tbody>\n",
       "</table>\n",
       "</div>"
      ],
      "text/plain": [
       "   name  age gender      job\n",
       "0  eric   22      M  student\n",
       "1  paul   58      F  manager"
      ]
     },
     "execution_count": 62,
     "metadata": {},
     "output_type": "execute_result"
    }
   ],
   "source": [
    "user_data = dict(name = ['eric', 'paul'], age = [22, 58], gender = ['M', 'F'], job = ['student', 'manager'])\n",
    "print (user_data)\n",
    "user2 = pd.DataFrame(data = user_data)\n",
    "user2"
   ]
  },
  {
   "cell_type": "code",
   "execution_count": 48,
   "id": "f6730107-243a-4f4b-b5ab-8a19e56c1935",
   "metadata": {},
   "outputs": [
    {
     "data": {
      "text/html": [
       "<div>\n",
       "<style scoped>\n",
       "    .dataframe tbody tr th:only-of-type {\n",
       "        vertical-align: middle;\n",
       "    }\n",
       "\n",
       "    .dataframe tbody tr th {\n",
       "        vertical-align: top;\n",
       "    }\n",
       "\n",
       "    .dataframe thead th {\n",
       "        text-align: right;\n",
       "    }\n",
       "</style>\n",
       "<table border=\"1\" class=\"dataframe\">\n",
       "  <thead>\n",
       "    <tr style=\"text-align: right;\">\n",
       "      <th></th>\n",
       "      <th>name</th>\n",
       "      <th>age</th>\n",
       "      <th>gender</th>\n",
       "      <th>job</th>\n",
       "    </tr>\n",
       "  </thead>\n",
       "  <tbody>\n",
       "    <tr>\n",
       "      <th>0</th>\n",
       "      <td>peter</td>\n",
       "      <td>33</td>\n",
       "      <td>M</td>\n",
       "      <td>engineer</td>\n",
       "    </tr>\n",
       "    <tr>\n",
       "      <th>1</th>\n",
       "      <td>julie</td>\n",
       "      <td>44</td>\n",
       "      <td>F</td>\n",
       "      <td>scientist</td>\n",
       "    </tr>\n",
       "  </tbody>\n",
       "</table>\n",
       "</div>"
      ],
      "text/plain": [
       "    name  age gender        job\n",
       "0  peter   33      M   engineer\n",
       "1  julie   44      F  scientist"
      ]
     },
     "execution_count": 48,
     "metadata": {},
     "output_type": "execute_result"
    }
   ],
   "source": [
    "user_data = {'name': ['peter', 'julie'], 'age': [33, 44], 'gender': ['M', 'F'], 'job': ['engineer', 'scientist']}\n",
    "user3 = pd.DataFrame(data = user_data)\n",
    "user3"
   ]
  },
  {
   "cell_type": "markdown",
   "id": "dd7be8c1-8cb0-402a-b683-03763a0f8f75",
   "metadata": {},
   "source": [
    "## **Concatenation of DataFrames**"
   ]
  },
  {
   "cell_type": "code",
   "execution_count": 63,
   "id": "8d12c9a3-9afc-4998-bb70-3aee22595f76",
   "metadata": {},
   "outputs": [
    {
     "data": {
      "text/html": [
       "<div>\n",
       "<style scoped>\n",
       "    .dataframe tbody tr th:only-of-type {\n",
       "        vertical-align: middle;\n",
       "    }\n",
       "\n",
       "    .dataframe tbody tr th {\n",
       "        vertical-align: top;\n",
       "    }\n",
       "\n",
       "    .dataframe thead th {\n",
       "        text-align: right;\n",
       "    }\n",
       "</style>\n",
       "<table border=\"1\" class=\"dataframe\">\n",
       "  <thead>\n",
       "    <tr style=\"text-align: right;\">\n",
       "      <th></th>\n",
       "      <th>name</th>\n",
       "      <th>age</th>\n",
       "      <th>gender</th>\n",
       "      <th>job</th>\n",
       "    </tr>\n",
       "  </thead>\n",
       "  <tbody>\n",
       "    <tr>\n",
       "      <th>0</th>\n",
       "      <td>alice</td>\n",
       "      <td>19</td>\n",
       "      <td>F</td>\n",
       "      <td>student</td>\n",
       "    </tr>\n",
       "    <tr>\n",
       "      <th>1</th>\n",
       "      <td>john</td>\n",
       "      <td>26</td>\n",
       "      <td>M</td>\n",
       "      <td>student</td>\n",
       "    </tr>\n",
       "    <tr>\n",
       "      <th>0</th>\n",
       "      <td>eric</td>\n",
       "      <td>22</td>\n",
       "      <td>M</td>\n",
       "      <td>student</td>\n",
       "    </tr>\n",
       "    <tr>\n",
       "      <th>1</th>\n",
       "      <td>paul</td>\n",
       "      <td>58</td>\n",
       "      <td>F</td>\n",
       "      <td>manager</td>\n",
       "    </tr>\n",
       "  </tbody>\n",
       "</table>\n",
       "</div>"
      ],
      "text/plain": [
       "    name  age gender      job\n",
       "0  alice   19      F  student\n",
       "1   john   26      M  student\n",
       "0   eric   22      M  student\n",
       "1   paul   58      F  manager"
      ]
     },
     "execution_count": 63,
     "metadata": {},
     "output_type": "execute_result"
    }
   ],
   "source": [
    "users = user1.append(user2)\n",
    "users"
   ]
  },
  {
   "cell_type": "code",
   "execution_count": 64,
   "id": "7fa64c2b-f726-42b9-a5e3-e97a4250ad81",
   "metadata": {},
   "outputs": [
    {
     "data": {
      "text/html": [
       "<div>\n",
       "<style scoped>\n",
       "    .dataframe tbody tr th:only-of-type {\n",
       "        vertical-align: middle;\n",
       "    }\n",
       "\n",
       "    .dataframe tbody tr th {\n",
       "        vertical-align: top;\n",
       "    }\n",
       "\n",
       "    .dataframe thead th {\n",
       "        text-align: right;\n",
       "    }\n",
       "</style>\n",
       "<table border=\"1\" class=\"dataframe\">\n",
       "  <thead>\n",
       "    <tr style=\"text-align: right;\">\n",
       "      <th></th>\n",
       "      <th>name</th>\n",
       "      <th>age</th>\n",
       "      <th>gender</th>\n",
       "      <th>job</th>\n",
       "    </tr>\n",
       "  </thead>\n",
       "  <tbody>\n",
       "    <tr>\n",
       "      <th>0</th>\n",
       "      <td>alice</td>\n",
       "      <td>19</td>\n",
       "      <td>F</td>\n",
       "      <td>student</td>\n",
       "    </tr>\n",
       "    <tr>\n",
       "      <th>1</th>\n",
       "      <td>john</td>\n",
       "      <td>26</td>\n",
       "      <td>M</td>\n",
       "      <td>student</td>\n",
       "    </tr>\n",
       "    <tr>\n",
       "      <th>2</th>\n",
       "      <td>eric</td>\n",
       "      <td>22</td>\n",
       "      <td>M</td>\n",
       "      <td>student</td>\n",
       "    </tr>\n",
       "    <tr>\n",
       "      <th>3</th>\n",
       "      <td>paul</td>\n",
       "      <td>58</td>\n",
       "      <td>F</td>\n",
       "      <td>manager</td>\n",
       "    </tr>\n",
       "  </tbody>\n",
       "</table>\n",
       "</div>"
      ],
      "text/plain": [
       "    name  age gender      job\n",
       "0  alice   19      F  student\n",
       "1   john   26      M  student\n",
       "2   eric   22      M  student\n",
       "3   paul   58      F  manager"
      ]
     },
     "execution_count": 64,
     "metadata": {},
     "output_type": "execute_result"
    }
   ],
   "source": [
    "users = user1.append(user2, ignore_index=True)\n",
    "users"
   ]
  },
  {
   "cell_type": "code",
   "execution_count": 65,
   "id": "c364f93e-360d-4f99-a6e2-85da6baa3b39",
   "metadata": {},
   "outputs": [
    {
     "data": {
      "text/html": [
       "<div>\n",
       "<style scoped>\n",
       "    .dataframe tbody tr th:only-of-type {\n",
       "        vertical-align: middle;\n",
       "    }\n",
       "\n",
       "    .dataframe tbody tr th {\n",
       "        vertical-align: top;\n",
       "    }\n",
       "\n",
       "    .dataframe thead th {\n",
       "        text-align: right;\n",
       "    }\n",
       "</style>\n",
       "<table border=\"1\" class=\"dataframe\">\n",
       "  <thead>\n",
       "    <tr style=\"text-align: right;\">\n",
       "      <th></th>\n",
       "      <th>name</th>\n",
       "      <th>age</th>\n",
       "      <th>gender</th>\n",
       "      <th>job</th>\n",
       "    </tr>\n",
       "  </thead>\n",
       "  <tbody>\n",
       "    <tr>\n",
       "      <th>0</th>\n",
       "      <td>alice</td>\n",
       "      <td>19</td>\n",
       "      <td>F</td>\n",
       "      <td>student</td>\n",
       "    </tr>\n",
       "    <tr>\n",
       "      <th>1</th>\n",
       "      <td>john</td>\n",
       "      <td>26</td>\n",
       "      <td>M</td>\n",
       "      <td>student</td>\n",
       "    </tr>\n",
       "    <tr>\n",
       "      <th>2</th>\n",
       "      <td>eric</td>\n",
       "      <td>22</td>\n",
       "      <td>M</td>\n",
       "      <td>student</td>\n",
       "    </tr>\n",
       "    <tr>\n",
       "      <th>3</th>\n",
       "      <td>paul</td>\n",
       "      <td>58</td>\n",
       "      <td>F</td>\n",
       "      <td>manager</td>\n",
       "    </tr>\n",
       "    <tr>\n",
       "      <th>4</th>\n",
       "      <td>peter</td>\n",
       "      <td>33</td>\n",
       "      <td>M</td>\n",
       "      <td>engineer</td>\n",
       "    </tr>\n",
       "    <tr>\n",
       "      <th>5</th>\n",
       "      <td>julie</td>\n",
       "      <td>44</td>\n",
       "      <td>F</td>\n",
       "      <td>scientist</td>\n",
       "    </tr>\n",
       "  </tbody>\n",
       "</table>\n",
       "</div>"
      ],
      "text/plain": [
       "    name  age gender        job\n",
       "0  alice   19      F    student\n",
       "1   john   26      M    student\n",
       "2   eric   22      M    student\n",
       "3   paul   58      F    manager\n",
       "4  peter   33      M   engineer\n",
       "5  julie   44      F  scientist"
      ]
     },
     "execution_count": 65,
     "metadata": {},
     "output_type": "execute_result"
    }
   ],
   "source": [
    "users = users.append(user3, ignore_index=True)\n",
    "users"
   ]
  },
  {
   "cell_type": "code",
   "execution_count": 66,
   "id": "7b16de15-839e-42f2-84a4-be2e7833f425",
   "metadata": {},
   "outputs": [
    {
     "data": {
      "text/html": [
       "<div>\n",
       "<style scoped>\n",
       "    .dataframe tbody tr th:only-of-type {\n",
       "        vertical-align: middle;\n",
       "    }\n",
       "\n",
       "    .dataframe tbody tr th {\n",
       "        vertical-align: top;\n",
       "    }\n",
       "\n",
       "    .dataframe thead th {\n",
       "        text-align: right;\n",
       "    }\n",
       "</style>\n",
       "<table border=\"1\" class=\"dataframe\">\n",
       "  <thead>\n",
       "    <tr style=\"text-align: right;\">\n",
       "      <th></th>\n",
       "      <th>name</th>\n",
       "      <th>age</th>\n",
       "      <th>gender</th>\n",
       "      <th>job</th>\n",
       "    </tr>\n",
       "  </thead>\n",
       "  <tbody>\n",
       "    <tr>\n",
       "      <th>0</th>\n",
       "      <td>alice</td>\n",
       "      <td>19</td>\n",
       "      <td>F</td>\n",
       "      <td>student</td>\n",
       "    </tr>\n",
       "    <tr>\n",
       "      <th>1</th>\n",
       "      <td>john</td>\n",
       "      <td>26</td>\n",
       "      <td>M</td>\n",
       "      <td>student</td>\n",
       "    </tr>\n",
       "    <tr>\n",
       "      <th>2</th>\n",
       "      <td>eric</td>\n",
       "      <td>22</td>\n",
       "      <td>M</td>\n",
       "      <td>student</td>\n",
       "    </tr>\n",
       "    <tr>\n",
       "      <th>3</th>\n",
       "      <td>paul</td>\n",
       "      <td>58</td>\n",
       "      <td>F</td>\n",
       "      <td>manager</td>\n",
       "    </tr>\n",
       "    <tr>\n",
       "      <th>4</th>\n",
       "      <td>peter</td>\n",
       "      <td>33</td>\n",
       "      <td>M</td>\n",
       "      <td>engineer</td>\n",
       "    </tr>\n",
       "    <tr>\n",
       "      <th>5</th>\n",
       "      <td>julie</td>\n",
       "      <td>44</td>\n",
       "      <td>F</td>\n",
       "      <td>scientist</td>\n",
       "    </tr>\n",
       "  </tbody>\n",
       "</table>\n",
       "</div>"
      ],
      "text/plain": [
       "    name  age gender        job\n",
       "0  alice   19      F    student\n",
       "1   john   26      M    student\n",
       "2   eric   22      M    student\n",
       "3   paul   58      F    manager\n",
       "4  peter   33      M   engineer\n",
       "5  julie   44      F  scientist"
      ]
     },
     "execution_count": 66,
     "metadata": {},
     "output_type": "execute_result"
    }
   ],
   "source": [
    "users = user1.append(user2).append(user3, ignore_index = True)\n",
    "users"
   ]
  },
  {
   "cell_type": "code",
   "execution_count": 68,
   "id": "4738228e-394d-4fa4-b740-29a77c11a7e7",
   "metadata": {},
   "outputs": [
    {
     "data": {
      "text/html": [
       "<div>\n",
       "<style scoped>\n",
       "    .dataframe tbody tr th:only-of-type {\n",
       "        vertical-align: middle;\n",
       "    }\n",
       "\n",
       "    .dataframe tbody tr th {\n",
       "        vertical-align: top;\n",
       "    }\n",
       "\n",
       "    .dataframe thead th {\n",
       "        text-align: right;\n",
       "    }\n",
       "</style>\n",
       "<table border=\"1\" class=\"dataframe\">\n",
       "  <thead>\n",
       "    <tr style=\"text-align: right;\">\n",
       "      <th></th>\n",
       "      <th>name</th>\n",
       "      <th>age</th>\n",
       "      <th>gender</th>\n",
       "      <th>job</th>\n",
       "    </tr>\n",
       "  </thead>\n",
       "  <tbody>\n",
       "    <tr>\n",
       "      <th>0</th>\n",
       "      <td>alice</td>\n",
       "      <td>19</td>\n",
       "      <td>F</td>\n",
       "      <td>student</td>\n",
       "    </tr>\n",
       "    <tr>\n",
       "      <th>1</th>\n",
       "      <td>john</td>\n",
       "      <td>26</td>\n",
       "      <td>M</td>\n",
       "      <td>student</td>\n",
       "    </tr>\n",
       "    <tr>\n",
       "      <th>0</th>\n",
       "      <td>eric</td>\n",
       "      <td>22</td>\n",
       "      <td>M</td>\n",
       "      <td>student</td>\n",
       "    </tr>\n",
       "    <tr>\n",
       "      <th>1</th>\n",
       "      <td>paul</td>\n",
       "      <td>58</td>\n",
       "      <td>F</td>\n",
       "      <td>manager</td>\n",
       "    </tr>\n",
       "    <tr>\n",
       "      <th>0</th>\n",
       "      <td>peter</td>\n",
       "      <td>33</td>\n",
       "      <td>M</td>\n",
       "      <td>engineer</td>\n",
       "    </tr>\n",
       "    <tr>\n",
       "      <th>1</th>\n",
       "      <td>julie</td>\n",
       "      <td>44</td>\n",
       "      <td>F</td>\n",
       "      <td>scientist</td>\n",
       "    </tr>\n",
       "  </tbody>\n",
       "</table>\n",
       "</div>"
      ],
      "text/plain": [
       "    name  age gender        job\n",
       "0  alice   19      F    student\n",
       "1   john   26      M    student\n",
       "0   eric   22      M    student\n",
       "1   paul   58      F    manager\n",
       "0  peter   33      M   engineer\n",
       "1  julie   44      F  scientist"
      ]
     },
     "execution_count": 68,
     "metadata": {},
     "output_type": "execute_result"
    }
   ],
   "source": [
    "users = pd.concat([user1, user2, user3])\n",
    "users"
   ]
  },
  {
   "cell_type": "code",
   "execution_count": 70,
   "id": "fef3ecd2-fddc-43e6-a5b6-15260c8c50eb",
   "metadata": {},
   "outputs": [
    {
     "data": {
      "text/html": [
       "<div>\n",
       "<style scoped>\n",
       "    .dataframe tbody tr th:only-of-type {\n",
       "        vertical-align: middle;\n",
       "    }\n",
       "\n",
       "    .dataframe tbody tr th {\n",
       "        vertical-align: top;\n",
       "    }\n",
       "\n",
       "    .dataframe thead th {\n",
       "        text-align: right;\n",
       "    }\n",
       "</style>\n",
       "<table border=\"1\" class=\"dataframe\">\n",
       "  <thead>\n",
       "    <tr style=\"text-align: right;\">\n",
       "      <th></th>\n",
       "      <th>name</th>\n",
       "      <th>age</th>\n",
       "      <th>gender</th>\n",
       "      <th>job</th>\n",
       "    </tr>\n",
       "  </thead>\n",
       "  <tbody>\n",
       "    <tr>\n",
       "      <th>0</th>\n",
       "      <td>alice</td>\n",
       "      <td>19</td>\n",
       "      <td>F</td>\n",
       "      <td>student</td>\n",
       "    </tr>\n",
       "    <tr>\n",
       "      <th>1</th>\n",
       "      <td>john</td>\n",
       "      <td>26</td>\n",
       "      <td>M</td>\n",
       "      <td>student</td>\n",
       "    </tr>\n",
       "    <tr>\n",
       "      <th>2</th>\n",
       "      <td>eric</td>\n",
       "      <td>22</td>\n",
       "      <td>M</td>\n",
       "      <td>student</td>\n",
       "    </tr>\n",
       "    <tr>\n",
       "      <th>3</th>\n",
       "      <td>paul</td>\n",
       "      <td>58</td>\n",
       "      <td>F</td>\n",
       "      <td>manager</td>\n",
       "    </tr>\n",
       "    <tr>\n",
       "      <th>4</th>\n",
       "      <td>peter</td>\n",
       "      <td>33</td>\n",
       "      <td>M</td>\n",
       "      <td>engineer</td>\n",
       "    </tr>\n",
       "    <tr>\n",
       "      <th>5</th>\n",
       "      <td>julie</td>\n",
       "      <td>44</td>\n",
       "      <td>F</td>\n",
       "      <td>scientist</td>\n",
       "    </tr>\n",
       "  </tbody>\n",
       "</table>\n",
       "</div>"
      ],
      "text/plain": [
       "    name  age gender        job\n",
       "0  alice   19      F    student\n",
       "1   john   26      M    student\n",
       "2   eric   22      M    student\n",
       "3   paul   58      F    manager\n",
       "4  peter   33      M   engineer\n",
       "5  julie   44      F  scientist"
      ]
     },
     "execution_count": 70,
     "metadata": {},
     "output_type": "execute_result"
    }
   ],
   "source": [
    "users = pd.concat([user1, user2, user3], ignore_index = True)\n",
    "users"
   ]
  },
  {
   "cell_type": "markdown",
   "id": "1dfe9be6-cf68-4b11-bac4-17442024b01a",
   "metadata": {},
   "source": [
    "## **DataFrame to NumPy ndarray**"
   ]
  },
  {
   "cell_type": "code",
   "execution_count": 71,
   "id": "4f35ad25-a992-4e66-9b2a-d96388970cd6",
   "metadata": {},
   "outputs": [
    {
     "data": {
      "text/html": [
       "<div>\n",
       "<style scoped>\n",
       "    .dataframe tbody tr th:only-of-type {\n",
       "        vertical-align: middle;\n",
       "    }\n",
       "\n",
       "    .dataframe tbody tr th {\n",
       "        vertical-align: top;\n",
       "    }\n",
       "\n",
       "    .dataframe thead th {\n",
       "        text-align: right;\n",
       "    }\n",
       "</style>\n",
       "<table border=\"1\" class=\"dataframe\">\n",
       "  <thead>\n",
       "    <tr style=\"text-align: right;\">\n",
       "      <th></th>\n",
       "      <th>name</th>\n",
       "      <th>age</th>\n",
       "      <th>gender</th>\n",
       "      <th>job</th>\n",
       "    </tr>\n",
       "  </thead>\n",
       "  <tbody>\n",
       "    <tr>\n",
       "      <th>0</th>\n",
       "      <td>alice</td>\n",
       "      <td>19</td>\n",
       "      <td>F</td>\n",
       "      <td>student</td>\n",
       "    </tr>\n",
       "    <tr>\n",
       "      <th>1</th>\n",
       "      <td>john</td>\n",
       "      <td>26</td>\n",
       "      <td>M</td>\n",
       "      <td>student</td>\n",
       "    </tr>\n",
       "    <tr>\n",
       "      <th>2</th>\n",
       "      <td>eric</td>\n",
       "      <td>22</td>\n",
       "      <td>M</td>\n",
       "      <td>student</td>\n",
       "    </tr>\n",
       "    <tr>\n",
       "      <th>3</th>\n",
       "      <td>paul</td>\n",
       "      <td>58</td>\n",
       "      <td>F</td>\n",
       "      <td>manager</td>\n",
       "    </tr>\n",
       "    <tr>\n",
       "      <th>4</th>\n",
       "      <td>peter</td>\n",
       "      <td>33</td>\n",
       "      <td>M</td>\n",
       "      <td>engineer</td>\n",
       "    </tr>\n",
       "    <tr>\n",
       "      <th>5</th>\n",
       "      <td>julie</td>\n",
       "      <td>44</td>\n",
       "      <td>F</td>\n",
       "      <td>scientist</td>\n",
       "    </tr>\n",
       "  </tbody>\n",
       "</table>\n",
       "</div>"
      ],
      "text/plain": [
       "    name  age gender        job\n",
       "0  alice   19      F    student\n",
       "1   john   26      M    student\n",
       "2   eric   22      M    student\n",
       "3   paul   58      F    manager\n",
       "4  peter   33      M   engineer\n",
       "5  julie   44      F  scientist"
      ]
     },
     "execution_count": 71,
     "metadata": {},
     "output_type": "execute_result"
    }
   ],
   "source": [
    "users"
   ]
  },
  {
   "cell_type": "code",
   "execution_count": 73,
   "id": "8fe05422-5741-4380-8e02-830707784a6c",
   "metadata": {},
   "outputs": [
    {
     "name": "stdout",
     "output_type": "stream",
     "text": [
      "[['alice' 'student']\n",
      " ['john' 'student']\n",
      " ['eric' 'student']\n",
      " ['paul' 'manager']\n",
      " ['peter' 'engineer']\n",
      " ['julie' 'scientist']] <class 'numpy.ndarray'> (6, 2)\n"
     ]
    }
   ],
   "source": [
    "arr_data = users[['name', 'job']].to_numpy()\n",
    "print (arr_data, type(arr_data), arr_data.shape)"
   ]
  },
  {
   "cell_type": "code",
   "execution_count": 74,
   "id": "d1dcbc85-6e89-46d4-b17b-2a4664cbc616",
   "metadata": {},
   "outputs": [
    {
     "name": "stdout",
     "output_type": "stream",
     "text": [
      "[['alice' 19 'F' 'student']\n",
      " ['john' 26 'M' 'student']\n",
      " ['eric' 22 'M' 'student']\n",
      " ['paul' 58 'F' 'manager']\n",
      " ['peter' 33 'M' 'engineer']\n",
      " ['julie' 44 'F' 'scientist']] <class 'numpy.ndarray'> (6, 4)\n"
     ]
    }
   ],
   "source": [
    "arr_data = users.to_numpy()\n",
    "print (arr_data, type(arr_data), arr_data.shape)"
   ]
  },
  {
   "cell_type": "code",
   "execution_count": 76,
   "id": "ceade90e-2c09-4c5d-ae7c-c5b45ee77405",
   "metadata": {},
   "outputs": [
    {
     "name": "stdout",
     "output_type": "stream",
     "text": [
      "[['alice' 19 'F' 'student']\n",
      " ['john' 26 'M' 'student']\n",
      " ['eric' 22 'M' 'student']\n",
      " ['paul' 58 'F' 'manager']\n",
      " ['peter' 33 'M' 'engineer']\n",
      " ['julie' 44 'F' 'scientist']] <class 'numpy.ndarray'> (6, 4)\n"
     ]
    }
   ],
   "source": [
    "arr_data = np.array(users)\n",
    "print (arr_data, type(arr_data), arr_data.shape)"
   ]
  },
  {
   "cell_type": "code",
   "execution_count": null,
   "id": "1673d091-b87e-4363-803e-7fcbdc56a061",
   "metadata": {},
   "outputs": [],
   "source": []
  },
  {
   "cell_type": "code",
   "execution_count": null,
   "id": "cff3e003-7262-406f-a349-23217713abd8",
   "metadata": {},
   "outputs": [],
   "source": []
  },
  {
   "cell_type": "code",
   "execution_count": null,
   "id": "6c8eb089-80d7-4378-bbff-a152ac63af90",
   "metadata": {},
   "outputs": [],
   "source": []
  },
  {
   "cell_type": "code",
   "execution_count": null,
   "id": "743f0db8-95b2-4d5d-8be3-f187b4aafd61",
   "metadata": {},
   "outputs": [],
   "source": []
  },
  {
   "cell_type": "code",
   "execution_count": null,
   "id": "ec6e8754-4600-48ab-b10e-94ad732fa804",
   "metadata": {},
   "outputs": [],
   "source": []
  },
  {
   "cell_type": "code",
   "execution_count": null,
   "id": "8312d08d-f150-4763-8ce0-3c2f7aeed278",
   "metadata": {},
   "outputs": [],
   "source": []
  },
  {
   "cell_type": "code",
   "execution_count": null,
   "id": "0e853f88-e638-4634-9b1d-a66b9f8c0205",
   "metadata": {},
   "outputs": [],
   "source": []
  },
  {
   "cell_type": "code",
   "execution_count": null,
   "id": "ac34907a-eb3f-455a-b72b-d67ed0c68c8b",
   "metadata": {},
   "outputs": [],
   "source": []
  }
 ],
 "metadata": {
  "kernelspec": {
   "display_name": "Python 3 (ipykernel)",
   "language": "python",
   "name": "python3"
  },
  "language_info": {
   "codemirror_mode": {
    "name": "ipython",
    "version": 3
   },
   "file_extension": ".py",
   "mimetype": "text/x-python",
   "name": "python",
   "nbconvert_exporter": "python",
   "pygments_lexer": "ipython3",
   "version": "3.10.9"
  }
 },
 "nbformat": 4,
 "nbformat_minor": 5
}
