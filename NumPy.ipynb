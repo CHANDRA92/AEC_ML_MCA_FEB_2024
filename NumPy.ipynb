{
 "cells": [
  {
   "cell_type": "markdown",
   "id": "ce47c71c-9286-4b8c-82e8-6bcc668e97b0",
   "metadata": {},
   "source": [
    "# **NUMPY: Arrays and Matrices**"
   ]
  },
  {
   "cell_type": "markdown",
   "id": "ec2b8e9c-eba6-4947-a5cf-8a65de1350a5",
   "metadata": {},
   "source": [
    "**NumPy** is an extension to the Python programming language, adding support for large, multi-dimensional (numerical) arrays and matrices, along with a large library of high-level mathematical functions to operate on these arrays. NumPy is having the full form **\"Numeric Python\"**."
   ]
  },
  {
   "cell_type": "code",
   "execution_count": 1,
   "id": "4652cd44-ee22-44c8-89b0-938622a7f47d",
   "metadata": {},
   "outputs": [],
   "source": [
    "# Importing Required module\n",
    "import numpy as np"
   ]
  },
  {
   "cell_type": "markdown",
   "id": "086803c8-3ae6-40d6-bdbd-16213d9906a4",
   "metadata": {},
   "source": [
    "## **Create arrays**"
   ]
  },
  {
   "cell_type": "code",
   "execution_count": 7,
   "id": "c40ee266-6237-45f1-8337-8145d4f1a045",
   "metadata": {},
   "outputs": [
    {
     "name": "stdout",
     "output_type": "stream",
     "text": [
      "[1, 2, 3, 4, 5] 5 <class 'list'> 1829049031936\n",
      "[1 2 3 4 5] <class 'numpy.ndarray'> 5 1829010777424\n"
     ]
    }
   ],
   "source": [
    "# create ndarrays from lists\n",
    "# note: every element must be the same data type (will be converted is possible)\n",
    "data1 = [1, 2, 3, 4, 5]        # list (all are interger data)\n",
    "print(data1, len(data1), type(data1), id(data1))\n",
    "arr1 = np.array(data1)         # 1-D array\n",
    "print (arr1, type(arr1), len(arr1), id(arr1))"
   ]
  },
  {
   "cell_type": "code",
   "execution_count": 8,
   "id": "6daeb7a3-8f90-494a-b1f5-e2af88f903e0",
   "metadata": {},
   "outputs": [
    {
     "name": "stdout",
     "output_type": "stream",
     "text": [
      "[1, 2.5, 3, 4, 5] 5 <class 'list'> 1829035517952\n",
      "[1.  2.5 3.  4.  5. ] <class 'numpy.ndarray'> 5 1829014960336\n"
     ]
    }
   ],
   "source": [
    "# create ndarrays from lists\n",
    "# note: every element must be the same data type (will be converted is possible)\n",
    "data1 = [1, 2.5, 3, 4, 5]      # list (mixed data types)\n",
    "print(data1, len(data1), type(data1), id(data1))\n",
    "arr1 = np.array(data1)         # 1-D array (converted to all float data)\n",
    "print (arr1, type(arr1), len(arr1), id(arr1))"
   ]
  },
  {
   "cell_type": "code",
   "execution_count": 9,
   "id": "cbd4633e-4262-4c11-acc6-be3609f4503d",
   "metadata": {},
   "outputs": [
    {
     "name": "stdout",
     "output_type": "stream",
     "text": [
      "[1, 2.5, '3', 4, 5] 5 <class 'list'> 1829049028608\n",
      "['1' '2.5' '3' '4' '5'] <class 'numpy.ndarray'> 5 1829015557520\n"
     ]
    }
   ],
   "source": [
    "# create ndarrays from lists\n",
    "# note: every element must be the same data type (will be converted is possible)\n",
    "data1 = [1, 2.5, \"3\", 4, 5]      # list (mixed data types)\n",
    "print(data1, len(data1), type(data1), id(data1))\n",
    "arr1 = np.array(data1)         # 1-D array (converted to all float data)\n",
    "print (arr1, type(arr1), len(arr1), id(arr1))"
   ]
  },
  {
   "cell_type": "code",
   "execution_count": 10,
   "id": "1ea48a63-90c0-4e0c-9b1c-f87cc54062f2",
   "metadata": {},
   "outputs": [
    {
     "name": "stdout",
     "output_type": "stream",
     "text": [
      "[1, 2, True, False, 3, 4, 5] 7 <class 'list'> 1829049198336\n",
      "[1 2 1 0 3 4 5] <class 'numpy.ndarray'> 7 1829049162160\n"
     ]
    }
   ],
   "source": [
    "# create ndarrays from lists\n",
    "# note: every element must be the same data type (will be converted is possible)\n",
    "data1 = [1, 2, True, False, 3, 4, 5]      # list (mixed data types)\n",
    "print(data1, len(data1), type(data1), id(data1))\n",
    "arr1 = np.array(data1)         # 1-D array (converted to all float data)\n",
    "print (arr1, type(arr1), len(arr1), id(arr1))"
   ]
  },
  {
   "cell_type": "code",
   "execution_count": 11,
   "id": "fbb5cc6c-d3be-4d6f-9ace-a3994319bfc6",
   "metadata": {},
   "outputs": [
    {
     "name": "stdout",
     "output_type": "stream",
     "text": [
      "[1, 2, True, False, 3, 4.5, '5'] 7 <class 'list'> 1829049114432\n",
      "['1' '2' 'True' 'False' '3' '4.5' '5'] <class 'numpy.ndarray'> 7 1829014959280\n"
     ]
    }
   ],
   "source": [
    "# create ndarrays from lists\n",
    "# note: every element must be the same data type (will be converted is possible)\n",
    "data1 = [1, 2, True, False, 3, 4.5, \"5\"]      # list (mixed data types)\n",
    "print(data1, len(data1), type(data1), id(data1))\n",
    "arr1 = np.array(data1)         # 1-D array (converted to all float data)\n",
    "print (arr1, type(arr1), len(arr1), id(arr1))"
   ]
  },
  {
   "cell_type": "code",
   "execution_count": 50,
   "id": "e83e7106-479b-449e-9c21-a3b7edc070a8",
   "metadata": {},
   "outputs": [
    {
     "name": "stdout",
     "output_type": "stream",
     "text": [
      "[1, 2, 3, 4]\n",
      "[[1, 2, 3, 4], [5, 6, 7, 8]] <class 'list'>\n",
      "[[1 2 3 4]\n",
      " [5 6 7 8]] <class 'numpy.ndarray'>\n",
      "1, 2, 3, 4, 5, 6, 7, 8, "
     ]
    }
   ],
   "source": [
    "print (list(range(1, 5)))             # range function creates a list\n",
    "data2 = [range(1, 5), range(5, 9)]    # list of lists\n",
    "data2 = [[1, 2, 3, 4], [5, 6, 7, 8]]\n",
    "arr2 = np.array(data2)                # 2-D array\n",
    "print (data2, type(data2))\n",
    "print (arr2, type(arr2))\n",
    "for x in np.nditer(arr2):             # iterating over the ndarray\n",
    "    print (x, end = \", \")"
   ]
  },
  {
   "cell_type": "code",
   "execution_count": 17,
   "id": "d2c28ef6-6769-452f-95d0-2ecd3abe24ea",
   "metadata": {},
   "outputs": [
    {
     "name": "stdout",
     "output_type": "stream",
     "text": [
      "[[1, 2, 3, 4], [5, 6, 7, 8]] <class 'list'>\n",
      "[array([1, 2, 3, 4]), array([5, 6, 7, 8])] <class 'list'>\n"
     ]
    }
   ],
   "source": [
    "list2 = arr2.tolist()                  # converting ndarray back to a list\n",
    "print (list2, type(list2))\n",
    "list2 = list(arr2)                     # converting ndarray back to a list\n",
    "print (list2, type(list2))"
   ]
  },
  {
   "cell_type": "code",
   "execution_count": 20,
   "id": "954818fd-955e-4b4a-9a4a-a9e91cee0eff",
   "metadata": {},
   "outputs": [
    {
     "name": "stdout",
     "output_type": "stream",
     "text": [
      "[1, 2, 3, 4, 5]\n",
      "[1 2 3 4 5]\n",
      "[1, 2, 3, 4, 5]\n",
      "[1, 2, 3, 4, 5]\n"
     ]
    }
   ],
   "source": [
    "data1 = [1, 2, 3, 4, 5]        # list (all are interger data)\n",
    "print(data1)\n",
    "arr1 = np.array(data1)         # 1-D array\n",
    "print (arr1)\n",
    "list1 = list(arr1)\n",
    "print(list1)\n",
    "list1 = arr1.tolist()\n",
    "print(list1)"
   ]
  },
  {
   "cell_type": "code",
   "execution_count": 24,
   "id": "415bbc36-feed-4412-bf5d-dd03852565da",
   "metadata": {},
   "outputs": [
    {
     "name": "stdout",
     "output_type": "stream",
     "text": [
      "[11 22 33 44 55] <class 'numpy.ndarray'> 1829073050128\n",
      "[[11 22 33 44]\n",
      " [55 66 77 88]] <class 'numpy.ndarray'> 1829049160624\n",
      "int32 int32\n",
      "(5,) <class 'tuple'>\n",
      "(2, 4) <class 'tuple'>\n",
      "1 2\n",
      "5 8\n",
      "5 2\n"
     ]
    }
   ],
   "source": [
    "# examining arrays\n",
    "arr1 = np.array([11, 22, 33, 44, 55])\n",
    "arr2 = np.array([[11, 22, 33, 44], [55, 66, 77, 88]])\n",
    "print (arr1, type(arr1), id(arr1))\n",
    "print (arr2, type(arr2), id(arr2))\n",
    "print (arr1.dtype, arr2.dtype)         # data type of the array\n",
    "print (arr1.shape, type(arr1.shape))   # shape of the array (5,) => Singleton notation\n",
    "print (arr2.shape, type(arr2.shape))   # shape of the array (2, 4)\n",
    "print (arr1.ndim, arr2.ndim)           # number of dimensions\n",
    "print (arr1.size, arr2.size)           # total number of elements\n",
    "print (len(arr1), len(arr2))           # returns the first dimension"
   ]
  },
  {
   "cell_type": "code",
   "execution_count": 23,
   "id": "dd11a85a-f492-4598-8ad7-fc800ba27c3f",
   "metadata": {},
   "outputs": [
    {
     "name": "stdout",
     "output_type": "stream",
     "text": [
      "5 <class 'int'>\n",
      "(5,) <class 'tuple'>\n"
     ]
    }
   ],
   "source": [
    "var = (5)\n",
    "print (var, type(var))\n",
    "var = (5,)\n",
    "print (var, type(var))"
   ]
  },
  {
   "cell_type": "code",
   "execution_count": 26,
   "id": "6ce44d96-c25a-4ed2-8742-726d5fc9cd23",
   "metadata": {},
   "outputs": [
    {
     "name": "stdout",
     "output_type": "stream",
     "text": [
      "[0. 0. 0. 0. 0. 0. 0. 0. 0. 0.]\n",
      "[0 0 0 0 0 0 0 0 0 0]\n",
      "[0 0 0 0 0 0 0 0 0 0]\n",
      "[[0. 0. 0. 0. 0. 0.]\n",
      " [0. 0. 0. 0. 0. 0.]\n",
      " [0. 0. 0. 0. 0. 0.]]\n",
      "[[0 0 0 0 0 0]\n",
      " [0 0 0 0 0 0]\n",
      " [0 0 0 0 0 0]]\n",
      "[[0 0 0 0 0 0]\n",
      " [0 0 0 0 0 0]\n",
      " [0 0 0 0 0 0]]\n",
      "[5. 5. 5. 5. 5. 5. 5. 5. 5. 5.]\n"
     ]
    }
   ],
   "source": [
    "# create special arrays\n",
    "print (np.zeros(10))\n",
    "print (np.zeros(10, dtype = np.int8))\n",
    "print (np.zeros(10).astype(int))\n",
    "print (np.zeros((3, 6)))\n",
    "print (np.zeros((3, 6), int))\n",
    "print (np.zeros((3, 6)).astype(int))\n",
    "print (np.zeros(10) + 5)"
   ]
  },
  {
   "cell_type": "code",
   "execution_count": 30,
   "id": "7508f1ae-64ea-4792-9faf-6e0ecea1c4a1",
   "metadata": {},
   "outputs": [
    {
     "name": "stdout",
     "output_type": "stream",
     "text": [
      "[1. 1. 1. 1. 1. 1. 1. 1. 1. 1.]\n",
      "[[1. 1. 1. 1. 1. 1.]\n",
      " [1. 1. 1. 1. 1. 1.]\n",
      " [1. 1. 1. 1. 1. 1.]]\n",
      "[1 1 1 1 1 1 1 1 1 1]\n",
      "[[1 1 1 1 1 1]\n",
      " [1 1 1 1 1 1]\n",
      " [1 1 1 1 1 1]]\n",
      "[1 1 1 1 1 1 1 1 1 1]\n",
      "[[1 1 1 1 1 1]\n",
      " [1 1 1 1 1 1]\n",
      " [1 1 1 1 1 1]]\n",
      "[5. 5. 5. 5. 5. 5. 5. 5. 5. 5.]\n"
     ]
    }
   ],
   "source": [
    "print (np.ones(10))\n",
    "print (np.ones((3, 6)))\n",
    "print (np.ones(10, int))\n",
    "print (np.ones((3, 6), np.int8))\n",
    "print (np.ones(10).astype(int))\n",
    "print (np.ones((3, 6)).astype(int))\n",
    "print (np.ones(10) + 4)"
   ]
  },
  {
   "cell_type": "code",
   "execution_count": 33,
   "id": "f87a4b6e-1d74-4c13-8187-b38e363e8816",
   "metadata": {},
   "outputs": [
    {
     "name": "stdout",
     "output_type": "stream",
     "text": [
      "[0.   0.25 0.5  0.75 1.  ]\n",
      "[0.  0.2 0.4 0.6 0.8 1. ]\n"
     ]
    }
   ],
   "source": [
    "print (np.linspace(0, 1, 5))  # 0 to 1 (inclusive) with 5 equi-distant points\n",
    "print (np.linspace(0, 1, 6))"
   ]
  },
  {
   "cell_type": "code",
   "execution_count": 38,
   "id": "18fd4ba9-3637-4821-8030-b270b8d93eda",
   "metadata": {},
   "outputs": [
    {
     "name": "stdout",
     "output_type": "stream",
     "text": [
      "[   1.   10.  100. 1000.]\n",
      "[1. 2. 4. 8.]\n"
     ]
    }
   ],
   "source": [
    "print (np.logspace(0, 3, 4))  # 10^0 to 10^3 (inclusive) with 4 points\n",
    "print (np.logspace(0, 3, 4, base = 2))  # 2^0 to 2^3 (inclusive) with 4 points"
   ]
  },
  {
   "cell_type": "code",
   "execution_count": 51,
   "id": "0929db6f-3ff2-4176-8205-8ac6f13ded8b",
   "metadata": {},
   "outputs": [
    {
     "name": "stdout",
     "output_type": "stream",
     "text": [
      "[0, 1, 2, 3, 4] <class 'int'> <class 'list'>\n",
      "[0 1 2 3 4] int32 <class 'numpy.ndarray'>\n",
      "[0. 1. 2. 3. 4.] float64 <class 'numpy.ndarray'>\n"
     ]
    }
   ],
   "source": [
    "# arange is like range, except it returns an array (but not a list)\n",
    "int_list = list(range(5))\n",
    "print (int_list, type(int_list[0]), type(int_list))\n",
    "int_array = np.arange(5)\n",
    "print (int_array, int_array.dtype, type(int_array))\n",
    "float_array = int_array.astype(float)\n",
    "print (float_array, float_array.dtype, type(float_array))"
   ]
  },
  {
   "cell_type": "markdown",
   "id": "5cd4c80b-f0d4-42c6-84af-49777e34575f",
   "metadata": {},
   "source": [
    "## **Reshaping**"
   ]
  },
  {
   "cell_type": "code",
   "execution_count": 43,
   "id": "5fc00a4f-d003-47c7-b90b-b5c154327534",
   "metadata": {},
   "outputs": [
    {
     "name": "stdout",
     "output_type": "stream",
     "text": [
      "[0. 1. 2. 3. 4. 5. 6. 7. 8. 9.] float64 <class 'numpy.ndarray'> (10,)\n",
      "[[0. 1. 2. 3. 4.]\n",
      " [5. 6. 7. 8. 9.]] float64 <class 'numpy.ndarray'> (2, 5)\n",
      "[[0. 1. 2. 3. 4.]\n",
      " [5. 6. 7. 8. 9.]] float64 <class 'numpy.ndarray'> (2, 5)\n"
     ]
    }
   ],
   "source": [
    "matrix = np.arange(10, dtype = float)\n",
    "print (matrix, matrix.dtype, type(matrix), matrix.shape)\n",
    "matrix1 = matrix.reshape((2, 5))\n",
    "print (matrix1, matrix1.dtype, type(matrix1), matrix1.shape)\n",
    "matrix1 = matrix.reshape((2, -1))\n",
    "print (matrix1, matrix1.dtype, type(matrix1), matrix1.shape)"
   ]
  },
  {
   "cell_type": "code",
   "execution_count": 44,
   "id": "11a7e18f-9580-4845-ab68-4815d794e473",
   "metadata": {},
   "outputs": [
    {
     "name": "stdout",
     "output_type": "stream",
     "text": [
      "[[0 1 2 3 4]\n",
      " [5 6 7 8 9]] int32 <class 'numpy.ndarray'> (2, 5)\n",
      "[[0 1 2 3 4]\n",
      " [5 6 7 8 9]] int32 <class 'numpy.ndarray'> (2, 5)\n"
     ]
    }
   ],
   "source": [
    "matrix1 = matrix.reshape((2, 5)).astype(int)\n",
    "print (matrix1, matrix1.dtype, type(matrix1), matrix1.shape)\n",
    "matrix1 = matrix.astype(int).reshape((2, 5))\n",
    "print (matrix1, matrix1.dtype, type(matrix1), matrix1.shape)"
   ]
  },
  {
   "cell_type": "code",
   "execution_count": 48,
   "id": "eb07ff90-9105-4a34-a6b1-53ab750f88c4",
   "metadata": {},
   "outputs": [
    {
     "name": "stdout",
     "output_type": "stream",
     "text": [
      "[[0. 1. 2. 3. 4.]\n",
      " [5. 6. 7. 8. 9.]] float64 <class 'numpy.ndarray'> (2, 5)\n",
      "[[0. 5.]\n",
      " [1. 6.]\n",
      " [2. 7.]\n",
      " [3. 8.]\n",
      " [4. 9.]] float64 <class 'numpy.ndarray'> (5, 2)\n",
      "[[0. 5.]\n",
      " [1. 6.]\n",
      " [2. 7.]\n",
      " [3. 8.]\n",
      " [4. 9.]] float64 <class 'numpy.ndarray'> (5, 2)\n"
     ]
    }
   ],
   "source": [
    "# transpose of a matrix\n",
    "matrix = np.arange(10, dtype = float).reshape(2, 5)\n",
    "print (matrix, matrix.dtype, type(matrix), matrix.shape)\n",
    "matrix1 = matrix.T\n",
    "print (matrix1, matrix1.dtype, type(matrix1), matrix1.shape)\n",
    "matrix1 = matrix.transpose()\n",
    "print (matrix1, matrix1.dtype, type(matrix1), matrix1.shape)"
   ]
  },
  {
   "cell_type": "code",
   "execution_count": 49,
   "id": "0fce87c8-80f0-4537-b2c8-a1dc4eec192d",
   "metadata": {},
   "outputs": [
    {
     "name": "stdout",
     "output_type": "stream",
     "text": [
      "[[0. 1. 2. 3. 4.]\n",
      " [5. 6. 7. 8. 9.]] float64 <class 'numpy.ndarray'> (2, 5)\n",
      "[0. 1. 2. 3. 4. 5. 6. 7. 8. 9.] float64 <class 'numpy.ndarray'> (10,)\n"
     ]
    }
   ],
   "source": [
    "# transpose of a matrix\n",
    "matrix = np.arange(10, dtype = float).reshape(2, 5)\n",
    "print (matrix, matrix.dtype, type(matrix), matrix.shape)\n",
    "matrix1 = matrix.flatten()\n",
    "print (matrix1, matrix1.dtype, type(matrix1), matrix1.shape)"
   ]
  },
  {
   "cell_type": "code",
   "execution_count": 53,
   "id": "8575d246-3b18-4245-a37d-5efa1d57e6e6",
   "metadata": {},
   "outputs": [
    {
     "name": "stdout",
     "output_type": "stream",
     "text": [
      "[[0. 1. 2. 3. 4.]\n",
      " [5. 6. 7. 8. 9.]]\n",
      "\n",
      "Stored in C-style order (Row Major):\n",
      "[[0. 1. 2. 3. 4.]\n",
      " [5. 6. 7. 8. 9.]]\n",
      "0.0, 1.0, 2.0, 3.0, 4.0, 5.0, 6.0, 7.0, 8.0, 9.0, \n"
     ]
    }
   ],
   "source": [
    "matrix = np.arange(10, dtype = float).reshape((2, 5))\n",
    "print (matrix)\n",
    "\n",
    "print ('\\nStored in C-style order (Row Major):')\n",
    "cmatrix = matrix.copy(order = 'C')\n",
    "print (cmatrix)\n",
    "for x in np.nditer(cmatrix):\n",
    "    print (x, end = \", \")\n",
    "print ()"
   ]
  },
  {
   "cell_type": "code",
   "execution_count": 54,
   "id": "c8ca5d40-2390-4593-b558-b78f243a6ec3",
   "metadata": {},
   "outputs": [
    {
     "name": "stdout",
     "output_type": "stream",
     "text": [
      "[[0. 1. 2. 3. 4.]\n",
      " [5. 6. 7. 8. 9.]]\n",
      "\n",
      "Stored in F-style order (Column Major):\n",
      "[[0. 1. 2. 3. 4.]\n",
      " [5. 6. 7. 8. 9.]]\n",
      "0.0, 5.0, 1.0, 6.0, 2.0, 7.0, 3.0, 8.0, 4.0, 9.0, "
     ]
    }
   ],
   "source": [
    "matrix = np.arange(10, dtype = float).reshape((2, 5))\n",
    "print (matrix)\n",
    "\n",
    "print ('\\nStored in F-style order (Column Major):')\n",
    "fmatrix = matrix.copy(order = 'F')\n",
    "print (fmatrix)\n",
    "for x in np.nditer(fmatrix):\n",
    "    print (x, end = \", \")"
   ]
  },
  {
   "cell_type": "markdown",
   "id": "8e329333-7e6d-4d1d-b297-ad95b36ee138",
   "metadata": {},
   "source": [
    "## **Append, Insert, Delete and Sort**"
   ]
  },
  {
   "cell_type": "code",
   "execution_count": 55,
   "id": "4d32ede0-0a69-4268-999f-1a4623d0ae5b",
   "metadata": {},
   "outputs": [
    {
     "name": "stdout",
     "output_type": "stream",
     "text": [
      "[0 1 2 3 4 5 6 7 8 9] int8 <class 'numpy.ndarray'> (10,)\n",
      "[ 0  1  2  3  4  5  6  7  8  9 10 11 12] int32 <class 'numpy.ndarray'> (13,)\n",
      "[ 0  1  2 13 14 15  3  4  5  6  7  8  9 10 11 12] int32 <class 'numpy.ndarray'> (16,)\n"
     ]
    }
   ],
   "source": [
    "matrix = np.arange(10, dtype = np.int8)\n",
    "print (matrix, matrix.dtype, type(matrix), matrix.shape)\n",
    "matrix = np.append(matrix, [10, 11, 12])\n",
    "print (matrix, matrix.dtype, type(matrix), matrix.shape)\n",
    "matrix = np.insert(matrix, 3, [13, 14, 15])\n",
    "print (matrix, matrix.dtype, type(matrix), matrix.shape)"
   ]
  },
  {
   "cell_type": "code",
   "execution_count": 60,
   "id": "0e1bd14f-aeeb-4a38-b9ee-ecc6418dde30",
   "metadata": {},
   "outputs": [
    {
     "name": "stdout",
     "output_type": "stream",
     "text": [
      "[100 101 102 103 104 105 106 107 108 109] int8 <class 'numpy.ndarray'> (10,)\n",
      "[100 101 102 103 104 108 109] int8 <class 'numpy.ndarray'> (7,)\n",
      "[100 101 102 103 104 105 106 107 108 109] int8 <class 'numpy.ndarray'> (10,)\n",
      "[100 101 102 103 104 108 109] int8 <class 'numpy.ndarray'> (7,)\n"
     ]
    }
   ],
   "source": [
    "matrix = np.arange(10, dtype = np.int8) + 100\n",
    "print (matrix, matrix.dtype, type(matrix), matrix.shape)\n",
    "matrix = np.delete(matrix, [5, 6, 7])\n",
    "print (matrix, matrix.dtype, type(matrix), matrix.shape)\n",
    "\n",
    "matrix = np.arange(10, dtype = np.int8) + 100\n",
    "print (matrix, matrix.dtype, type(matrix), matrix.shape)\n",
    "matrix = np.delete(matrix, range(5, 8))\n",
    "print (matrix, matrix.dtype, type(matrix), matrix.shape)"
   ]
  },
  {
   "cell_type": "code",
   "execution_count": 64,
   "id": "87a1dcd5-5c5a-41bc-9961-66bec2af0487",
   "metadata": {},
   "outputs": [
    {
     "name": "stdout",
     "output_type": "stream",
     "text": [
      "[200 300 100 500 450 250 900] int32 <class 'numpy.ndarray'> (7,)\n",
      "[100 200 250 300 450 500 900] int32 <class 'numpy.ndarray'> (7,)\n",
      "\n",
      "[200 300 100 500 450 250 900] int32 <class 'numpy.ndarray'> (7,)\n",
      "[200 300 100 500 450 250 900] [-200 -300 -100 -500 -450 -250 -900]\n",
      "[900 500 450 300 250 200 100] int32 <class 'numpy.ndarray'> (7,)\n"
     ]
    }
   ],
   "source": [
    "matrix = np.array([200, 300, 100, 500, 450, 250, 900])\n",
    "print (matrix, matrix.dtype, type(matrix), matrix.shape)\n",
    "matrix = np.sort(matrix)    # sort in the ascending order\n",
    "print (matrix, matrix.dtype, type(matrix), matrix.shape)\n",
    "print()\n",
    "matrix = np.array([200, 300, 100, 500, 450, 250, 900])\n",
    "print (matrix, matrix.dtype, type(matrix), matrix.shape)\n",
    "print (matrix, -matrix)\n",
    "matrix = -np.sort(-matrix)    # sort in the descending order\n",
    "print (matrix, matrix.dtype, type(matrix), matrix.shape)"
   ]
  },
  {
   "cell_type": "code",
   "execution_count": 71,
   "id": "5c0429c4-66ef-4120-91a5-0cb54c41399a",
   "metadata": {},
   "outputs": [
    {
     "name": "stdout",
     "output_type": "stream",
     "text": [
      "[10.  9.  8.  7.  6.  5.  4.  3.  2.  1.]\n",
      "[10  9  8  7  6  5  4  3  2  1]\n",
      "[100.  95.  90.  85.  80.  75.  70.  65.  60.  55.]\n"
     ]
    }
   ],
   "source": [
    "arr1 = np.arange(10, 0, -1, dtype = float)\n",
    "print (arr1)\n",
    "arr1 = np.arange(10, 0, -1)\n",
    "print (arr1)\n",
    "arr1 = np.arange(100, 50, -5, dtype = float)\n",
    "print (arr1)"
   ]
  },
  {
   "cell_type": "markdown",
   "id": "ed95d45d-d102-4830-a21a-f785fbce2c24",
   "metadata": {},
   "source": [
    "## **Concatenation and Stack of 2 Arrays**"
   ]
  },
  {
   "cell_type": "code",
   "execution_count": 72,
   "id": "029e88e7-669b-4911-9cc8-82c5553bd0c4",
   "metadata": {},
   "outputs": [
    {
     "name": "stdout",
     "output_type": "stream",
     "text": [
      "First array:\n",
      "[[1 2]\n",
      " [3 4]]\n",
      "\n",
      "\n",
      "Second array:\n",
      "[[5 6]\n",
      " [7 8]]\n",
      "\n",
      "\n"
     ]
    }
   ],
   "source": [
    "a = np.array([[1, 2], [3, 4]])\n",
    "print('First array:')\n",
    "print(a)\n",
    "print('\\n')\n",
    "\n",
    "b = np.array([[5, 6], [7, 8]])\n",
    "print('Second array:')\n",
    "print(b)\n",
    "print('\\n')"
   ]
  },
  {
   "cell_type": "code",
   "execution_count": 73,
   "id": "da787ff1-03a7-4e34-b3c4-6191f1ddac46",
   "metadata": {},
   "outputs": [
    {
     "name": "stdout",
     "output_type": "stream",
     "text": [
      "Joining the two arrays along axis 0:\n",
      "[[1 2]\n",
      " [3 4]\n",
      " [5 6]\n",
      " [7 8]]\n",
      "\n",
      "\n"
     ]
    }
   ],
   "source": [
    "# both the arrays are of same dimensions\n",
    "print('Joining the two arrays along axis 0:')\n",
    "print(np.concatenate((a, b)))\n",
    "print('\\n')"
   ]
  },
  {
   "cell_type": "code",
   "execution_count": 74,
   "id": "991fae58-841a-4bfa-9b8b-a676888224d1",
   "metadata": {},
   "outputs": [
    {
     "name": "stdout",
     "output_type": "stream",
     "text": [
      "Joining the two arrays along axis 1:\n",
      "[[1 2 5 6]\n",
      " [3 4 7 8]]\n"
     ]
    }
   ],
   "source": [
    "print('Joining the two arrays along axis 1:')\n",
    "print(np.concatenate((a, b), axis = 1))"
   ]
  },
  {
   "cell_type": "code",
   "execution_count": 82,
   "id": "962348fa-444a-402e-a8c4-4c48ae0b5139",
   "metadata": {},
   "outputs": [
    {
     "name": "stdout",
     "output_type": "stream",
     "text": [
      "[[100 200 300 400]] <class 'numpy.ndarray'> 2 (1, 4)\n",
      "[100 200 300 400] <class 'numpy.ndarray'> 1 (4,)\n",
      "[[[100 200 300 400]]] <class 'numpy.ndarray'> 3 (1, 1, 4)\n",
      "[[[100]\n",
      "  [200]\n",
      "  [300]\n",
      "  [400]]] <class 'numpy.ndarray'> 2 (1, 4, 1)\n"
     ]
    }
   ],
   "source": [
    "matrix = np.array([[100, 200, 300, 400]])\n",
    "print (matrix, type(matrix), matrix.ndim, matrix.shape)\n",
    "arr = matrix.reshape(-1)\n",
    "print (arr, type(arr), arr.ndim, arr.shape)\n",
    "arr = matrix.reshape(-1, 1, 4)\n",
    "print (arr, type(arr), arr.ndim, arr.shape)\n",
    "arr = matrix.reshape(1, 4, -1)\n",
    "print (arr, type(arr), matrix.ndim, arr.shape)"
   ]
  },
  {
   "cell_type": "markdown",
   "id": "6e829cb2-0d81-41f9-b2d4-afcfa05c0a6f",
   "metadata": {},
   "source": [
    "## **Selection**"
   ]
  },
  {
   "cell_type": "code",
   "execution_count": 84,
   "id": "04fab83a-32f1-4736-94c6-05addad29df9",
   "metadata": {},
   "outputs": [
    {
     "name": "stdout",
     "output_type": "stream",
     "text": [
      "[1 2 3 4 5] <class 'numpy.ndarray'> int32 (5,)\n",
      "1 1\n",
      "5 5\n",
      "[3 4 5] [1 2 3]\n",
      "[5 4 3 2 1]\n"
     ]
    }
   ],
   "source": [
    "# l to R 0  1  2  3  4\n",
    "# R to L-5 -4 -3 -2 -1 \n",
    "data1 = [1, 2, 3, 4, 5]        # list\n",
    "arr1 = np.array(data1)         # 1-D array\n",
    "print (arr1, type(arr1), arr1.dtype, arr1.shape)\n",
    "print (arr1[0], arr1[-5])      # 0-th element (indexing like a list)\n",
    "print (arr1[4], arr1[-1])\n",
    "print (arr1[2:], arr1[:3])\n",
    "print (arr1[::-1])"
   ]
  },
  {
   "cell_type": "code",
   "execution_count": 85,
   "id": "fc31edff-a834-4b99-93c7-f512e5bf4cb9",
   "metadata": {},
   "outputs": [
    {
     "name": "stdout",
     "output_type": "stream",
     "text": [
      "[[1 2 3 4]\n",
      " [5 6 7 8]] <class 'numpy.ndarray'> int32 (2, 4)\n",
      "7\n",
      "[1 2 3 4] [5 6 7 8]\n",
      "[3 7]\n",
      "[[2 3 4]\n",
      " [6 7 8]]\n"
     ]
    }
   ],
   "source": [
    "data2 = [range(1, 5), range(5, 9)]    # list of lists\n",
    "arr2 = np.array(data2)                # 2-D array\n",
    "print (arr2, type(arr2), arr2.dtype, arr2.shape)\n",
    "print (arr2[1][2])                    # indexing\n",
    "print (arr2[0, :], arr2[1, :])        # slicing\n",
    "print (arr2[:, 2])\n",
    "print (arr2[:, 1:4])                  # all rows and columns from 1 (inclusive) to 4 (exclusive)"
   ]
  },
  {
   "cell_type": "markdown",
   "id": "5ce83c4f-3557-4598-8d3d-544f49c1c429",
   "metadata": {},
   "source": [
    "## **Views and copies**"
   ]
  },
  {
   "cell_type": "code",
   "execution_count": 86,
   "id": "093a0b0c-c66e-4d70-8545-70e0f9d1bb1d",
   "metadata": {},
   "outputs": [
    {
     "name": "stdout",
     "output_type": "stream",
     "text": [
      "[0 1 2 3 4 5 6 7 8 9] <class 'numpy.ndarray'> int32 (10,)\n",
      "[5 6 7]\n",
      "[ 0  1  2  3  4 12 12 12  8  9]\n",
      "[12 12 12] <class 'numpy.ndarray'> int32 (3,)\n",
      "[13 13 13]\n",
      "[ 0  1  2  3  4 13 13 13  8  9]\n"
     ]
    }
   ],
   "source": [
    "arr = np.arange(10)\n",
    "print (arr, type(arr), arr.dtype, arr.shape)\n",
    "print (arr[5:8])\n",
    "arr[5:8] = 12       # all the pre-existing values at those index places will be over-written\n",
    "print (arr)\n",
    "arr_view = arr[5:8]   # creates a view of arr, not a copy\n",
    "print (arr_view, type(arr_view), arr_view.dtype, arr_view.shape)\n",
    "arr_view[:] = 13\n",
    "print (arr_view)\n",
    "print (arr)"
   ]
  },
  {
   "cell_type": "code",
   "execution_count": 88,
   "id": "0e1b5a82-2852-4a96-bf9c-43aa23e8e53b",
   "metadata": {},
   "outputs": [
    {
     "name": "stdout",
     "output_type": "stream",
     "text": [
      "[0 1 2 3 4 5 6 7 8 9] <class 'numpy.ndarray'> int32 (10,)\n",
      "[5 6 7] <class 'numpy.ndarray'> int32 (3,)\n",
      "[14 14 14]\n",
      "[ 0  1  2  3  4 20 20 20  8  9]\n"
     ]
    }
   ],
   "source": [
    "arr = np.arange(10)\n",
    "print (arr, type(arr), arr.dtype, arr.shape)\n",
    "arr_copy = arr[5:8].copy()   # creates a copy of arr\n",
    "print (arr_copy, type(arr_copy), arr_copy.dtype, arr_copy.shape)\n",
    "arr_copy[:] = 14\n",
    "arr[5:8] = 20\n",
    "print (arr_copy)\n",
    "print (arr)"
   ]
  },
  {
   "cell_type": "markdown",
   "id": "014ae008-537f-45b3-824f-69d411ed32a8",
   "metadata": {},
   "source": [
    "## **Using boolean arrays**"
   ]
  },
  {
   "cell_type": "code",
   "execution_count": 91,
   "id": "ee626921-9711-49e0-bb83-fa602515b911",
   "metadata": {},
   "outputs": [
    {
     "name": "stdout",
     "output_type": "stream",
     "text": [
      "[1 2 3 4 5 6 7 8 9]\n",
      "[1 2 3 4 5 6 7 8 9] [False False False False False  True  True  True  True]\n",
      "[ True  True  True  True  True False False False False]\n",
      "[6 7 8 9] [1 2 3 4 5]\n",
      "[False  True False  True False  True False  True False]\n",
      "[2 4 6 8]\n"
     ]
    }
   ],
   "source": [
    "arr = np.array([1, 2, 3, 4, 5, 6, 7, 8, 9])\n",
    "print (arr)\n",
    "print (arr, arr > 5)\n",
    "print (~(arr > 5))\n",
    "print (arr[arr > 5], arr[~(arr > 5)])  # ~ denotes not or negation\n",
    "print (arr % 2 == 0)\n",
    "print (arr[arr % 2 == 0])"
   ]
  },
  {
   "cell_type": "code",
   "execution_count": 95,
   "id": "68fe45c2-1dea-40ba-b212-3d8c89adb55b",
   "metadata": {},
   "outputs": [
    {
     "name": "stdout",
     "output_type": "stream",
     "text": [
      "[1 2 3 4 5 6 7 8 9]\n",
      "[False False False  True  True  True  True False False]\n",
      "[4 5 6 7]\n",
      "[ 0  6 12 18 24 30 36 42 48 54 60]\n"
     ]
    }
   ],
   "source": [
    "arr = np.array([1, 2, 3, 4, 5, 6, 7, 8, 9])\n",
    "print (arr)\n",
    "print ((arr > 3) & (arr < 8))\n",
    "print (arr[(arr > 3) & (arr < 8)])\n",
    "arr = np.arange(0, 61)\n",
    "print (arr[(arr % 2 == 0) & (arr % 3 == 0)])"
   ]
  },
  {
   "cell_type": "code",
   "execution_count": 100,
   "id": "566dab25-a4ce-49cf-bc84-2b196b8b4550",
   "metadata": {},
   "outputs": [
    {
     "name": "stdout",
     "output_type": "stream",
     "text": [
      "['Bob' 'Joe' 'Will' 'Bob']\n",
      "[ True False False  True]\n",
      "[False  True  True False]\n",
      "['Bob' 'Bob']\n",
      "['Joe' 'Will']\n",
      "['Joe' 'Will']\n"
     ]
    }
   ],
   "source": [
    "names = np.array(['Bob', 'Joe', 'Will', 'Bob'])\n",
    "print (names)\n",
    "print (names == 'Bob')\n",
    "print (~(names == 'Bob'))\n",
    "print (names[names == 'Bob'])\n",
    "print (names[names != 'Bob'])\n",
    "print (names[~(names == 'Bob')])"
   ]
  },
  {
   "cell_type": "code",
   "execution_count": 102,
   "id": "22597de7-1830-467a-8220-7ff95af7282c",
   "metadata": {},
   "outputs": [
    {
     "name": "stdout",
     "output_type": "stream",
     "text": [
      "['Bob' 'Joe' 'Will' 'Bob']\n",
      "['Bob' 'Will' 'Bob']\n",
      "['Bob' 'Tom' 'Tom' 'Bob']\n",
      "['Bob' 'Tom']\n"
     ]
    }
   ],
   "source": [
    "names = np.array(['Bob', 'Joe', 'Will', 'Bob'])\n",
    "print (names)\n",
    "print (names[(names == 'Bob') | (names == 'Will')])  # don't use 'or' but use '|'\n",
    "names[names != 'Bob'] = 'Tom'   # assign based on a logical selection\n",
    "print (names)\n",
    "print (np.unique(names))   "
   ]
  },
  {
   "cell_type": "markdown",
   "id": "6cd6d823-3409-4101-9144-5f1b6fc6651f",
   "metadata": {},
   "source": [
    "## **Vectorized operations**"
   ]
  },
  {
   "cell_type": "code",
   "execution_count": 104,
   "id": "d297dbe6-e97e-4db3-a427-c7e888e9dfe8",
   "metadata": {},
   "outputs": [
    {
     "name": "stdout",
     "output_type": "stream",
     "text": [
      "[0 1 2 3 4]\n",
      "[ 0  5 10 15 20]\n",
      "[5 6 7 8 9]\n",
      "[-5 -4 -3 -2 -1]\n"
     ]
    }
   ],
   "source": [
    "nums = np.arange(5)\n",
    "print (nums)\n",
    "print (nums * 5)\n",
    "print (nums + 5)\n",
    "print (nums - 5)"
   ]
  },
  {
   "cell_type": "code",
   "execution_count": 108,
   "id": "542d1d20-bd61-4404-8777-2987bb7494e9",
   "metadata": {},
   "outputs": [
    {
     "name": "stdout",
     "output_type": "stream",
     "text": [
      "[0 1 2 3 4]\n",
      "[0.         1.         1.41421356 1.73205081 2.        ]\n",
      "[0. 1. 2. 2. 2.]\n",
      "[0. 1. 1. 1. 2.]\n"
     ]
    }
   ],
   "source": [
    "nums = np.arange(5)\n",
    "print (nums)\n",
    "nums = np.sqrt(nums)     # square root of each element\n",
    "print (nums)       \n",
    "print (np.ceil(nums))    # finding ceiling of each element\n",
    "print (np.floor(nums))   # finding floor of each element"
   ]
  },
  {
   "cell_type": "code",
   "execution_count": 110,
   "id": "6e632958-c002-40db-8dd5-6ea31c62a31c",
   "metadata": {},
   "outputs": [
    {
     "name": "stdout",
     "output_type": "stream",
     "text": [
      "[0 1 2 3 4]\n",
      "[0 2 4 6 8]\n",
      "[False False False False False]\n",
      "[0 2 4 6 8]\n"
     ]
    }
   ],
   "source": [
    "nums = np.arange(5)\n",
    "print (nums)\n",
    "print (nums + np.arange(5)) # add element wise\n",
    "print (np.isnan(nums))   # checks for NaN\n",
    "nums = 2 * nums\n",
    "print (nums)"
   ]
  },
  {
   "cell_type": "code",
   "execution_count": 112,
   "id": "3b9720cf-e83e-4f76-950c-2a5cb9941b5b",
   "metadata": {},
   "outputs": [
    {
     "name": "stdout",
     "output_type": "stream",
     "text": [
      "[100.  200.    nan 400.    nan 500.5 600. ]\n",
      "[False False  True False  True False False]\n"
     ]
    }
   ],
   "source": [
    "nums = np.array([100, 200, np.nan, 400, np.nan, 500.5, 600])\n",
    "print (nums)\n",
    "print (np.isnan(nums))"
   ]
  },
  {
   "cell_type": "code",
   "execution_count": 113,
   "id": "4f9f274c-7937-40aa-ae19-c4c1110ad4af",
   "metadata": {},
   "outputs": [
    {
     "name": "stdout",
     "output_type": "stream",
     "text": [
      "[0 1 2 3 4]\n",
      "4 4 0 0\n",
      "[10  1 13  3  5]\n",
      "[ 0 -2  2 -4  4]\n"
     ]
    }
   ],
   "source": [
    "nums = np.arange(5)\n",
    "print (nums)\n",
    "print (np.max(nums), nums.max(), np.min(nums), nums.min())\n",
    "print (np.maximum(nums, np.array([10, -2, 13, -4, 5]))) # compare element wise\n",
    "print (np.minimum(nums, np.array([10, -2, 13, -4, 5])))"
   ]
  },
  {
   "cell_type": "code",
   "execution_count": 116,
   "id": "d063bdf6-da31-4e9e-a2c0-4d281aecac3d",
   "metadata": {},
   "outputs": [
    {
     "name": "stdout",
     "output_type": "stream",
     "text": [
      "[0 1 2 3 4]\n",
      "[0.         1.         1.41421356 1.73205081 2.        ]\n",
      "[0. 1. 1. 2. 2.]\n"
     ]
    }
   ],
   "source": [
    "nums = np.arange(5)\n",
    "print (nums)\n",
    "nums_sqrt = np.sqrt(nums)\n",
    "print (nums_sqrt)\n",
    "print (np.round(nums_sqrt))"
   ]
  },
  {
   "cell_type": "code",
   "execution_count": 126,
   "id": "ce05177d-0af4-4cc7-b08a-1b2cfaaa2020",
   "metadata": {},
   "outputs": [
    {
     "name": "stdout",
     "output_type": "stream",
     "text": [
      "[-0.79469433  0.01892711 -0.20176553 ...  0.77311631 -2.15829403\n",
      " -2.06656362] -0.005973807341434795 0.9962271076610084\n",
      "[-0.98988802 -0.22928973 -1.76647088 ... -0.36905065  1.09962835\n",
      " -0.77678337] -0.0189521286478691 1.0000774988037857\n"
     ]
    }
   ],
   "source": [
    "# calculating Euclidean distance between 2 vectors\n",
    "vect1 = np.random.randn(10000)   # normalized random numbers, average and std near to 0 and 1 respectively\n",
    "print (vect1, np.average(vect1), np.std(vect1))\n",
    "vect2 = np.random.randn(10000)\n",
    "print (vect2, np.average(vect2), np.std(vect2))"
   ]
  },
  {
   "cell_type": "code",
   "execution_count": 128,
   "id": "a6938129-cde7-40df-8c90-fbdaaa9b0fa1",
   "metadata": {},
   "outputs": [
    {
     "name": "stdout",
     "output_type": "stream",
     "text": [
      "[-0.04778921  0.39578614 -0.36194329 -0.12494008 -0.04644492  0.97495054\n",
      "  0.18837088  0.51386047 -2.32239726  0.16211762] -0.06684291145454643 0.8326401809846599\n",
      "[ 1.39744697 -1.94473602  0.96405695  0.88718116  0.78200403 -0.6491348\n",
      "  1.41217282  0.08703851  0.9669788   0.2014454 ] 0.4104453806506312 0.9887891907945355\n",
      "5.116132152350262\n"
     ]
    }
   ],
   "source": [
    "# calculating Euclidean distance between 2 vectors\n",
    "vect1 = np.random.randn(10)   # normalized random numbers, average and std near to 0 and 1 respectively\n",
    "print (vect1, np.average(vect1), np.std(vect1))\n",
    "vect2 = np.random.randn(10)\n",
    "print (vect2, np.average(vect2), np.std(vect2))\n",
    "total = 0\n",
    "for i in range(len(vect1)):\n",
    "    total = total + (vect1[i] - vect2[i]) ** 2\n",
    "print (np.sqrt(total))   # Calculation of Euclidean distance - 1"
   ]
  },
  {
   "cell_type": "code",
   "execution_count": 129,
   "id": "d1a2e48f-6420-4809-8466-f3dcc0d43441",
   "metadata": {},
   "outputs": [
    {
     "name": "stdout",
     "output_type": "stream",
     "text": [
      "[-0.28148343 -0.52265631 -1.15321675  0.55157642 -0.23316515 -0.77077569\n",
      "  0.41634576  1.90789051 -0.09676969 -0.3357457 ] -0.051800001611021426 0.8089286894351136\n",
      "[ 0.53941985 -0.97709316 -1.39513919 -0.72685938  1.16230284  1.79071187\n",
      "  1.06321331 -1.47759767 -0.17123886 -1.82145885] -0.20137392556451889 1.2055396120014292\n",
      "5.017442183747418\n"
     ]
    }
   ],
   "source": [
    "# calculating Euclidean distance between 2 vectors\n",
    "vect1 = np.random.randn(10)   # normalized random numbers, average and std near to 0 and 1 respectively\n",
    "print (vect1, np.average(vect1), np.std(vect1))\n",
    "vect2 = np.random.randn(10)\n",
    "print (vect2, np.average(vect2), np.std(vect2))\n",
    "print (np.sqrt(np.sum((vect1 - vect2) ** 2)))   # Calculation of Euclidean distance - 2"
   ]
  },
  {
   "cell_type": "code",
   "execution_count": null,
   "id": "494dfb53-0dd7-4683-9104-818b6b1970a9",
   "metadata": {},
   "outputs": [],
   "source": [
    "print (np.sqrt(np.sum(pow(np.subtract(vect1, vect2), 2))))   # Calculation of Euclidean distance"
   ]
  },
  {
   "cell_type": "code",
   "execution_count": 146,
   "id": "48485f71-16d6-444c-b923-a1c4e50d319d",
   "metadata": {},
   "outputs": [
    {
     "name": "stdout",
     "output_type": "stream",
     "text": [
      "[0.9271453  0.81246349 0.60107148 0.94445001 0.57081427 0.42499183\n",
      " 0.62254442 0.87322763 0.46059995 0.22625416]\n"
     ]
    }
   ],
   "source": [
    "vec1 = np.random.rand(10)   # random numbers ranging from 0 to 1\n",
    "print (vec1)"
   ]
  },
  {
   "cell_type": "code",
   "execution_count": 153,
   "id": "d83e432d-97f1-410c-82a6-1c384f8e493f",
   "metadata": {},
   "outputs": [
    {
     "name": "stdout",
     "output_type": "stream",
     "text": [
      "[[ 0.50379274  0.99570759]\n",
      " [ 0.903596   -1.46562828]\n",
      " [ 0.31637774  2.05807713]\n",
      " [ 0.18372718  1.25516742]]\n",
      "0.5938521904866398\n",
      "0.9574371129205929\n",
      "3 5\n",
      "3 5\n",
      "[1.90749366 2.84332387]\n",
      "[ 1.49950033 -0.56203228  2.37445487  1.4388946 ]\n"
     ]
    }
   ],
   "source": [
    "# math and stats\n",
    "rnd = np.random.randn(4, 2)\n",
    "print (rnd)\n",
    "print (rnd.mean())\n",
    "print (rnd.std())\n",
    "print (rnd.argmin(), rnd.argmax())       # index of the minimum and maximum elements\n",
    "print (np.argmin(rnd), np.argmax(rnd))   # index of the minimum and maximum elements\n",
    "print (rnd.sum(axis = 0))   # sum of columns\n",
    "print (rnd.sum(axis = 1))   # sum of rows"
   ]
  },
  {
   "cell_type": "code",
   "execution_count": 155,
   "id": "1463e91a-34a8-4d99-8595-ed322cdb5381",
   "metadata": {},
   "outputs": [
    {
     "name": "stdout",
     "output_type": "stream",
     "text": [
      "[[ 1.07196506  1.59654124]\n",
      " [ 0.56119564 -2.76188322]\n",
      " [-0.29799461 -0.92690711]\n",
      " [-0.55574561 -1.64612985]]\n",
      "[[ True  True]\n",
      " [ True False]\n",
      " [False False]\n",
      " [False False]]\n",
      "3\n",
      "True\n",
      "False\n"
     ]
    }
   ],
   "source": [
    "# methods for boolean arrays\n",
    "rnd = np.random.randn(4, 2)\n",
    "print (rnd)\n",
    "print (rnd > 0)\n",
    "print ((rnd > 0).sum())      # counts the number of positive values\n",
    "print ((rnd > 0).any())      # checks if any value is True\n",
    "print ((rnd > 0).all())      # checks if all values are True"
   ]
  },
  {
   "cell_type": "code",
   "execution_count": 190,
   "id": "d1fc95f1-25f7-4879-8ba2-d51c9a3458b0",
   "metadata": {},
   "outputs": [
    {
     "name": "stdout",
     "output_type": "stream",
     "text": [
      "[[0.43320153 0.30732793 0.54441845]\n",
      " [0.14987996 0.30845    0.60867465]]\n",
      "[-0.28851846 -0.1524546  -0.77464191 -0.67697893  1.40744459  0.79039751\n",
      " -1.29806891 -1.8986072  -0.39431442 -0.81143484]\n",
      "[0 0 0 0 0 1 0 1 0 0]\n"
     ]
    }
   ],
   "source": [
    "# random numbers\n",
    "np.random.seed(900)             # set the seed value for the random number generation\n",
    "nums = np.random.rand(2, 3)     # 2 x 3 matrix\n",
    "print (nums)\n",
    "nums = np.random.randn(10)      # random normals (mean with 0 and std with 1)\n",
    "print (nums)\n",
    "nums = np.random.randint(0, 2, 10)    # 10 randomly picked 0 or 1\n",
    "print (nums)"
   ]
  },
  {
   "cell_type": "code",
   "execution_count": null,
   "id": "ae0e7489-896b-4696-9cb8-f5a4cb947598",
   "metadata": {},
   "outputs": [],
   "source": [
    "# [[0.43320153 0.30732793 0.54441845]\n",
    "#  [0.14987996 0.30845    0.60867465]]\n",
    "# [-0.28851846 -0.1524546  -0.77464191 -0.67697893  1.40744459  0.79039751\n",
    "#  -1.29806891 -1.8986072  -0.39431442 -0.81143484]\n",
    "# [0 0 0 0 0 1 0 1 0 0]"
   ]
  },
  {
   "cell_type": "code",
   "execution_count": 194,
   "id": "832375b0-eb48-44cd-b4e6-3088fe381305",
   "metadata": {},
   "outputs": [
    {
     "name": "stdout",
     "output_type": "stream",
     "text": [
      "[[0.66500689 0.8519076  0.98793841]\n",
      " [0.82261282 0.51879161 0.78974035]]\n"
     ]
    }
   ],
   "source": [
    "nums = np.random.rand(2, 3)     # 2 x 3 matrix, outside of the cell seed has no effect\n",
    "print (nums)"
   ]
  },
  {
   "cell_type": "markdown",
   "id": "e37c45e9-02b5-4c13-aa73-63537c8df95a",
   "metadata": {},
   "source": [
    "## **Broadcasting**"
   ]
  },
  {
   "cell_type": "code",
   "execution_count": 195,
   "id": "8f49a55a-1505-49af-b13c-25fed6d97cee",
   "metadata": {},
   "outputs": [
    {
     "name": "stdout",
     "output_type": "stream",
     "text": [
      "[[ 0  0  0]\n",
      " [10 10 10]\n",
      " [20 20 20]\n",
      " [30 30 30]] <class 'numpy.ndarray'>\n",
      "[[ 0]\n",
      " [10]\n",
      " [20]\n",
      " [30]] <class 'numpy.ndarray'>\n",
      "[[0 1 2]\n",
      " [0 1 2]\n",
      " [0 1 2]\n",
      " [0 1 2]] <class 'numpy.ndarray'>\n",
      "[0 1 2] <class 'numpy.ndarray'>\n"
     ]
    }
   ],
   "source": [
    "a1 = np.array([[ 0,  0,  0],\n",
    "               [10, 10, 10],\n",
    "               [20, 20, 20],\n",
    "               [30, 30, 30]])\n",
    "print (a1, type(a1))\n",
    "a2 = np.array([[0], [10], [20], [30]])\n",
    "print (a2, type(a2))\n",
    "\n",
    "b1 = np.array([[0, 1, 2],\n",
    "               [0, 1, 2],\n",
    "               [0, 1, 2],               \n",
    "               [0, 1, 2]])\n",
    "print (b1, type(b1))\n",
    "b2 = np.array([0, 1, 2])\n",
    "print (b2, type(b2))"
   ]
  },
  {
   "cell_type": "code",
   "execution_count": 196,
   "id": "6ed91d64-131a-4a15-9f17-cf5bf94053e4",
   "metadata": {},
   "outputs": [
    {
     "name": "stdout",
     "output_type": "stream",
     "text": [
      "[[ 0  1  2]\n",
      " [10 11 12]\n",
      " [20 21 22]\n",
      " [30 31 32]]\n",
      "[[ 0  1  2]\n",
      " [10 11 12]\n",
      " [20 21 22]\n",
      " [30 31 32]]\n",
      "[[ 0  1  2]\n",
      " [10 11 12]\n",
      " [20 21 22]\n",
      " [30 31 32]]\n",
      "[[ 0  1  2]\n",
      " [10 11 12]\n",
      " [20 21 22]\n",
      " [30 31 32]]\n"
     ]
    }
   ],
   "source": [
    "result = a1 + b1\n",
    "print (result)\n",
    "\n",
    "result = a1 + b2\n",
    "print (result)\n",
    "\n",
    "result = a2 + b1\n",
    "print (result)\n",
    "\n",
    "result = a2 + b2\n",
    "print (result)"
   ]
  },
  {
   "cell_type": "code",
   "execution_count": null,
   "id": "887d3c37-f33a-4165-92ee-9c20091cae6f",
   "metadata": {},
   "outputs": [],
   "source": []
  }
 ],
 "metadata": {
  "kernelspec": {
   "display_name": "Python 3 (ipykernel)",
   "language": "python",
   "name": "python3"
  },
  "language_info": {
   "codemirror_mode": {
    "name": "ipython",
    "version": 3
   },
   "file_extension": ".py",
   "mimetype": "text/x-python",
   "name": "python",
   "nbconvert_exporter": "python",
   "pygments_lexer": "ipython3",
   "version": "3.10.9"
  }
 },
 "nbformat": 4,
 "nbformat_minor": 5
}
