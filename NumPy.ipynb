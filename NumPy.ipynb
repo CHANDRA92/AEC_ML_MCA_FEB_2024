{
 "cells": [
  {
   "cell_type": "markdown",
   "id": "ce47c71c-9286-4b8c-82e8-6bcc668e97b0",
   "metadata": {},
   "source": [
    "# **NUMPY: Arrays and Matrices**"
   ]
  },
  {
   "cell_type": "markdown",
   "id": "ec2b8e9c-eba6-4947-a5cf-8a65de1350a5",
   "metadata": {},
   "source": [
    "**NumPy** is an extension to the Python programming language, adding support for large, multi-dimensional (numerical) arrays and matrices, along with a large library of high-level mathematical functions to operate on these arrays. NumPy is having the full form **\"Numeric Python\"**."
   ]
  },
  {
   "cell_type": "code",
   "execution_count": 1,
   "id": "4652cd44-ee22-44c8-89b0-938622a7f47d",
   "metadata": {},
   "outputs": [],
   "source": [
    "# Importing Required module\n",
    "import numpy as np"
   ]
  },
  {
   "cell_type": "markdown",
   "id": "086803c8-3ae6-40d6-bdbd-16213d9906a4",
   "metadata": {},
   "source": [
    "## **Create arrays**"
   ]
  },
  {
   "cell_type": "code",
   "execution_count": 7,
   "id": "c40ee266-6237-45f1-8337-8145d4f1a045",
   "metadata": {},
   "outputs": [
    {
     "name": "stdout",
     "output_type": "stream",
     "text": [
      "[1, 2, 3, 4, 5] 5 <class 'list'> 1829049031936\n",
      "[1 2 3 4 5] <class 'numpy.ndarray'> 5 1829010777424\n"
     ]
    }
   ],
   "source": [
    "# create ndarrays from lists\n",
    "# note: every element must be the same data type (will be converted is possible)\n",
    "data1 = [1, 2, 3, 4, 5]        # list (all are interger data)\n",
    "print(data1, len(data1), type(data1), id(data1))\n",
    "arr1 = np.array(data1)         # 1-D array\n",
    "print (arr1, type(arr1), len(arr1), id(arr1))"
   ]
  },
  {
   "cell_type": "code",
   "execution_count": 8,
   "id": "6daeb7a3-8f90-494a-b1f5-e2af88f903e0",
   "metadata": {},
   "outputs": [
    {
     "name": "stdout",
     "output_type": "stream",
     "text": [
      "[1, 2.5, 3, 4, 5] 5 <class 'list'> 1829035517952\n",
      "[1.  2.5 3.  4.  5. ] <class 'numpy.ndarray'> 5 1829014960336\n"
     ]
    }
   ],
   "source": [
    "# create ndarrays from lists\n",
    "# note: every element must be the same data type (will be converted is possible)\n",
    "data1 = [1, 2.5, 3, 4, 5]      # list (mixed data types)\n",
    "print(data1, len(data1), type(data1), id(data1))\n",
    "arr1 = np.array(data1)         # 1-D array (converted to all float data)\n",
    "print (arr1, type(arr1), len(arr1), id(arr1))"
   ]
  },
  {
   "cell_type": "code",
   "execution_count": 9,
   "id": "cbd4633e-4262-4c11-acc6-be3609f4503d",
   "metadata": {},
   "outputs": [
    {
     "name": "stdout",
     "output_type": "stream",
     "text": [
      "[1, 2.5, '3', 4, 5] 5 <class 'list'> 1829049028608\n",
      "['1' '2.5' '3' '4' '5'] <class 'numpy.ndarray'> 5 1829015557520\n"
     ]
    }
   ],
   "source": [
    "# create ndarrays from lists\n",
    "# note: every element must be the same data type (will be converted is possible)\n",
    "data1 = [1, 2.5, \"3\", 4, 5]      # list (mixed data types)\n",
    "print(data1, len(data1), type(data1), id(data1))\n",
    "arr1 = np.array(data1)         # 1-D array (converted to all float data)\n",
    "print (arr1, type(arr1), len(arr1), id(arr1))"
   ]
  },
  {
   "cell_type": "code",
   "execution_count": 10,
   "id": "1ea48a63-90c0-4e0c-9b1c-f87cc54062f2",
   "metadata": {},
   "outputs": [
    {
     "name": "stdout",
     "output_type": "stream",
     "text": [
      "[1, 2, True, False, 3, 4, 5] 7 <class 'list'> 1829049198336\n",
      "[1 2 1 0 3 4 5] <class 'numpy.ndarray'> 7 1829049162160\n"
     ]
    }
   ],
   "source": [
    "# create ndarrays from lists\n",
    "# note: every element must be the same data type (will be converted is possible)\n",
    "data1 = [1, 2, True, False, 3, 4, 5]      # list (mixed data types)\n",
    "print(data1, len(data1), type(data1), id(data1))\n",
    "arr1 = np.array(data1)         # 1-D array (converted to all float data)\n",
    "print (arr1, type(arr1), len(arr1), id(arr1))"
   ]
  },
  {
   "cell_type": "code",
   "execution_count": 11,
   "id": "fbb5cc6c-d3be-4d6f-9ace-a3994319bfc6",
   "metadata": {},
   "outputs": [
    {
     "name": "stdout",
     "output_type": "stream",
     "text": [
      "[1, 2, True, False, 3, 4.5, '5'] 7 <class 'list'> 1829049114432\n",
      "['1' '2' 'True' 'False' '3' '4.5' '5'] <class 'numpy.ndarray'> 7 1829014959280\n"
     ]
    }
   ],
   "source": [
    "# create ndarrays from lists\n",
    "# note: every element must be the same data type (will be converted is possible)\n",
    "data1 = [1, 2, True, False, 3, 4.5, \"5\"]      # list (mixed data types)\n",
    "print(data1, len(data1), type(data1), id(data1))\n",
    "arr1 = np.array(data1)         # 1-D array (converted to all float data)\n",
    "print (arr1, type(arr1), len(arr1), id(arr1))"
   ]
  },
  {
   "cell_type": "code",
   "execution_count": 50,
   "id": "e83e7106-479b-449e-9c21-a3b7edc070a8",
   "metadata": {},
   "outputs": [
    {
     "name": "stdout",
     "output_type": "stream",
     "text": [
      "[1, 2, 3, 4]\n",
      "[[1, 2, 3, 4], [5, 6, 7, 8]] <class 'list'>\n",
      "[[1 2 3 4]\n",
      " [5 6 7 8]] <class 'numpy.ndarray'>\n",
      "1, 2, 3, 4, 5, 6, 7, 8, "
     ]
    }
   ],
   "source": [
    "print (list(range(1, 5)))             # range function creates a list\n",
    "data2 = [range(1, 5), range(5, 9)]    # list of lists\n",
    "data2 = [[1, 2, 3, 4], [5, 6, 7, 8]]\n",
    "arr2 = np.array(data2)                # 2-D array\n",
    "print (data2, type(data2))\n",
    "print (arr2, type(arr2))\n",
    "for x in np.nditer(arr2):             # iterating over the ndarray\n",
    "    print (x, end = \", \")"
   ]
  },
  {
   "cell_type": "code",
   "execution_count": 17,
   "id": "d2c28ef6-6769-452f-95d0-2ecd3abe24ea",
   "metadata": {},
   "outputs": [
    {
     "name": "stdout",
     "output_type": "stream",
     "text": [
      "[[1, 2, 3, 4], [5, 6, 7, 8]] <class 'list'>\n",
      "[array([1, 2, 3, 4]), array([5, 6, 7, 8])] <class 'list'>\n"
     ]
    }
   ],
   "source": [
    "list2 = arr2.tolist()                  # converting ndarray back to a list\n",
    "print (list2, type(list2))\n",
    "list2 = list(arr2)                     # converting ndarray back to a list\n",
    "print (list2, type(list2))"
   ]
  },
  {
   "cell_type": "code",
   "execution_count": 20,
   "id": "954818fd-955e-4b4a-9a4a-a9e91cee0eff",
   "metadata": {},
   "outputs": [
    {
     "name": "stdout",
     "output_type": "stream",
     "text": [
      "[1, 2, 3, 4, 5]\n",
      "[1 2 3 4 5]\n",
      "[1, 2, 3, 4, 5]\n",
      "[1, 2, 3, 4, 5]\n"
     ]
    }
   ],
   "source": [
    "data1 = [1, 2, 3, 4, 5]        # list (all are interger data)\n",
    "print(data1)\n",
    "arr1 = np.array(data1)         # 1-D array\n",
    "print (arr1)\n",
    "list1 = list(arr1)\n",
    "print(list1)\n",
    "list1 = arr1.tolist()\n",
    "print(list1)"
   ]
  },
  {
   "cell_type": "code",
   "execution_count": 24,
   "id": "415bbc36-feed-4412-bf5d-dd03852565da",
   "metadata": {},
   "outputs": [
    {
     "name": "stdout",
     "output_type": "stream",
     "text": [
      "[11 22 33 44 55] <class 'numpy.ndarray'> 1829073050128\n",
      "[[11 22 33 44]\n",
      " [55 66 77 88]] <class 'numpy.ndarray'> 1829049160624\n",
      "int32 int32\n",
      "(5,) <class 'tuple'>\n",
      "(2, 4) <class 'tuple'>\n",
      "1 2\n",
      "5 8\n",
      "5 2\n"
     ]
    }
   ],
   "source": [
    "# examining arrays\n",
    "arr1 = np.array([11, 22, 33, 44, 55])\n",
    "arr2 = np.array([[11, 22, 33, 44], [55, 66, 77, 88]])\n",
    "print (arr1, type(arr1), id(arr1))\n",
    "print (arr2, type(arr2), id(arr2))\n",
    "print (arr1.dtype, arr2.dtype)         # data type of the array\n",
    "print (arr1.shape, type(arr1.shape))   # shape of the array (5,) => Singleton notation\n",
    "print (arr2.shape, type(arr2.shape))   # shape of the array (2, 4)\n",
    "print (arr1.ndim, arr2.ndim)           # number of dimensions\n",
    "print (arr1.size, arr2.size)           # total number of elements\n",
    "print (len(arr1), len(arr2))           # returns the first dimension"
   ]
  },
  {
   "cell_type": "code",
   "execution_count": 23,
   "id": "dd11a85a-f492-4598-8ad7-fc800ba27c3f",
   "metadata": {},
   "outputs": [
    {
     "name": "stdout",
     "output_type": "stream",
     "text": [
      "5 <class 'int'>\n",
      "(5,) <class 'tuple'>\n"
     ]
    }
   ],
   "source": [
    "var = (5)\n",
    "print (var, type(var))\n",
    "var = (5,)\n",
    "print (var, type(var))"
   ]
  },
  {
   "cell_type": "code",
   "execution_count": 26,
   "id": "6ce44d96-c25a-4ed2-8742-726d5fc9cd23",
   "metadata": {},
   "outputs": [
    {
     "name": "stdout",
     "output_type": "stream",
     "text": [
      "[0. 0. 0. 0. 0. 0. 0. 0. 0. 0.]\n",
      "[0 0 0 0 0 0 0 0 0 0]\n",
      "[0 0 0 0 0 0 0 0 0 0]\n",
      "[[0. 0. 0. 0. 0. 0.]\n",
      " [0. 0. 0. 0. 0. 0.]\n",
      " [0. 0. 0. 0. 0. 0.]]\n",
      "[[0 0 0 0 0 0]\n",
      " [0 0 0 0 0 0]\n",
      " [0 0 0 0 0 0]]\n",
      "[[0 0 0 0 0 0]\n",
      " [0 0 0 0 0 0]\n",
      " [0 0 0 0 0 0]]\n",
      "[5. 5. 5. 5. 5. 5. 5. 5. 5. 5.]\n"
     ]
    }
   ],
   "source": [
    "# create special arrays\n",
    "print (np.zeros(10))\n",
    "print (np.zeros(10, dtype = np.int8))\n",
    "print (np.zeros(10).astype(int))\n",
    "print (np.zeros((3, 6)))\n",
    "print (np.zeros((3, 6), int))\n",
    "print (np.zeros((3, 6)).astype(int))\n",
    "print (np.zeros(10) + 5)"
   ]
  },
  {
   "cell_type": "code",
   "execution_count": 30,
   "id": "7508f1ae-64ea-4792-9faf-6e0ecea1c4a1",
   "metadata": {},
   "outputs": [
    {
     "name": "stdout",
     "output_type": "stream",
     "text": [
      "[1. 1. 1. 1. 1. 1. 1. 1. 1. 1.]\n",
      "[[1. 1. 1. 1. 1. 1.]\n",
      " [1. 1. 1. 1. 1. 1.]\n",
      " [1. 1. 1. 1. 1. 1.]]\n",
      "[1 1 1 1 1 1 1 1 1 1]\n",
      "[[1 1 1 1 1 1]\n",
      " [1 1 1 1 1 1]\n",
      " [1 1 1 1 1 1]]\n",
      "[1 1 1 1 1 1 1 1 1 1]\n",
      "[[1 1 1 1 1 1]\n",
      " [1 1 1 1 1 1]\n",
      " [1 1 1 1 1 1]]\n",
      "[5. 5. 5. 5. 5. 5. 5. 5. 5. 5.]\n"
     ]
    }
   ],
   "source": [
    "print (np.ones(10))\n",
    "print (np.ones((3, 6)))\n",
    "print (np.ones(10, int))\n",
    "print (np.ones((3, 6), np.int8))\n",
    "print (np.ones(10).astype(int))\n",
    "print (np.ones((3, 6)).astype(int))\n",
    "print (np.ones(10) + 4)"
   ]
  },
  {
   "cell_type": "code",
   "execution_count": 33,
   "id": "f87a4b6e-1d74-4c13-8187-b38e363e8816",
   "metadata": {},
   "outputs": [
    {
     "name": "stdout",
     "output_type": "stream",
     "text": [
      "[0.   0.25 0.5  0.75 1.  ]\n",
      "[0.  0.2 0.4 0.6 0.8 1. ]\n"
     ]
    }
   ],
   "source": [
    "print (np.linspace(0, 1, 5))  # 0 to 1 (inclusive) with 5 equi-distant points\n",
    "print (np.linspace(0, 1, 6))"
   ]
  },
  {
   "cell_type": "code",
   "execution_count": 38,
   "id": "18fd4ba9-3637-4821-8030-b270b8d93eda",
   "metadata": {},
   "outputs": [
    {
     "name": "stdout",
     "output_type": "stream",
     "text": [
      "[   1.   10.  100. 1000.]\n",
      "[1. 2. 4. 8.]\n"
     ]
    }
   ],
   "source": [
    "print (np.logspace(0, 3, 4))  # 10^0 to 10^3 (inclusive) with 4 points\n",
    "print (np.logspace(0, 3, 4, base = 2))  # 2^0 to 2^3 (inclusive) with 4 points"
   ]
  },
  {
   "cell_type": "code",
   "execution_count": 51,
   "id": "0929db6f-3ff2-4176-8205-8ac6f13ded8b",
   "metadata": {},
   "outputs": [
    {
     "name": "stdout",
     "output_type": "stream",
     "text": [
      "[0, 1, 2, 3, 4] <class 'int'> <class 'list'>\n",
      "[0 1 2 3 4] int32 <class 'numpy.ndarray'>\n",
      "[0. 1. 2. 3. 4.] float64 <class 'numpy.ndarray'>\n"
     ]
    }
   ],
   "source": [
    "# arange is like range, except it returns an array (but not a list)\n",
    "int_list = list(range(5))\n",
    "print (int_list, type(int_list[0]), type(int_list))\n",
    "int_array = np.arange(5)\n",
    "print (int_array, int_array.dtype, type(int_array))\n",
    "float_array = int_array.astype(float)\n",
    "print (float_array, float_array.dtype, type(float_array))"
   ]
  },
  {
   "cell_type": "markdown",
   "id": "5cd4c80b-f0d4-42c6-84af-49777e34575f",
   "metadata": {},
   "source": [
    "## **Reshaping**"
   ]
  },
  {
   "cell_type": "code",
   "execution_count": 43,
   "id": "5fc00a4f-d003-47c7-b90b-b5c154327534",
   "metadata": {},
   "outputs": [
    {
     "name": "stdout",
     "output_type": "stream",
     "text": [
      "[0. 1. 2. 3. 4. 5. 6. 7. 8. 9.] float64 <class 'numpy.ndarray'> (10,)\n",
      "[[0. 1. 2. 3. 4.]\n",
      " [5. 6. 7. 8. 9.]] float64 <class 'numpy.ndarray'> (2, 5)\n",
      "[[0. 1. 2. 3. 4.]\n",
      " [5. 6. 7. 8. 9.]] float64 <class 'numpy.ndarray'> (2, 5)\n"
     ]
    }
   ],
   "source": [
    "matrix = np.arange(10, dtype = float)\n",
    "print (matrix, matrix.dtype, type(matrix), matrix.shape)\n",
    "matrix1 = matrix.reshape((2, 5))\n",
    "print (matrix1, matrix1.dtype, type(matrix1), matrix1.shape)\n",
    "matrix1 = matrix.reshape((2, -1))\n",
    "print (matrix1, matrix1.dtype, type(matrix1), matrix1.shape)"
   ]
  },
  {
   "cell_type": "code",
   "execution_count": 44,
   "id": "11a7e18f-9580-4845-ab68-4815d794e473",
   "metadata": {},
   "outputs": [
    {
     "name": "stdout",
     "output_type": "stream",
     "text": [
      "[[0 1 2 3 4]\n",
      " [5 6 7 8 9]] int32 <class 'numpy.ndarray'> (2, 5)\n",
      "[[0 1 2 3 4]\n",
      " [5 6 7 8 9]] int32 <class 'numpy.ndarray'> (2, 5)\n"
     ]
    }
   ],
   "source": [
    "matrix1 = matrix.reshape((2, 5)).astype(int)\n",
    "print (matrix1, matrix1.dtype, type(matrix1), matrix1.shape)\n",
    "matrix1 = matrix.astype(int).reshape((2, 5))\n",
    "print (matrix1, matrix1.dtype, type(matrix1), matrix1.shape)"
   ]
  },
  {
   "cell_type": "code",
   "execution_count": 48,
   "id": "eb07ff90-9105-4a34-a6b1-53ab750f88c4",
   "metadata": {},
   "outputs": [
    {
     "name": "stdout",
     "output_type": "stream",
     "text": [
      "[[0. 1. 2. 3. 4.]\n",
      " [5. 6. 7. 8. 9.]] float64 <class 'numpy.ndarray'> (2, 5)\n",
      "[[0. 5.]\n",
      " [1. 6.]\n",
      " [2. 7.]\n",
      " [3. 8.]\n",
      " [4. 9.]] float64 <class 'numpy.ndarray'> (5, 2)\n",
      "[[0. 5.]\n",
      " [1. 6.]\n",
      " [2. 7.]\n",
      " [3. 8.]\n",
      " [4. 9.]] float64 <class 'numpy.ndarray'> (5, 2)\n"
     ]
    }
   ],
   "source": [
    "# transpose of a matrix\n",
    "matrix = np.arange(10, dtype = float).reshape(2, 5)\n",
    "print (matrix, matrix.dtype, type(matrix), matrix.shape)\n",
    "matrix1 = matrix.T\n",
    "print (matrix1, matrix1.dtype, type(matrix1), matrix1.shape)\n",
    "matrix1 = matrix.transpose()\n",
    "print (matrix1, matrix1.dtype, type(matrix1), matrix1.shape)"
   ]
  },
  {
   "cell_type": "code",
   "execution_count": 49,
   "id": "0fce87c8-80f0-4537-b2c8-a1dc4eec192d",
   "metadata": {},
   "outputs": [
    {
     "name": "stdout",
     "output_type": "stream",
     "text": [
      "[[0. 1. 2. 3. 4.]\n",
      " [5. 6. 7. 8. 9.]] float64 <class 'numpy.ndarray'> (2, 5)\n",
      "[0. 1. 2. 3. 4. 5. 6. 7. 8. 9.] float64 <class 'numpy.ndarray'> (10,)\n"
     ]
    }
   ],
   "source": [
    "# transpose of a matrix\n",
    "matrix = np.arange(10, dtype = float).reshape(2, 5)\n",
    "print (matrix, matrix.dtype, type(matrix), matrix.shape)\n",
    "matrix1 = matrix.flatten()\n",
    "print (matrix1, matrix1.dtype, type(matrix1), matrix1.shape)"
   ]
  },
  {
   "cell_type": "code",
   "execution_count": 53,
   "id": "8575d246-3b18-4245-a37d-5efa1d57e6e6",
   "metadata": {},
   "outputs": [
    {
     "name": "stdout",
     "output_type": "stream",
     "text": [
      "[[0. 1. 2. 3. 4.]\n",
      " [5. 6. 7. 8. 9.]]\n",
      "\n",
      "Stored in C-style order (Row Major):\n",
      "[[0. 1. 2. 3. 4.]\n",
      " [5. 6. 7. 8. 9.]]\n",
      "0.0, 1.0, 2.0, 3.0, 4.0, 5.0, 6.0, 7.0, 8.0, 9.0, \n"
     ]
    }
   ],
   "source": [
    "matrix = np.arange(10, dtype = float).reshape((2, 5))\n",
    "print (matrix)\n",
    "\n",
    "print ('\\nStored in C-style order (Row Major):')\n",
    "cmatrix = matrix.copy(order = 'C')\n",
    "print (cmatrix)\n",
    "for x in np.nditer(cmatrix):\n",
    "    print (x, end = \", \")\n",
    "print ()"
   ]
  },
  {
   "cell_type": "code",
   "execution_count": 54,
   "id": "c8ca5d40-2390-4593-b558-b78f243a6ec3",
   "metadata": {},
   "outputs": [
    {
     "name": "stdout",
     "output_type": "stream",
     "text": [
      "[[0. 1. 2. 3. 4.]\n",
      " [5. 6. 7. 8. 9.]]\n",
      "\n",
      "Stored in F-style order (Column Major):\n",
      "[[0. 1. 2. 3. 4.]\n",
      " [5. 6. 7. 8. 9.]]\n",
      "0.0, 5.0, 1.0, 6.0, 2.0, 7.0, 3.0, 8.0, 4.0, 9.0, "
     ]
    }
   ],
   "source": [
    "matrix = np.arange(10, dtype = float).reshape((2, 5))\n",
    "print (matrix)\n",
    "\n",
    "print ('\\nStored in F-style order (Column Major):')\n",
    "fmatrix = matrix.copy(order = 'F')\n",
    "print (fmatrix)\n",
    "for x in np.nditer(fmatrix):\n",
    "    print (x, end = \", \")"
   ]
  },
  {
   "cell_type": "markdown",
   "id": "8e329333-7e6d-4d1d-b297-ad95b36ee138",
   "metadata": {},
   "source": [
    "## **Append, Insert, Delete and Sort**"
   ]
  },
  {
   "cell_type": "code",
   "execution_count": 55,
   "id": "4d32ede0-0a69-4268-999f-1a4623d0ae5b",
   "metadata": {},
   "outputs": [
    {
     "name": "stdout",
     "output_type": "stream",
     "text": [
      "[0 1 2 3 4 5 6 7 8 9] int8 <class 'numpy.ndarray'> (10,)\n",
      "[ 0  1  2  3  4  5  6  7  8  9 10 11 12] int32 <class 'numpy.ndarray'> (13,)\n",
      "[ 0  1  2 13 14 15  3  4  5  6  7  8  9 10 11 12] int32 <class 'numpy.ndarray'> (16,)\n"
     ]
    }
   ],
   "source": [
    "matrix = np.arange(10, dtype = np.int8)\n",
    "print (matrix, matrix.dtype, type(matrix), matrix.shape)\n",
    "matrix = np.append(matrix, [10, 11, 12])\n",
    "print (matrix, matrix.dtype, type(matrix), matrix.shape)\n",
    "matrix = np.insert(matrix, 3, [13, 14, 15])\n",
    "print (matrix, matrix.dtype, type(matrix), matrix.shape)"
   ]
  },
  {
   "cell_type": "code",
   "execution_count": 60,
   "id": "0e1bd14f-aeeb-4a38-b9ee-ecc6418dde30",
   "metadata": {},
   "outputs": [
    {
     "name": "stdout",
     "output_type": "stream",
     "text": [
      "[100 101 102 103 104 105 106 107 108 109] int8 <class 'numpy.ndarray'> (10,)\n",
      "[100 101 102 103 104 108 109] int8 <class 'numpy.ndarray'> (7,)\n",
      "[100 101 102 103 104 105 106 107 108 109] int8 <class 'numpy.ndarray'> (10,)\n",
      "[100 101 102 103 104 108 109] int8 <class 'numpy.ndarray'> (7,)\n"
     ]
    }
   ],
   "source": [
    "matrix = np.arange(10, dtype = np.int8) + 100\n",
    "print (matrix, matrix.dtype, type(matrix), matrix.shape)\n",
    "matrix = np.delete(matrix, [5, 6, 7])\n",
    "print (matrix, matrix.dtype, type(matrix), matrix.shape)\n",
    "\n",
    "matrix = np.arange(10, dtype = np.int8) + 100\n",
    "print (matrix, matrix.dtype, type(matrix), matrix.shape)\n",
    "matrix = np.delete(matrix, range(5, 8))\n",
    "print (matrix, matrix.dtype, type(matrix), matrix.shape)"
   ]
  },
  {
   "cell_type": "code",
   "execution_count": 64,
   "id": "87a1dcd5-5c5a-41bc-9961-66bec2af0487",
   "metadata": {},
   "outputs": [
    {
     "name": "stdout",
     "output_type": "stream",
     "text": [
      "[200 300 100 500 450 250 900] int32 <class 'numpy.ndarray'> (7,)\n",
      "[100 200 250 300 450 500 900] int32 <class 'numpy.ndarray'> (7,)\n",
      "\n",
      "[200 300 100 500 450 250 900] int32 <class 'numpy.ndarray'> (7,)\n",
      "[200 300 100 500 450 250 900] [-200 -300 -100 -500 -450 -250 -900]\n",
      "[900 500 450 300 250 200 100] int32 <class 'numpy.ndarray'> (7,)\n"
     ]
    }
   ],
   "source": [
    "matrix = np.array([200, 300, 100, 500, 450, 250, 900])\n",
    "print (matrix, matrix.dtype, type(matrix), matrix.shape)\n",
    "matrix = np.sort(matrix)    # sort in the ascending order\n",
    "print (matrix, matrix.dtype, type(matrix), matrix.shape)\n",
    "print()\n",
    "matrix = np.array([200, 300, 100, 500, 450, 250, 900])\n",
    "print (matrix, matrix.dtype, type(matrix), matrix.shape)\n",
    "print (matrix, -matrix)\n",
    "matrix = -np.sort(-matrix)    # sort in the descending order\n",
    "print (matrix, matrix.dtype, type(matrix), matrix.shape)"
   ]
  },
  {
   "cell_type": "code",
   "execution_count": 71,
   "id": "5c0429c4-66ef-4120-91a5-0cb54c41399a",
   "metadata": {},
   "outputs": [
    {
     "name": "stdout",
     "output_type": "stream",
     "text": [
      "[10.  9.  8.  7.  6.  5.  4.  3.  2.  1.]\n",
      "[10  9  8  7  6  5  4  3  2  1]\n",
      "[100.  95.  90.  85.  80.  75.  70.  65.  60.  55.]\n"
     ]
    }
   ],
   "source": [
    "arr1 = np.arange(10, 0, -1, dtype = float)\n",
    "print (arr1)\n",
    "arr1 = np.arange(10, 0, -1)\n",
    "print (arr1)\n",
    "arr1 = np.arange(100, 50, -5, dtype = float)\n",
    "print (arr1)\n"
   ]
  },
  {
   "cell_type": "markdown",
   "id": "ed95d45d-d102-4830-a21a-f785fbce2c24",
   "metadata": {},
   "source": [
    "## **Concatenation and Stack of 2 Arrays**"
   ]
  },
  {
   "cell_type": "code",
   "execution_count": 65,
   "id": "029e88e7-669b-4911-9cc8-82c5553bd0c4",
   "metadata": {},
   "outputs": [
    {
     "name": "stdout",
     "output_type": "stream",
     "text": [
      "First array:\n",
      "[[1 2]\n",
      " [3 4]]\n",
      "\n",
      "\n",
      "Second array:\n",
      "[[5 6]\n",
      " [7 8]]\n",
      "\n",
      "\n"
     ]
    }
   ],
   "source": [
    "a=np.array([[1, 2], [3, 4]])\n",
    "print ('First array:')\n",
    "print (a)\n",
    "print ('\\n')\n",
    "\n",
    "b = np.array([[5, 6], [7, 8]])\n",
    "print ('Second array:')\n",
    "print (b)\n",
    "print ('\\n')"
   ]
  },
  {
   "cell_type": "code",
   "execution_count": 66,
   "id": "da787ff1-03a7-4e34-b3c4-6191f1ddac46",
   "metadata": {},
   "outputs": [
    {
     "name": "stdout",
     "output_type": "stream",
     "text": [
      "Joining the two arrays along axis 0:\n",
      "[[1 2]\n",
      " [3 4]\n",
      " [5 6]\n",
      " [7 8]]\n",
      "\n",
      "\n"
     ]
    }
   ],
   "source": [
    "# both the arrays are of same dimensions\n",
    "print ('Joining the two arrays along axis 0:')\n",
    "print (np.concatenate((a, b)))\n",
    "print ('\\n')"
   ]
  },
  {
   "cell_type": "code",
   "execution_count": 67,
   "id": "991fae58-841a-4bfa-9b8b-a676888224d1",
   "metadata": {},
   "outputs": [
    {
     "name": "stdout",
     "output_type": "stream",
     "text": [
      "Joining the two arrays along axis 1:\n",
      "[[1 2 5 6]\n",
      " [3 4 7 8]]\n"
     ]
    }
   ],
   "source": [
    "print ('Joining the two arrays along axis 1:')\n",
    "print (np.concatenate((a, b), axis=1))"
   ]
  },
  {
   "cell_type": "code",
   "execution_count": null,
   "id": "962348fa-444a-402e-a8c4-4c48ae0b5139",
   "metadata": {},
   "outputs": [],
   "source": []
  }
 ],
 "metadata": {
  "kernelspec": {
   "display_name": "Python 3 (ipykernel)",
   "language": "python",
   "name": "python3"
  },
  "language_info": {
   "codemirror_mode": {
    "name": "ipython",
    "version": 3
   },
   "file_extension": ".py",
   "mimetype": "text/x-python",
   "name": "python",
   "nbconvert_exporter": "python",
   "pygments_lexer": "ipython3",
   "version": "3.10.9"
  }
 },
 "nbformat": 4,
 "nbformat_minor": 5
}
